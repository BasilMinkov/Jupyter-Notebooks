{
 "cells": [
  {
   "cell_type": "code",
   "execution_count": 1,
   "metadata": {},
   "outputs": [],
   "source": [
    "import numpy as np"
   ]
  },
  {
   "cell_type": "code",
   "execution_count": 45,
   "metadata": {},
   "outputs": [
    {
     "data": {
      "text/plain": [
       "'   1    2    3    4    5    6    7    8    9  -82  -81  -80  -79  -78  -77  -76  -75  -74  -73  -72  -71  -70  -69  -68  -67  -66  -65 -107 -106 -105 -104 -103 -102 -101 -100  -99  -98  -97  202  203  204  205  206  207  208  209  210  211   32   33   34   35   36   37   38   39   40   41   42   43   44   45   46   47   48   49   50   51   52   53   54   55   56   57   58   59   60   61   62   63   64  151  152  153  154  155  156  157  158  159  160  161  162  163  164  165  166  167  168  169  170  171  172  173  174  175  176  177  178  179  180  181  182  183  184  185  186  187  188  189  190  191  192  193  194  195  196   14   15   16   17   18   19   20   21   22   23   24   25   26   27   28   29   30   31  -96  -95  133  132  131  134  135  136  137  138  139  140  141  142  143  144  145  146  147  148  149  150 -130 -129 -128 -127 -126 -125 -124 -123 -122 -121 -120 -119 -118 -117 -116 -115 -114 -113 -112 -111 -110 -109 -108  196  197  198  199  200  201  202  -13  -12  -11  -10   83   84   85   86   87   88   89   90   91   92   93   94'"
      ]
     },
     "execution_count": 45,
     "metadata": {},
     "output_type": "execute_result"
    }
   ],
   "source": [
    "str(np.concatenate(\n",
    "    [\n",
    "    np.arange(1, 9+1), ##\n",
    "    -1*np.arange(65, 82+1)[::-1], ##\n",
    "    -1*np.arange(97, 107+1)[::-1], ##\n",
    "    np.arange(202, 212), # \n",
    "    np.arange(32, 64+1), #\n",
    "    np.arange(151, 151+45+1), #\n",
    "    np.arange(14, 31+1), #\n",
    "    -1*np.arange(95, 96+1)[::-1], #\n",
    "    np.arange(131, 133+1)[::-1], #\n",
    "    np.arange(134, 150+1), #\n",
    "    -1*np.arange(108, 130+1)[::-1], #\n",
    "    np.arange(196, 196+6+1), #\n",
    "    -1*np.arange(10, 13+1)[::-1],\n",
    "    np.arange(83, 94+1)\n",
    "    ], \n",
    "    axis=0\n",
    ")).replace(\"[\", \"\").replace(\"]\", \"\").replace(\"\\n\", \"\")"
   ]
  },
  {
   "cell_type": "code",
   "execution_count": 46,
   "metadata": {},
   "outputs": [
    {
     "data": {
      "text/plain": [
       "'  1   2   3   4   5   6   7   8   9  10  11  12  13  14  15  16  17  18  19  20  21  22  23  24  25  26  27  28  29  30  31  32  33  34  35  36  37  38  39  40  41  42  43  44  45  46  47  48  49  50  51  52  53  54  55  56  57  58  59  60  61  62  63  64  65  66  67  68  69  70  71  72  73  74  75  76  77  78  79  80  81  82  83  84  85  86  87  88  89  90  91  92  93  94  95  96  97  98  99 100 101 102 103 104 105 106 107 108 109 110 111 112 113 114 115 116 117 118 119 120 121 122 123 124 125 126 127 128 129 130 131 132 133 134 135 136 137 138 139 140 141 142 143 144 145 146 147 148 149 150 151 152 153 154 155 156 157 158 159 160 161 162 163 164 165 166 167 168 169 170 171 172 173 174 175 176 177 178 179 180 181 182 183 184 185 186 187 188 189 190 191 192 193 194 195 196 197 198 199 200 201 202 203 204 205 206 207 208 209 210 211'"
      ]
     },
     "execution_count": 46,
     "metadata": {},
     "output_type": "execute_result"
    }
   ],
   "source": [
    "str(np.arange(1, 212)).replace(\"[\", \"\").replace(\"]\", \"\").replace(\"\\n\", \"\")"
   ]
  },
  {
   "cell_type": "code",
   "execution_count": 16,
   "metadata": {},
   "outputs": [
    {
     "data": {
      "text/plain": [
       "6"
      ]
     },
     "execution_count": 16,
     "metadata": {},
     "output_type": "execute_result"
    }
   ],
   "source": [
    "199-193"
   ]
  },
  {
   "cell_type": "code",
   "execution_count": 40,
   "metadata": {},
   "outputs": [
    {
     "data": {
      "text/plain": [
       "44"
      ]
     },
     "execution_count": 40,
     "metadata": {},
     "output_type": "execute_result"
    }
   ],
   "source": [
    "128 - 84"
   ]
  },
  {
   "cell_type": "code",
   "execution_count": 42,
   "metadata": {},
   "outputs": [
    {
     "data": {
      "text/plain": [
       "(202,)"
      ]
     },
     "execution_count": 42,
     "metadata": {},
     "output_type": "execute_result"
    }
   ],
   "source": [
    "np.concatenate(\n",
    "    [\n",
    "    np.arange(1, 9+1), #\n",
    "    -1*np.arange(65, 82+1)[::-1], #\n",
    "    -1*np.arange(97, 107+1)[::-1], #\n",
    "    np.arange(32, 64+1),\n",
    "    np.arange(151, 151+45+1), \n",
    "    np.arange(14, 31+1), \n",
    "    -1*np.arange(95, 96+1)[::-1],\n",
    "    np.arange(131, 133+1)[::-1],\n",
    "    np.arange(134, 150+1),\n",
    "    -1*np.arange(108, 130+1)[::-1],\n",
    "    np.arange(196, 195+6+1),\n",
    "    -1*np.arange(10, 13+1)[::-1],\n",
    "    np.arange(83, 94+1)\n",
    "    ],axis=0).shape"
   ]
  },
  {
   "cell_type": "code",
   "execution_count": null,
   "metadata": {},
   "outputs": [],
   "source": []
  }
 ],
 "metadata": {
  "kernelspec": {
   "display_name": "Python 3",
   "language": "python",
   "name": "python3"
  },
  "language_info": {
   "codemirror_mode": {
    "name": "ipython",
    "version": 3
   },
   "file_extension": ".py",
   "mimetype": "text/x-python",
   "name": "python",
   "nbconvert_exporter": "python",
   "pygments_lexer": "ipython3",
   "version": "3.7.1"
  }
 },
 "nbformat": 4,
 "nbformat_minor": 2
}
