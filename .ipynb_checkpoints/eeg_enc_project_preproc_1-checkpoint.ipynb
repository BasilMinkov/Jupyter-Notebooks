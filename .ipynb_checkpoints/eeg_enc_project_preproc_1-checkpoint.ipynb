{
 "cells": [
  {
   "cell_type": "code",
   "execution_count": 1,
   "metadata": {
    "collapsed": true
   },
   "outputs": [],
   "source": [
    "main_path = './eeg_enc/train'"
   ]
  },
  {
   "cell_type": "markdown",
   "metadata": {},
   "source": [
    "Various functions"
   ]
  },
  {
   "cell_type": "code",
   "execution_count": 13,
   "metadata": {
    "collapsed": true
   },
   "outputs": [],
   "source": [
    "\n",
    "from os import listdir, remove\n",
    "from os.path import isfile, join,splitext,exists\n",
    "\n",
    "import numpy as np\n",
    "import mne\n",
    "import h5py\n",
    "from plot_utils import plot_psd\n",
    "from sklearn.metrics import mutual_info_score\n",
    "import matplotlib.pyplot as plt\n",
    "\n",
    "def eye_cleaner(eeg_instance,filename):\n",
    "    ica = mne.preprocessing.ICA(method='extended-infomax', max_iter=300, verbose='INFO')\n",
    "    ica.fit(eeg_instance,verbose='INFO')\n",
    "    sources = ica.get_sources(eeg_instance)\n",
    "    S = sources.get_data()\n",
    "    X = eeg_instance.get_data()\n",
    "    eog_channels = [eeg_instance.ch_names.index('HEOG'), eeg_instance.ch_names.index('VEOG')]\n",
    "    mu_coefs = np.zeros((S.shape[0]))\n",
    "    for eog in eog_channels:\n",
    "        for i in range(S.shape[0]):\n",
    "            mu_coefs[i] += mutual_information(X[eog,:].ravel(),S[i,:].ravel(),\n",
    "                                              int(S.shape[1]/eeg_instance.info['sfreq']))\n",
    "    del X,S\n",
    "    upper_bound  = outliers_iqr(mu_coefs)    \n",
    "    mu_coefs_sorted_idx = np.flip(np.argsort(mu_coefs),axis=0)\n",
    "    fig = plt.figure()\n",
    "    plt.plot(np.full(mu_coefs.size,upper_bound))\n",
    "    plt.plot(mu_coefs[mu_coefs_sorted_idx])\n",
    "    plt.savefig(filename + '_MI_plato')\n",
    "    plt.close(fig)\n",
    "    ex_comps = mu_coefs_sorted_idx[mu_coefs[mu_coefs_sorted_idx] > upper_bound].ravel().tolist()\n",
    "    inc_comps = [i for i in np.arange(len(sources.ch_names))  if not i in ex_comps]\n",
    "    print('[Debug] Bad comps {0}, good comps {1} '.format(ex_comps,inc_comps))\n",
    "    clear_eeg = eeg_instance.copy()\n",
    "    clear_eeg = ica.apply(clear_eeg,inc_comps,ex_comps)\n",
    "    clear_eeg = clear_eeg.drop_channels(['HEOG','VEOG'])\n",
    "    ch_names_wo_eog = clear_eeg.ch_names\n",
    "    clear_eeg = clear_eeg.drop_channels(eeg_instance.info['bads'])\n",
    "    n_channels = len(ch_names_wo_eog)\n",
    "    print('[Debug] Channels: ', ch_names_wo_eog, n_channels)\n",
    "    mask_ch_idx = [ch_names_wo_eog.index(ch) for ch in ch_names_wo_eog \n",
    "                   if not ch in (eeg_instance.info['bads'])]\n",
    "    return clear_eeg.get_data(), n_channels,ch_names_wo_eog, mask_ch_idx\n",
    "\n",
    "def outliers_iqr(signal):\n",
    "    quartile_1, quartile_3 = np.percentile(signal, [25, 75])\n",
    "    iqr = quartile_3 - quartile_1\n",
    "    upper_bound = quartile_3 + (iqr * 1.5)\n",
    "    return upper_bound\n",
    "    \n",
    "        \n",
    "\n",
    "def mutual_information(x, y, bins):\n",
    "    c_xy = np.histogram2d(x, y, bins)[0]\n",
    "    mi = mutual_info_score(None, None, contingency=c_xy)\n",
    "    return mi\n",
    "\n",
    "\n",
    "\n",
    "\n",
    "def finalize_data(data, n_channels, mask_ch_idx):\n",
    "    final_data = np.zeros((n_channels, data.shape[1]))\n",
    "    final_data[mask_ch_idx,:] = data\n",
    "    return final_data\n",
    "    \n",
    "\n",
    "    \n",
    "def save_postprocessed(data,ch_names, sampling_rate,mask_ch_idx, file_name, **kwargs):\n",
    "    data_dict = {'data':data}\n",
    "    attrs_dict = {'channel_names':[x.encode('utf-8') for x in ch_names],\n",
    "                  'sampling_rate':sampling_rate,\n",
    "                  'mask_ch_idx':mask_ch_idx}\n",
    "    if exists(file_name +'_processed.h5'):\n",
    "        remove(file_name +'_processed.h5')\n",
    "    hf = h5py.File(file_name + '_processed.h5', 'a' )\n",
    "    for key,value in data_dict.items():\n",
    "        hf.create_dataset(key,data=value,compression=kwargs['compression'],\n",
    "                          compression_opts=kwargs['compression_opts'])\n",
    "    for key,value in attrs_dict.items():\n",
    "        hf.attrs[key] = value\n",
    "    hf.close()\n",
    "    \n"
   ]
  },
  {
   "cell_type": "markdown",
   "metadata": {},
   "source": [
    "Get psd plots for every participant"
   ]
  },
  {
   "cell_type": "code",
   "execution_count": 4,
   "metadata": {},
   "outputs": [
    {
     "data": {
      "application/vnd.jupyter.widget-view+json": {
       "model_id": "4a21c0539b9d4b3099d46eef12081629",
       "version_major": 2,
       "version_minor": 0
      },
      "text/html": [
       "<p>Failed to display Jupyter Widget of type <code>HBox</code>.</p>\n",
       "<p>\n",
       "  If you're reading this message in the Jupyter Notebook or JupyterLab Notebook, it may mean\n",
       "  that the widgets JavaScript is still loading. If this message persists, it\n",
       "  likely means that the widgets JavaScript library is either not installed or\n",
       "  not enabled. See the <a href=\"https://ipywidgets.readthedocs.io/en/stable/user_install.html\">Jupyter\n",
       "  Widgets Documentation</a> for setup instructions.\n",
       "</p>\n",
       "<p>\n",
       "  If you're reading this message in another frontend (for example, a static\n",
       "  rendering on GitHub or <a href=\"https://nbviewer.jupyter.org/\">NBViewer</a>),\n",
       "  it may mean that your frontend doesn't currently support widgets.\n",
       "</p>\n"
      ],
      "text/plain": [
       "HBox(children=(IntProgress(value=0, max=32), HTML(value='')))"
      ]
     },
     "metadata": {},
     "output_type": "display_data"
    },
    {
     "name": "stdout",
     "output_type": "stream",
     "text": [
      "Extracting parameters from ./eeg_enc/train/pre_egg_petuhova3103.vhdr...\n",
      "Setting channel info structure...\n",
      "Reading 0 ... 602749  =      0.000 ...   602.749 secs...\n",
      "Setting up band-stop filter from 49 - 51 Hz\n"
     ]
    },
    {
     "name": "stderr",
     "output_type": "stream",
     "text": [
      "[Parallel(n_jobs=4)]: Done  16 tasks      | elapsed:    0.6s\n",
      "[Parallel(n_jobs=4)]: Done  40 out of  60 | elapsed:    1.0s remaining:    0.5s\n"
     ]
    },
    {
     "name": "stdout",
     "output_type": "stream",
     "text": [
      "Setting up band-pass filter from 1 - 1e+02 Hz\n"
     ]
    },
    {
     "name": "stderr",
     "output_type": "stream",
     "text": [
      "[Parallel(n_jobs=4)]: Done  60 out of  60 | elapsed:    1.4s finished\n",
      "[Parallel(n_jobs=4)]: Done  16 tasks      | elapsed:    0.5s\n",
      "[Parallel(n_jobs=4)]: Done  40 out of  60 | elapsed:    1.0s remaining:    0.5s\n",
      "[Parallel(n_jobs=4)]: Done  60 out of  60 | elapsed:    1.4s finished\n"
     ]
    },
    {
     "name": "stdout",
     "output_type": "stream",
     "text": [
      "./eeg_enc/train/pre_egg_petuhova3103_psd_light_preproc.png\n",
      "Extracting parameters from ./eeg_enc/train/200317_ivanova_pre_eeg.vhdr...\n",
      "Setting channel info structure...\n",
      "Reading 0 ... 602099  =      0.000 ...   602.099 secs...\n",
      "Setting up band-stop filter from 49 - 51 Hz\n"
     ]
    },
    {
     "name": "stderr",
     "output_type": "stream",
     "text": [
      "[Parallel(n_jobs=4)]: Done  16 tasks      | elapsed:    0.5s\n",
      "[Parallel(n_jobs=4)]: Done  40 out of  60 | elapsed:    0.9s remaining:    0.5s\n"
     ]
    },
    {
     "name": "stdout",
     "output_type": "stream",
     "text": [
      "Setting up band-pass filter from 1 - 1e+02 Hz\n"
     ]
    },
    {
     "name": "stderr",
     "output_type": "stream",
     "text": [
      "[Parallel(n_jobs=4)]: Done  60 out of  60 | elapsed:    1.2s finished\n",
      "[Parallel(n_jobs=4)]: Done  16 tasks      | elapsed:    0.5s\n",
      "[Parallel(n_jobs=4)]: Done  40 out of  60 | elapsed:    0.9s remaining:    0.4s\n",
      "[Parallel(n_jobs=4)]: Done  60 out of  60 | elapsed:    1.2s finished\n"
     ]
    },
    {
     "name": "stdout",
     "output_type": "stream",
     "text": [
      "./eeg_enc/train/200317_ivanova_pre_eeg_psd_light_preproc.png\n",
      "Extracting parameters from ./eeg_enc/train/2704_zagirova_post_eeg.vhdr...\n",
      "Setting channel info structure...\n",
      "Reading 0 ... 604549  =      0.000 ...   604.549 secs...\n",
      "Setting up band-stop filter from 49 - 51 Hz\n"
     ]
    },
    {
     "name": "stderr",
     "output_type": "stream",
     "text": [
      "[Parallel(n_jobs=4)]: Done  12 tasks      | elapsed:    0.3s\n",
      "[Parallel(n_jobs=4)]: Done  40 out of  60 | elapsed:    0.9s remaining:    0.4s\n",
      "[Parallel(n_jobs=4)]: Done  60 out of  60 | elapsed:    1.2s finished\n"
     ]
    },
    {
     "name": "stdout",
     "output_type": "stream",
     "text": [
      "Setting up band-pass filter from 1 - 1e+02 Hz\n"
     ]
    },
    {
     "name": "stderr",
     "output_type": "stream",
     "text": [
      "[Parallel(n_jobs=4)]: Done  16 tasks      | elapsed:    0.5s\n",
      "[Parallel(n_jobs=4)]: Done  40 out of  60 | elapsed:    0.9s remaining:    0.4s\n",
      "[Parallel(n_jobs=4)]: Done  60 out of  60 | elapsed:    1.2s finished\n"
     ]
    },
    {
     "name": "stdout",
     "output_type": "stream",
     "text": [
      "./eeg_enc/train/2704_zagirova_post_eeg_psd_light_preproc.png\n",
      "Extracting parameters from ./eeg_enc/train/2003_ivanova_post_eeg.vhdr...\n",
      "Setting channel info structure...\n",
      "Reading 0 ... 616599  =      0.000 ...   616.599 secs...\n",
      "Setting up band-stop filter from 49 - 51 Hz\n"
     ]
    },
    {
     "name": "stderr",
     "output_type": "stream",
     "text": [
      "[Parallel(n_jobs=4)]: Done  12 tasks      | elapsed:    0.3s\n",
      "[Parallel(n_jobs=4)]: Done  40 out of  60 | elapsed:    0.9s remaining:    0.5s\n",
      "[Parallel(n_jobs=4)]: Done  60 out of  60 | elapsed:    1.3s finished\n"
     ]
    },
    {
     "name": "stdout",
     "output_type": "stream",
     "text": [
      "Setting up band-pass filter from 1 - 1e+02 Hz\n"
     ]
    },
    {
     "name": "stderr",
     "output_type": "stream",
     "text": [
      "[Parallel(n_jobs=4)]: Done  12 tasks      | elapsed:    0.3s\n",
      "[Parallel(n_jobs=4)]: Done  40 out of  60 | elapsed:    0.9s remaining:    0.5s\n",
      "[Parallel(n_jobs=4)]: Done  60 out of  60 | elapsed:    1.2s finished\n"
     ]
    },
    {
     "name": "stdout",
     "output_type": "stream",
     "text": [
      "./eeg_enc/train/2003_ivanova_post_eeg_psd_light_preproc.png\n",
      "Extracting parameters from ./eeg_enc/train/shuhova_08022017_rest_eeg.vhdr...\n",
      "Setting channel info structure...\n",
      "Reading 0 ... 637949  =      0.000 ...   637.949 secs...\n",
      "Setting up band-stop filter from 49 - 51 Hz\n"
     ]
    },
    {
     "name": "stderr",
     "output_type": "stream",
     "text": [
      "[Parallel(n_jobs=4)]: Done  12 tasks      | elapsed:    0.3s\n",
      "[Parallel(n_jobs=4)]: Done  60 out of  60 | elapsed:    1.1s finished\n"
     ]
    },
    {
     "name": "stdout",
     "output_type": "stream",
     "text": [
      "Setting up band-pass filter from 1 - 1e+02 Hz\n"
     ]
    },
    {
     "name": "stderr",
     "output_type": "stream",
     "text": [
      "[Parallel(n_jobs=4)]: Done  12 tasks      | elapsed:    0.3s\n",
      "[Parallel(n_jobs=4)]: Done  40 out of  60 | elapsed:    0.9s remaining:    0.5s\n",
      "[Parallel(n_jobs=4)]: Done  60 out of  60 | elapsed:    1.3s finished\n"
     ]
    },
    {
     "name": "stdout",
     "output_type": "stream",
     "text": [
      "./eeg_enc/train/shuhova_08022017_rest_eeg_psd_light_preproc.png\n",
      "Extracting parameters from ./eeg_enc/train/glebko_2103_pre_eeg.vhdr...\n",
      "Setting channel info structure...\n",
      "Reading 0 ... 643749  =      0.000 ...   643.749 secs...\n",
      "Setting up band-stop filter from 49 - 51 Hz\n"
     ]
    },
    {
     "name": "stderr",
     "output_type": "stream",
     "text": [
      "[Parallel(n_jobs=4)]: Done  12 tasks      | elapsed:    0.3s\n",
      "[Parallel(n_jobs=4)]: Done  60 out of  60 | elapsed:    1.1s finished\n"
     ]
    },
    {
     "name": "stdout",
     "output_type": "stream",
     "text": [
      "Setting up band-pass filter from 1 - 1e+02 Hz\n"
     ]
    },
    {
     "name": "stderr",
     "output_type": "stream",
     "text": [
      "[Parallel(n_jobs=4)]: Done  12 tasks      | elapsed:    0.3s\n",
      "[Parallel(n_jobs=4)]: Done  40 out of  60 | elapsed:    0.9s remaining:    0.5s\n",
      "[Parallel(n_jobs=4)]: Done  60 out of  60 | elapsed:    1.3s finished\n"
     ]
    },
    {
     "name": "stdout",
     "output_type": "stream",
     "text": [
      "./eeg_enc/train/glebko_2103_pre_eeg_psd_light_preproc.png\n",
      "Extracting parameters from ./eeg_enc/train/miloslavov_22_05_pre_eeg.vhdr...\n",
      "Setting channel info structure...\n",
      "Reading 0 ... 603399  =      0.000 ...   603.399 secs...\n",
      "Setting up band-stop filter from 49 - 51 Hz\n"
     ]
    },
    {
     "name": "stderr",
     "output_type": "stream",
     "text": [
      "[Parallel(n_jobs=4)]: Done  16 tasks      | elapsed:    0.5s\n",
      "[Parallel(n_jobs=4)]: Done  40 out of  60 | elapsed:    1.0s remaining:    0.5s\n",
      "[Parallel(n_jobs=4)]: Done  60 out of  60 | elapsed:    1.3s finished\n"
     ]
    },
    {
     "name": "stdout",
     "output_type": "stream",
     "text": [
      "Setting up band-pass filter from 1 - 1e+02 Hz\n"
     ]
    },
    {
     "name": "stderr",
     "output_type": "stream",
     "text": [
      "[Parallel(n_jobs=4)]: Done  12 tasks      | elapsed:    0.3s\n",
      "[Parallel(n_jobs=4)]: Done  40 out of  60 | elapsed:    0.9s remaining:    0.5s\n",
      "[Parallel(n_jobs=4)]: Done  60 out of  60 | elapsed:    1.3s finished\n"
     ]
    },
    {
     "name": "stdout",
     "output_type": "stream",
     "text": [
      "./eeg_enc/train/miloslavov_22_05_pre_eeg_psd_light_preproc.png\n",
      "Extracting parameters from ./eeg_enc/train/bagaeva_13021500_rest_eeg.vhdr...\n",
      "Setting channel info structure...\n",
      "Reading 0 ... 603949  =      0.000 ...   603.949 secs...\n",
      "Setting up band-stop filter from 49 - 51 Hz\n"
     ]
    },
    {
     "name": "stderr",
     "output_type": "stream",
     "text": [
      "[Parallel(n_jobs=4)]: Done  16 tasks      | elapsed:    0.5s\n",
      "[Parallel(n_jobs=4)]: Done  40 out of  60 | elapsed:    0.9s remaining:    0.4s\n"
     ]
    },
    {
     "name": "stdout",
     "output_type": "stream",
     "text": [
      "Setting up band-pass filter from 1 - 1e+02 Hz\n"
     ]
    },
    {
     "name": "stderr",
     "output_type": "stream",
     "text": [
      "[Parallel(n_jobs=4)]: Done  60 out of  60 | elapsed:    1.2s finished\n",
      "[Parallel(n_jobs=4)]: Done  16 tasks      | elapsed:    0.5s\n",
      "[Parallel(n_jobs=4)]: Done  40 out of  60 | elapsed:    0.9s remaining:    0.5s\n",
      "[Parallel(n_jobs=4)]: Done  60 out of  60 | elapsed:    1.2s finished\n"
     ]
    },
    {
     "name": "stdout",
     "output_type": "stream",
     "text": [
      "./eeg_enc/train/bagaeva_13021500_rest_eeg_psd_light_preproc.png\n",
      "Extracting parameters from ./eeg_enc/train/3103_petuhova_posteeg.vhdr...\n",
      "Setting channel info structure...\n",
      "Reading 0 ... 630049  =      0.000 ...   630.049 secs...\n",
      "Setting up band-stop filter from 49 - 51 Hz\n"
     ]
    },
    {
     "name": "stderr",
     "output_type": "stream",
     "text": [
      "[Parallel(n_jobs=4)]: Done  12 tasks      | elapsed:    0.3s\n",
      "[Parallel(n_jobs=4)]: Done  40 out of  60 | elapsed:    0.9s remaining:    0.5s\n",
      "[Parallel(n_jobs=4)]: Done  60 out of  60 | elapsed:    1.2s finished\n"
     ]
    },
    {
     "name": "stdout",
     "output_type": "stream",
     "text": [
      "Setting up band-pass filter from 1 - 1e+02 Hz\n"
     ]
    },
    {
     "name": "stderr",
     "output_type": "stream",
     "text": [
      "[Parallel(n_jobs=4)]: Done  12 tasks      | elapsed:    0.3s\n",
      "[Parallel(n_jobs=4)]: Done  60 out of  60 | elapsed:    1.1s finished\n"
     ]
    },
    {
     "name": "stdout",
     "output_type": "stream",
     "text": [
      "./eeg_enc/train/3103_petuhova_posteeg_psd_light_preproc.png\n",
      "Extracting parameters from ./eeg_enc/train/zavrin_eyes_closed_eeg_15021500.vhdr...\n",
      "Setting channel info structure...\n",
      "Reading 0 ... 302749  =      0.000 ...   302.749 secs...\n",
      "Setting up band-stop filter from 49 - 51 Hz\n"
     ]
    },
    {
     "name": "stderr",
     "output_type": "stream",
     "text": [
      "[Parallel(n_jobs=4)]: Done  20 tasks      | elapsed:    0.4s\n"
     ]
    },
    {
     "name": "stdout",
     "output_type": "stream",
     "text": [
      "Setting up band-pass filter from 1 - 1e+02 Hz\n"
     ]
    },
    {
     "name": "stderr",
     "output_type": "stream",
     "text": [
      "[Parallel(n_jobs=4)]: Done  60 out of  60 | elapsed:    0.7s finished\n",
      "[Parallel(n_jobs=4)]: Done  20 tasks      | elapsed:    0.4s\n",
      "[Parallel(n_jobs=4)]: Done  60 out of  60 | elapsed:    0.7s finished\n"
     ]
    },
    {
     "name": "stdout",
     "output_type": "stream",
     "text": [
      "./eeg_enc/train/zavrin_eyes_closed_eeg_15021500_psd_light_preproc.png\n",
      "Extracting parameters from ./eeg_enc/train/post_eeg_tsoy_2504.vhdr...\n",
      "Setting channel info structure...\n",
      "Reading 0 ... 604949  =      0.000 ...   604.949 secs...\n",
      "Setting up band-stop filter from 49 - 51 Hz\n"
     ]
    },
    {
     "name": "stderr",
     "output_type": "stream",
     "text": [
      "[Parallel(n_jobs=4)]: Done  12 tasks      | elapsed:    0.3s\n",
      "[Parallel(n_jobs=4)]: Done  40 out of  60 | elapsed:    0.9s remaining:    0.4s\n",
      "[Parallel(n_jobs=4)]: Done  60 out of  60 | elapsed:    1.2s finished\n"
     ]
    },
    {
     "name": "stdout",
     "output_type": "stream",
     "text": [
      "Setting up band-pass filter from 1 - 1e+02 Hz\n"
     ]
    },
    {
     "name": "stderr",
     "output_type": "stream",
     "text": [
      "[Parallel(n_jobs=4)]: Done  12 tasks      | elapsed:    0.3s\n",
      "[Parallel(n_jobs=4)]: Done  60 out of  60 | elapsed:    1.0s finished\n"
     ]
    },
    {
     "name": "stdout",
     "output_type": "stream",
     "text": [
      "./eeg_enc/train/post_eeg_tsoy_2504_psd_light_preproc.png\n",
      "Extracting parameters from ./eeg_enc/train/2103_kozunova_post_eeg.vhdr...\n",
      "Setting channel info structure...\n",
      "Reading 0 ... 603199  =      0.000 ...   603.199 secs...\n",
      "Setting up band-stop filter from 49 - 51 Hz\n"
     ]
    },
    {
     "name": "stderr",
     "output_type": "stream",
     "text": [
      "[Parallel(n_jobs=4)]: Done  12 tasks      | elapsed:    0.3s\n",
      "[Parallel(n_jobs=4)]: Done  40 out of  60 | elapsed:    0.9s remaining:    0.5s\n",
      "[Parallel(n_jobs=4)]: Done  60 out of  60 | elapsed:    1.2s finished\n"
     ]
    },
    {
     "name": "stdout",
     "output_type": "stream",
     "text": [
      "Setting up band-pass filter from 1 - 1e+02 Hz\n"
     ]
    },
    {
     "name": "stderr",
     "output_type": "stream",
     "text": [
      "[Parallel(n_jobs=4)]: Done  12 tasks      | elapsed:    0.3s\n",
      "[Parallel(n_jobs=4)]: Done  40 out of  60 | elapsed:    0.9s remaining:    0.4s\n",
      "[Parallel(n_jobs=4)]: Done  60 out of  60 | elapsed:    1.2s finished\n"
     ]
    },
    {
     "name": "stdout",
     "output_type": "stream",
     "text": [
      "./eeg_enc/train/2103_kozunova_post_eeg_psd_light_preproc.png\n",
      "Extracting parameters from ./eeg_enc/train/gorbacheva_03_02_2017_post_eeg.vhdr...\n",
      "Setting channel info structure...\n",
      "Reading 0 ... 603949  =      0.000 ...   603.949 secs...\n",
      "Setting up band-stop filter from 49 - 51 Hz\n"
     ]
    },
    {
     "name": "stderr",
     "output_type": "stream",
     "text": [
      "[Parallel(n_jobs=4)]: Done  16 tasks      | elapsed:    0.5s\n",
      "[Parallel(n_jobs=4)]: Done  40 out of  60 | elapsed:    0.9s remaining:    0.4s\n",
      "[Parallel(n_jobs=4)]: Done  60 out of  60 | elapsed:    1.2s finished\n"
     ]
    },
    {
     "name": "stdout",
     "output_type": "stream",
     "text": [
      "Setting up band-pass filter from 1 - 1e+02 Hz\n"
     ]
    },
    {
     "name": "stderr",
     "output_type": "stream",
     "text": [
      "[Parallel(n_jobs=4)]: Done  12 tasks      | elapsed:    0.3s\n",
      "[Parallel(n_jobs=4)]: Done  40 out of  60 | elapsed:    0.9s remaining:    0.4s\n",
      "[Parallel(n_jobs=4)]: Done  60 out of  60 | elapsed:    1.2s finished\n"
     ]
    },
    {
     "name": "stdout",
     "output_type": "stream",
     "text": [
      "./eeg_enc/train/gorbacheva_03_02_2017_post_eeg_psd_light_preproc.png\n",
      "Extracting parameters from ./eeg_enc/train/gorbacheva_03021300_rest_eeg.vhdr...\n",
      "Setting channel info structure...\n",
      "Reading 0 ... 625249  =      0.000 ...   625.249 secs...\n",
      "Setting up band-stop filter from 49 - 51 Hz\n"
     ]
    },
    {
     "name": "stderr",
     "output_type": "stream",
     "text": [
      "[Parallel(n_jobs=4)]: Done  12 tasks      | elapsed:    0.3s\n",
      "[Parallel(n_jobs=4)]: Done  60 out of  60 | elapsed:    1.0s finished\n"
     ]
    },
    {
     "name": "stdout",
     "output_type": "stream",
     "text": [
      "Setting up band-pass filter from 1 - 1e+02 Hz\n"
     ]
    },
    {
     "name": "stderr",
     "output_type": "stream",
     "text": [
      "[Parallel(n_jobs=4)]: Done  12 tasks      | elapsed:    0.4s\n",
      "[Parallel(n_jobs=4)]: Done  60 out of  60 | elapsed:    1.1s finished\n"
     ]
    },
    {
     "name": "stdout",
     "output_type": "stream",
     "text": [
      "./eeg_enc/train/gorbacheva_03021300_rest_eeg_psd_light_preproc.png\n",
      "Extracting parameters from ./eeg_enc/train/gorin_310117_rest_eeg.vhdr...\n",
      "Setting channel info structure...\n",
      "Reading 0 ... 609999  =      0.000 ...   609.999 secs...\n",
      "Setting up band-stop filter from 49 - 51 Hz\n"
     ]
    },
    {
     "name": "stderr",
     "output_type": "stream",
     "text": [
      "[Parallel(n_jobs=4)]: Done  12 tasks      | elapsed:    0.3s\n"
     ]
    },
    {
     "name": "stdout",
     "output_type": "stream",
     "text": [
      "Setting up band-pass filter from 1 - 1e+02 Hz\n"
     ]
    },
    {
     "name": "stderr",
     "output_type": "stream",
     "text": [
      "[Parallel(n_jobs=4)]: Done  60 out of  60 | elapsed:    1.0s finished\n",
      "[Parallel(n_jobs=4)]: Done  12 tasks      | elapsed:    0.3s\n",
      "[Parallel(n_jobs=4)]: Done  60 out of  60 | elapsed:    1.0s finished\n"
     ]
    },
    {
     "name": "stdout",
     "output_type": "stream",
     "text": [
      "./eeg_enc/train/gorin_310117_rest_eeg_psd_light_preproc.png\n",
      "Extracting parameters from ./eeg_enc/train/2403_kutuzova_pre_eeg.vhdr...\n",
      "Setting channel info structure...\n",
      "Reading 0 ... 602849  =      0.000 ...   602.849 secs...\n",
      "Setting up band-stop filter from 49 - 51 Hz\n"
     ]
    },
    {
     "name": "stderr",
     "output_type": "stream",
     "text": [
      "[Parallel(n_jobs=4)]: Done  12 tasks      | elapsed:    0.3s\n",
      "[Parallel(n_jobs=4)]: Done  40 out of  60 | elapsed:    0.9s remaining:    0.5s\n"
     ]
    },
    {
     "name": "stdout",
     "output_type": "stream",
     "text": [
      "Setting up band-pass filter from 1 - 1e+02 Hz\n"
     ]
    },
    {
     "name": "stderr",
     "output_type": "stream",
     "text": [
      "[Parallel(n_jobs=4)]: Done  60 out of  60 | elapsed:    1.3s finished\n",
      "[Parallel(n_jobs=4)]: Done  12 tasks      | elapsed:    0.3s\n",
      "[Parallel(n_jobs=4)]: Done  60 out of  60 | elapsed:    1.0s finished\n"
     ]
    },
    {
     "name": "stdout",
     "output_type": "stream",
     "text": [
      "./eeg_enc/train/2403_kutuzova_pre_eeg_psd_light_preproc.png\n",
      "Extracting parameters from ./eeg_enc/train/bagaeva_post_eeg_13031500.vhdr...\n",
      "Setting channel info structure...\n",
      "Reading 0 ... 603899  =      0.000 ...   603.899 secs...\n",
      "Setting up band-stop filter from 49 - 51 Hz\n"
     ]
    },
    {
     "name": "stderr",
     "output_type": "stream",
     "text": [
      "[Parallel(n_jobs=4)]: Done  16 tasks      | elapsed:    0.5s\n",
      "[Parallel(n_jobs=4)]: Done  40 out of  60 | elapsed:    0.9s remaining:    0.5s\n",
      "[Parallel(n_jobs=4)]: Done  60 out of  60 | elapsed:    1.2s finished\n"
     ]
    },
    {
     "name": "stdout",
     "output_type": "stream",
     "text": [
      "Setting up band-pass filter from 1 - 1e+02 Hz\n"
     ]
    },
    {
     "name": "stderr",
     "output_type": "stream",
     "text": [
      "[Parallel(n_jobs=4)]: Done  12 tasks      | elapsed:    0.3s\n",
      "[Parallel(n_jobs=4)]: Done  40 out of  60 | elapsed:    0.9s remaining:    0.5s\n",
      "[Parallel(n_jobs=4)]: Done  60 out of  60 | elapsed:    1.2s finished\n"
     ]
    },
    {
     "name": "stdout",
     "output_type": "stream",
     "text": [
      "./eeg_enc/train/bagaeva_post_eeg_13031500_psd_light_preproc.png\n",
      "Extracting parameters from ./eeg_enc/train/zavrin_15021500_eyesclosed_post_eeg.vhdr...\n",
      "Setting channel info structure...\n",
      "Reading 0 ... 319299  =      0.000 ...   319.299 secs...\n",
      "Setting up band-stop filter from 49 - 51 Hz\n"
     ]
    },
    {
     "name": "stderr",
     "output_type": "stream",
     "text": [
      "[Parallel(n_jobs=4)]: Done  20 tasks      | elapsed:    0.4s\n",
      "[Parallel(n_jobs=4)]: Done  60 out of  60 | elapsed:    0.7s finished\n"
     ]
    },
    {
     "name": "stdout",
     "output_type": "stream",
     "text": [
      "Setting up band-pass filter from 1 - 1e+02 Hz\n"
     ]
    },
    {
     "name": "stderr",
     "output_type": "stream",
     "text": [
      "[Parallel(n_jobs=4)]: Done  20 tasks      | elapsed:    0.4s\n",
      "[Parallel(n_jobs=4)]: Done  60 out of  60 | elapsed:    0.7s finished\n"
     ]
    },
    {
     "name": "stdout",
     "output_type": "stream",
     "text": [
      "./eeg_enc/train/zavrin_15021500_eyesclosed_post_eeg_psd_light_preproc.png\n",
      "Extracting parameters from ./eeg_enc/train/2205_miloslavov_post_eeg.vhdr...\n",
      "Setting channel info structure...\n",
      "Reading 0 ... 623249  =      0.000 ...   623.249 secs...\n",
      "Setting up band-stop filter from 49 - 51 Hz\n"
     ]
    },
    {
     "name": "stderr",
     "output_type": "stream",
     "text": [
      "[Parallel(n_jobs=4)]: Done  12 tasks      | elapsed:    0.3s\n",
      "[Parallel(n_jobs=4)]: Done  40 out of  60 | elapsed:    0.9s remaining:    0.5s\n",
      "[Parallel(n_jobs=4)]: Done  60 out of  60 | elapsed:    1.2s finished\n"
     ]
    },
    {
     "name": "stdout",
     "output_type": "stream",
     "text": [
      "Setting up band-pass filter from 1 - 1e+02 Hz\n"
     ]
    },
    {
     "name": "stderr",
     "output_type": "stream",
     "text": [
      "[Parallel(n_jobs=4)]: Done  16 tasks      | elapsed:    0.5s\n",
      "[Parallel(n_jobs=4)]: Done  40 out of  60 | elapsed:    0.9s remaining:    0.4s\n",
      "[Parallel(n_jobs=4)]: Done  60 out of  60 | elapsed:    1.2s finished\n"
     ]
    },
    {
     "name": "stdout",
     "output_type": "stream",
     "text": [
      "./eeg_enc/train/2205_miloslavov_post_eeg_psd_light_preproc.png\n",
      "Extracting parameters from ./eeg_enc/train/tsoy_pre_eeg_2504.vhdr...\n",
      "Setting channel info structure...\n",
      "Reading 0 ... 652699  =      0.000 ...   652.699 secs...\n",
      "Setting up band-stop filter from 49 - 51 Hz\n"
     ]
    },
    {
     "name": "stderr",
     "output_type": "stream",
     "text": [
      "[Parallel(n_jobs=4)]: Done  12 tasks      | elapsed:    0.3s\n",
      "[Parallel(n_jobs=4)]: Done  60 out of  60 | elapsed:    1.1s finished\n"
     ]
    },
    {
     "name": "stdout",
     "output_type": "stream",
     "text": [
      "Setting up band-pass filter from 1 - 1e+02 Hz\n"
     ]
    },
    {
     "name": "stderr",
     "output_type": "stream",
     "text": [
      "[Parallel(n_jobs=4)]: Done  12 tasks      | elapsed:    0.3s\n",
      "[Parallel(n_jobs=4)]: Done  60 out of  60 | elapsed:    1.1s finished\n"
     ]
    },
    {
     "name": "stdout",
     "output_type": "stream",
     "text": [
      "./eeg_enc/train/tsoy_pre_eeg_2504_psd_light_preproc.png\n",
      "Extracting parameters from ./eeg_enc/train/2103_glebko_posteeg.vhdr...\n",
      "Setting channel info structure...\n",
      "Reading 0 ... 633899  =      0.000 ...   633.899 secs...\n",
      "Setting up band-stop filter from 49 - 51 Hz\n"
     ]
    },
    {
     "name": "stderr",
     "output_type": "stream",
     "text": [
      "[Parallel(n_jobs=4)]: Done  12 tasks      | elapsed:    0.3s\n",
      "[Parallel(n_jobs=4)]: Done  60 out of  60 | elapsed:    1.1s finished\n"
     ]
    },
    {
     "name": "stdout",
     "output_type": "stream",
     "text": [
      "Setting up band-pass filter from 1 - 1e+02 Hz\n"
     ]
    },
    {
     "name": "stderr",
     "output_type": "stream",
     "text": [
      "[Parallel(n_jobs=4)]: Done  12 tasks      | elapsed:    0.4s\n",
      "[Parallel(n_jobs=4)]: Done  60 out of  60 | elapsed:    1.1s finished\n"
     ]
    },
    {
     "name": "stdout",
     "output_type": "stream",
     "text": [
      "./eeg_enc/train/2103_glebko_posteeg_psd_light_preproc.png\n",
      "Extracting parameters from ./eeg_enc/train/2403_kutuzova_posteeg.vhdr...\n",
      "Setting channel info structure...\n",
      "Reading 0 ... 604199  =      0.000 ...   604.199 secs...\n",
      "Setting up band-stop filter from 49 - 51 Hz\n"
     ]
    },
    {
     "name": "stderr",
     "output_type": "stream",
     "text": [
      "[Parallel(n_jobs=4)]: Done  12 tasks      | elapsed:    0.4s\n",
      "[Parallel(n_jobs=4)]: Done  60 out of  60 | elapsed:    1.1s finished\n"
     ]
    },
    {
     "name": "stdout",
     "output_type": "stream",
     "text": [
      "Setting up band-pass filter from 1 - 1e+02 Hz\n"
     ]
    },
    {
     "name": "stderr",
     "output_type": "stream",
     "text": [
      "[Parallel(n_jobs=4)]: Done  12 tasks      | elapsed:    0.3s\n",
      "[Parallel(n_jobs=4)]: Done  60 out of  60 | elapsed:    1.0s finished\n"
     ]
    },
    {
     "name": "stdout",
     "output_type": "stream",
     "text": [
      "./eeg_enc/train/2403_kutuzova_posteeg_psd_light_preproc.png\n",
      "Extracting parameters from ./eeg_enc/train/zagirova_pre_eeg_2704.vhdr...\n",
      "Setting channel info structure...\n",
      "Reading 0 ... 607549  =      0.000 ...   607.549 secs...\n",
      "Setting up band-stop filter from 49 - 51 Hz\n"
     ]
    },
    {
     "name": "stderr",
     "output_type": "stream",
     "text": [
      "[Parallel(n_jobs=4)]: Done  12 tasks      | elapsed:    0.3s\n"
     ]
    },
    {
     "name": "stdout",
     "output_type": "stream",
     "text": [
      "Setting up band-pass filter from 1 - 1e+02 Hz\n"
     ]
    },
    {
     "name": "stderr",
     "output_type": "stream",
     "text": [
      "[Parallel(n_jobs=4)]: Done  60 out of  60 | elapsed:    1.0s finished\n",
      "[Parallel(n_jobs=4)]: Done  12 tasks      | elapsed:    0.3s\n",
      "[Parallel(n_jobs=4)]: Done  40 out of  60 | elapsed:    0.9s remaining:    0.4s\n",
      "[Parallel(n_jobs=4)]: Done  60 out of  60 | elapsed:    1.2s finished\n"
     ]
    },
    {
     "name": "stdout",
     "output_type": "stream",
     "text": [
      "./eeg_enc/train/zagirova_pre_eeg_2704_psd_light_preproc.png\n",
      "Extracting parameters from ./eeg_enc/train/zavrin_open_eyes_eeg_15021500.vhdr...\n",
      "Setting channel info structure...\n",
      "Reading 0 ... 301999  =      0.000 ...   301.999 secs...\n",
      "Setting up band-stop filter from 49 - 51 Hz\n"
     ]
    },
    {
     "name": "stderr",
     "output_type": "stream",
     "text": [
      "[Parallel(n_jobs=4)]: Done  20 tasks      | elapsed:    0.4s\n",
      "[Parallel(n_jobs=4)]: Done  60 out of  60 | elapsed:    0.7s finished\n"
     ]
    },
    {
     "name": "stdout",
     "output_type": "stream",
     "text": [
      "Setting up band-pass filter from 1 - 1e+02 Hz\n"
     ]
    },
    {
     "name": "stderr",
     "output_type": "stream",
     "text": [
      "[Parallel(n_jobs=4)]: Done  20 tasks      | elapsed:    0.4s\n",
      "[Parallel(n_jobs=4)]: Done  60 out of  60 | elapsed:    0.7s finished\n"
     ]
    },
    {
     "name": "stdout",
     "output_type": "stream",
     "text": [
      "./eeg_enc/train/zavrin_open_eyes_eeg_15021500_psd_light_preproc.png\n",
      "Extracting parameters from ./eeg_enc/train/08021400_post_eeg_shuhova.vhdr...\n",
      "Setting channel info structure...\n",
      "Reading 0 ... 607199  =      0.000 ...   607.199 secs...\n",
      "Setting up band-stop filter from 49 - 51 Hz\n"
     ]
    },
    {
     "name": "stderr",
     "output_type": "stream",
     "text": [
      "[Parallel(n_jobs=4)]: Done  16 tasks      | elapsed:    0.5s\n",
      "[Parallel(n_jobs=4)]: Done  40 out of  60 | elapsed:    0.9s remaining:    0.5s\n",
      "[Parallel(n_jobs=4)]: Done  60 out of  60 | elapsed:    1.2s finished\n"
     ]
    },
    {
     "name": "stdout",
     "output_type": "stream",
     "text": [
      "Setting up band-pass filter from 1 - 1e+02 Hz\n"
     ]
    },
    {
     "name": "stderr",
     "output_type": "stream",
     "text": [
      "[Parallel(n_jobs=4)]: Done  12 tasks      | elapsed:    0.3s\n",
      "[Parallel(n_jobs=4)]: Done  60 out of  60 | elapsed:    1.0s finished\n"
     ]
    },
    {
     "name": "stdout",
     "output_type": "stream",
     "text": [
      "./eeg_enc/train/08021400_post_eeg_shuhova_psd_light_preproc.png\n",
      "Extracting parameters from ./eeg_enc/train/300120171600_dagaev_rest_eeg.vhdr...\n",
      "Setting channel info structure...\n",
      "Reading 0 ... 615599  =      0.000 ...   615.599 secs...\n",
      "Setting up band-stop filter from 49 - 51 Hz\n"
     ]
    },
    {
     "name": "stderr",
     "output_type": "stream",
     "text": [
      "[Parallel(n_jobs=4)]: Done  12 tasks      | elapsed:    0.3s\n",
      "[Parallel(n_jobs=4)]: Done  60 out of  60 | elapsed:    1.0s finished\n"
     ]
    },
    {
     "name": "stdout",
     "output_type": "stream",
     "text": [
      "Setting up band-pass filter from 1 - 1e+02 Hz\n"
     ]
    },
    {
     "name": "stderr",
     "output_type": "stream",
     "text": [
      "[Parallel(n_jobs=4)]: Done  12 tasks      | elapsed:    0.3s\n",
      "[Parallel(n_jobs=4)]: Done  60 out of  60 | elapsed:    1.0s finished\n"
     ]
    },
    {
     "name": "stdout",
     "output_type": "stream",
     "text": [
      "./eeg_enc/train/300120171600_dagaev_rest_eeg_psd_light_preproc.png\n",
      "Extracting parameters from ./eeg_enc/train/kozunova_pre_eeg_2103.vhdr...\n",
      "Setting channel info structure...\n",
      "Reading 0 ... 602849  =      0.000 ...   602.849 secs...\n",
      "Setting up band-stop filter from 49 - 51 Hz\n"
     ]
    },
    {
     "name": "stderr",
     "output_type": "stream",
     "text": [
      "[Parallel(n_jobs=4)]: Done  12 tasks      | elapsed:    0.3s\n",
      "[Parallel(n_jobs=4)]: Done  60 out of  60 | elapsed:    1.0s finished\n"
     ]
    },
    {
     "name": "stdout",
     "output_type": "stream",
     "text": [
      "Setting up band-pass filter from 1 - 1e+02 Hz\n"
     ]
    },
    {
     "name": "stderr",
     "output_type": "stream",
     "text": [
      "[Parallel(n_jobs=4)]: Done  12 tasks      | elapsed:    0.3s\n",
      "[Parallel(n_jobs=4)]: Done  60 out of  60 | elapsed:    1.0s finished\n"
     ]
    },
    {
     "name": "stdout",
     "output_type": "stream",
     "text": [
      "./eeg_enc/train/kozunova_pre_eeg_2103_psd_light_preproc.png\n",
      "Extracting parameters from ./eeg_enc/train/2505_shirokova.vhdr...\n",
      "Setting channel info structure...\n",
      "Reading 0 ... 604799  =      0.000 ...   604.799 secs...\n",
      "Setting up band-stop filter from 49 - 51 Hz\n"
     ]
    },
    {
     "name": "stderr",
     "output_type": "stream",
     "text": [
      "[Parallel(n_jobs=4)]: Done  12 tasks      | elapsed:    0.3s\n",
      "[Parallel(n_jobs=4)]: Done  40 out of  60 | elapsed:    0.9s remaining:    0.4s\n",
      "[Parallel(n_jobs=4)]: Done  60 out of  60 | elapsed:    1.2s finished\n"
     ]
    },
    {
     "name": "stdout",
     "output_type": "stream",
     "text": [
      "Setting up band-pass filter from 1 - 1e+02 Hz\n"
     ]
    },
    {
     "name": "stderr",
     "output_type": "stream",
     "text": [
      "[Parallel(n_jobs=4)]: Done  12 tasks      | elapsed:    0.3s\n",
      "[Parallel(n_jobs=4)]: Done  60 out of  60 | elapsed:    1.0s finished\n"
     ]
    },
    {
     "name": "stdout",
     "output_type": "stream",
     "text": [
      "./eeg_enc/train/2505_shirokova_psd_light_preproc.png\n",
      "Extracting parameters from ./eeg_enc/train/dagaev_post_rest_eeg_30011600.vhdr...\n",
      "Setting channel info structure...\n",
      "Reading 0 ... 603799  =      0.000 ...   603.799 secs...\n",
      "Setting up band-stop filter from 49 - 51 Hz\n"
     ]
    },
    {
     "name": "stderr",
     "output_type": "stream",
     "text": [
      "[Parallel(n_jobs=4)]: Done  12 tasks      | elapsed:    0.3s\n",
      "[Parallel(n_jobs=4)]: Done  40 out of  60 | elapsed:    0.9s remaining:    0.5s\n",
      "[Parallel(n_jobs=4)]: Done  60 out of  60 | elapsed:    1.2s finished\n"
     ]
    },
    {
     "name": "stdout",
     "output_type": "stream",
     "text": [
      "Setting up band-pass filter from 1 - 1e+02 Hz\n"
     ]
    },
    {
     "name": "stderr",
     "output_type": "stream",
     "text": [
      "[Parallel(n_jobs=4)]: Done  12 tasks      | elapsed:    0.3s\n",
      "[Parallel(n_jobs=4)]: Done  60 out of  60 | elapsed:    1.1s finished\n"
     ]
    },
    {
     "name": "stdout",
     "output_type": "stream",
     "text": [
      "./eeg_enc/train/dagaev_post_rest_eeg_30011600_psd_light_preproc.png\n",
      "Extracting parameters from ./eeg_enc/train/2505_shirokova_post_eeg.vhdr...\n",
      "Setting channel info structure...\n",
      "Reading 0 ... 606599  =      0.000 ...   606.599 secs...\n",
      "Setting up band-stop filter from 49 - 51 Hz\n"
     ]
    },
    {
     "name": "stderr",
     "output_type": "stream",
     "text": [
      "[Parallel(n_jobs=4)]: Done  16 tasks      | elapsed:    0.5s\n",
      "[Parallel(n_jobs=4)]: Done  40 out of  60 | elapsed:    0.9s remaining:    0.4s\n",
      "[Parallel(n_jobs=4)]: Done  60 out of  60 | elapsed:    1.2s finished\n"
     ]
    },
    {
     "name": "stdout",
     "output_type": "stream",
     "text": [
      "Setting up band-pass filter from 1 - 1e+02 Hz\n"
     ]
    },
    {
     "name": "stderr",
     "output_type": "stream",
     "text": [
      "[Parallel(n_jobs=4)]: Done  16 tasks      | elapsed:    0.5s\n",
      "[Parallel(n_jobs=4)]: Done  40 out of  60 | elapsed:    0.9s remaining:    0.5s\n",
      "[Parallel(n_jobs=4)]: Done  60 out of  60 | elapsed:    1.2s finished\n"
     ]
    },
    {
     "name": "stdout",
     "output_type": "stream",
     "text": [
      "./eeg_enc/train/2505_shirokova_post_eeg_psd_light_preproc.png\n",
      "Extracting parameters from ./eeg_enc/train/zavrib_post_eeg_eyesopen15021500.vhdr...\n",
      "Setting channel info structure...\n",
      "Reading 0 ... 321599  =      0.000 ...   321.599 secs...\n",
      "Setting up band-stop filter from 49 - 51 Hz\n"
     ]
    },
    {
     "name": "stderr",
     "output_type": "stream",
     "text": [
      "[Parallel(n_jobs=4)]: Done  20 tasks      | elapsed:    0.4s\n"
     ]
    },
    {
     "name": "stdout",
     "output_type": "stream",
     "text": [
      "Setting up band-pass filter from 1 - 1e+02 Hz\n"
     ]
    },
    {
     "name": "stderr",
     "output_type": "stream",
     "text": [
      "[Parallel(n_jobs=4)]: Done  60 out of  60 | elapsed:    0.7s finished\n",
      "[Parallel(n_jobs=4)]: Done  20 tasks      | elapsed:    0.4s\n",
      "[Parallel(n_jobs=4)]: Done  60 out of  60 | elapsed:    0.7s finished\n"
     ]
    },
    {
     "name": "stdout",
     "output_type": "stream",
     "text": [
      "./eeg_enc/train/zavrib_post_eeg_eyesopen15021500_psd_light_preproc.png\n",
      "Extracting parameters from ./eeg_enc/train/gorin_rest_eeg_post_31011200.vhdr...\n",
      "Setting channel info structure...\n",
      "Reading 0 ... 603699  =      0.000 ...   603.699 secs...\n",
      "Setting up band-stop filter from 49 - 51 Hz\n"
     ]
    },
    {
     "name": "stderr",
     "output_type": "stream",
     "text": [
      "[Parallel(n_jobs=4)]: Done  16 tasks      | elapsed:    0.5s\n",
      "[Parallel(n_jobs=4)]: Done  40 out of  60 | elapsed:    0.9s remaining:    0.4s\n",
      "[Parallel(n_jobs=4)]: Done  60 out of  60 | elapsed:    1.2s finished\n"
     ]
    },
    {
     "name": "stdout",
     "output_type": "stream",
     "text": [
      "Setting up band-pass filter from 1 - 1e+02 Hz\n"
     ]
    },
    {
     "name": "stderr",
     "output_type": "stream",
     "text": [
      "[Parallel(n_jobs=4)]: Done  16 tasks      | elapsed:    0.6s\n",
      "[Parallel(n_jobs=4)]: Done  40 out of  60 | elapsed:    1.0s remaining:    0.5s\n",
      "[Parallel(n_jobs=4)]: Done  60 out of  60 | elapsed:    1.4s finished\n"
     ]
    },
    {
     "name": "stdout",
     "output_type": "stream",
     "text": [
      "./eeg_enc/train/gorin_rest_eeg_post_31011200_psd_light_preproc.png\n",
      "\n"
     ]
    }
   ],
   "source": [
    "import matplotlib.pyplot as plt\n",
    "%matplotlib inline\n",
    "from tqdm import tqdm_notebook\n",
    "for eeg_file in tqdm_notebook(vhdrs):\n",
    "    eeg=mne.io.read_raw_brainvision(eeg_file,preload=True)\n",
    "    eeg = eeg.pick_types(eeg=True)\n",
    "    eeg = eeg.notch_filter(50, n_jobs=4, method='iir', verbose='INFO')\n",
    "    eeg = eeg.filter(1, 100, n_jobs=4, method='iir', verbose='INFO')\n",
    "    filename, _ = splitext(eeg_file)\n",
    "    plot_psd(eeg.get_data(),\n",
    "             eeg.ch_names,\n",
    "             eeg.info['sfreq'],\n",
    "             xlim=100,scale=2,save_to=filename + '_psd_light_preproc')\n",
    "    eeg.close()"
   ]
  },
  {
   "cell_type": "markdown",
   "metadata": {},
   "source": [
    "Now,it is time to point bad channels by hand using psd plots taken above.\n",
    "\n",
    "Form: dictionary = {'filename':'[names of bad channels]'}"
   ]
  },
  {
   "cell_type": "code",
   "execution_count": 17,
   "metadata": {
    "collapsed": true
   },
   "outputs": [],
   "source": [
    "#this for train\n",
    "bad_dict_train = {'200317_ivanova_pre_eeg':['T7'],\n",
    "            '2505_shirokova_post_eeg':['O1','P7','Oz','O2','TP7','P5','PO7'],\n",
    "            '2505_shirokova':['O1','P7','PO7'],\n",
    "            '2704_zagirova_post_eeg':['Oz','O2','PO8','FC4','TP7'],\n",
    "            'bagaeva_13021500_rest_eeg':['FC5'],\n",
    "            'gorin_310117_rest_eeg':['TP8'],\n",
    "            'gorin_rest_eeg_post_31011200':['TP8'],\n",
    "            'miloslavov_22_05_pre_eeg':['C4','FC4'],\n",
    "            'zagirova_pre_eeg_2704':['O2','TP7','PO8']}\n",
    "\n",
    "bad_dict_test = {'0311_eeg_mazurova':['FC6'],\n",
    "                 '0311_post_eeg_mazurova':['FC5'],\n",
    "                 '0708_eeg_krasovskaya':['TP7','TP8'],\n",
    "                 '0708_post_eeg_krasovskaya':['TP8','TP7','F5','FT7'],\n",
    "                 '0708_pre_eeg_krasovskaya':['FC6','TP8','TP7'],\n",
    "                 '14071200_limanskaya_pre_eeg':['FC5','T7','T8','FT7','C5'],\n",
    "                 '14071200_limaskaya_post_eeg':['FC5','T7','T8','FT7','C5'],\n",
    "                 '1407_limanskaya_eeg':['FC5','T7','CP5','T8','FT7','C5'],\n",
    "                 '1509_pre_eeg_zvyagincev':['F7','FC5','T7','FC6','FT7','C5','FC4'],\n",
    "                 '1509_zvyagincev':['FC5','CP5','T7','C4','C5','TP7','FC4'],\n",
    "                 '1608_rpre_eeg_polshina':['FC5','F5','FT7','FC3','C5','FC4'],\n",
    "                 '17_11_bachurina':['T8'],\n",
    "                 '17_11_post_eeg_bachurina':['T8','FT7','FT8','TP8'],\n",
    "                 '17_11_pre_eeg_bachurina':['T8'],\n",
    "                 '2306_patrakeeva_pre_eeg':['T7'],\n",
    "                 '2509-pre_eeg_rinata':['T8','F5','TP8'],\n",
    "                 '2509_eeg_rinata':['T8','TP8'],\n",
    "                 '2509_post_eeg_rinata':['AF4','TP8','AF3','F5','TP8'],\n",
    "                 '2606_patrakeeva_main_eeg':['PO8','PO7','P7','O1','Oz'],\n",
    "                 '2809_lukyanov':['T8','C4','C6'],\n",
    "                 '3010_eeg_suhareva':['T8'],\n",
    "                 '3010_post_eeg_suhareva':['FC5','T8','FC6','FT7','C6','FT8'],\n",
    "                 '3010_pre_eeg_suhareva':['FT7','FT8','T8'],\n",
    "                 '3110_maistrenko':['F7','FC5','T7','CP5','T8','FT7','FC6'],\n",
    "                 '3110_post_eeg_maistrenko':['F7','FC5','T7','FC6','FT7','C5']}\n",
    "            "
   ]
  },
  {
   "cell_type": "markdown",
   "metadata": {},
   "source": [
    "Main loop"
   ]
  },
  {
   "cell_type": "code",
   "execution_count": 14,
   "metadata": {},
   "outputs": [
    {
     "data": {
      "application/vnd.jupyter.widget-view+json": {
       "model_id": "cc39f07d2e0f4a59b10924da224e3160",
       "version_major": 2,
       "version_minor": 0
      },
      "text/html": [
       "<p>Failed to display Jupyter Widget of type <code>HBox</code>.</p>\n",
       "<p>\n",
       "  If you're reading this message in the Jupyter Notebook or JupyterLab Notebook, it may mean\n",
       "  that the widgets JavaScript is still loading. If this message persists, it\n",
       "  likely means that the widgets JavaScript library is either not installed or\n",
       "  not enabled. See the <a href=\"https://ipywidgets.readthedocs.io/en/stable/user_install.html\">Jupyter\n",
       "  Widgets Documentation</a> for setup instructions.\n",
       "</p>\n",
       "<p>\n",
       "  If you're reading this message in another frontend (for example, a static\n",
       "  rendering on GitHub or <a href=\"https://nbviewer.jupyter.org/\">NBViewer</a>),\n",
       "  it may mean that your frontend doesn't currently support widgets.\n",
       "</p>\n"
      ],
      "text/plain": [
       "HBox(children=(IntProgress(value=0, max=32), HTML(value='')))"
      ]
     },
     "metadata": {},
     "output_type": "display_data"
    },
    {
     "name": "stdout",
     "output_type": "stream",
     "text": [
      "Extracting parameters from ./eeg_enc/train/pre_egg_petuhova3103.vhdr...\n",
      "Setting channel info structure...\n",
      "Reading 0 ... 602749  =      0.000 ...   602.749 secs...\n",
      "Setting up band-stop filter from 49 - 51 Hz\n",
      "\n",
      "\n",
      "\n",
      "\n"
     ]
    },
    {
     "name": "stderr",
     "output_type": "stream",
     "text": [
      "[Parallel(n_jobs=4)]: Done  12 tasks      | elapsed:    0.4s\n",
      "[Parallel(n_jobs=4)]: Done  60 out of  60 | elapsed:    1.0s finished\n"
     ]
    },
    {
     "name": "stdout",
     "output_type": "stream",
     "text": [
      "Setting up band-pass filter from 1 - 1e+02 Hz\n",
      "\n",
      "\n",
      "\n",
      "\n"
     ]
    },
    {
     "name": "stderr",
     "output_type": "stream",
     "text": [
      "[Parallel(n_jobs=4)]: Done  12 tasks      | elapsed:    0.3s\n"
     ]
    },
    {
     "name": "stdout",
     "output_type": "stream",
     "text": [
      "Fitting ICA to data using 60 channels. \n",
      "Please be patient, this may take some time\n",
      "Inferring max_pca_components from picks.\n"
     ]
    },
    {
     "name": "stderr",
     "output_type": "stream",
     "text": [
      "[Parallel(n_jobs=4)]: Done  60 out of  60 | elapsed:    0.9s finished\n"
     ]
    },
    {
     "name": "stdout",
     "output_type": "stream",
     "text": [
      "\n",
      "Using all PCA components: 60\n",
      "computing Extended Infomax ICA\n",
      "[Debug] Bad comps [5, 18, 1], good comps [0, 2, 3, 4, 6, 7, 8, 9, 10, 11, 12, 13, 14, 15, 16, 17, 19, 20, 21, 22, 23, 24, 25, 26, 27, 28, 29, 30, 31, 32, 33, 34, 35, 36, 37, 38, 39, 40, 41, 42, 43, 44, 45, 46, 47, 48, 49, 50, 51, 52, 53, 54, 55, 56, 57, 58, 59] \n",
      "Transforming to ICA space (60 components)\n",
      "Zeroing out 3 ICA components\n",
      "[Debug] Channels:  ['Fp1', 'Fz', 'F3', 'F7', 'FC5', 'FC1', 'C3', 'T7', 'CP5', 'CP1', 'Pz', 'P3', 'P7', 'O1', 'Oz', 'O2', 'P4', 'P8', 'CP2', 'Cz', 'C4', 'T8', 'FC6', 'FC2', 'F4', 'Fp2', 'AF7', 'AF3', 'AFz', 'F1', 'F5', 'FT7', 'FC3', 'FCz', 'C1', 'C5', 'TP7', 'CP3', 'P1', 'P5', 'PO7', 'PO3', 'POz', 'PO4', 'PO8', 'P6', 'P2', 'CPz', 'CP4', 'TP8', 'C6', 'C2', 'FC4', 'FT8', 'F6', 'F2', 'AF4', 'AF8'] 58\n",
      "./eeg_enc/train/pre_egg_petuhova3103_psd_clear.png\n",
      "Clear eeg shape before correction,  (58, 602750)  Mask length:  58\n",
      "Clear eeg shape after correction,  (58, 602750)\n",
      "Extracting parameters from ./eeg_enc/train/200317_ivanova_pre_eeg.vhdr...\n",
      "Setting channel info structure...\n",
      "Reading 0 ... 602099  =      0.000 ...   602.099 secs...\n",
      "Setting up band-stop filter from 49 - 51 Hz\n"
     ]
    },
    {
     "name": "stderr",
     "output_type": "stream",
     "text": [
      "[Parallel(n_jobs=4)]: Done  12 tasks      | elapsed:    0.3s\n",
      "[Parallel(n_jobs=4)]: Done  40 out of  60 | elapsed:    0.9s remaining:    0.4s\n"
     ]
    },
    {
     "name": "stdout",
     "output_type": "stream",
     "text": [
      "Setting up band-pass filter from 1 - 1e+02 Hz\n"
     ]
    },
    {
     "name": "stderr",
     "output_type": "stream",
     "text": [
      "[Parallel(n_jobs=4)]: Done  60 out of  60 | elapsed:    1.2s finished\n",
      "[Parallel(n_jobs=4)]: Done  12 tasks      | elapsed:    0.3s\n",
      "[Parallel(n_jobs=4)]: Done  60 out of  60 | elapsed:    1.0s finished\n"
     ]
    },
    {
     "name": "stdout",
     "output_type": "stream",
     "text": [
      "Fitting ICA to data using 59 channels. \n",
      "Please be patient, this may take some time\n",
      "Inferring max_pca_components from picks.\n",
      "Using all PCA components: 59\n",
      "computing Extended Infomax ICA\n",
      "[Debug] Bad comps [3, 27, 1, 0], good comps [2, 4, 5, 6, 7, 8, 9, 10, 11, 12, 13, 14, 15, 16, 17, 18, 19, 20, 21, 22, 23, 24, 25, 26, 28, 29, 30, 31, 32, 33, 34, 35, 36, 37, 38, 39, 40, 41, 42, 43, 44, 45, 46, 47, 48, 49, 50, 51, 52, 53, 54, 55, 56, 57, 58] \n",
      "Transforming to ICA space (59 components)\n",
      "Zeroing out 4 ICA components\n",
      "[Debug] Channels:  ['Fp1', 'Fz', 'F3', 'F7', 'FC5', 'FC1', 'C3', 'T7', 'CP5', 'CP1', 'Pz', 'P3', 'P7', 'O1', 'Oz', 'O2', 'P4', 'P8', 'CP2', 'Cz', 'C4', 'T8', 'FC6', 'FC2', 'F4', 'Fp2', 'AF7', 'AF3', 'AFz', 'F1', 'F5', 'FT7', 'FC3', 'FCz', 'C1', 'C5', 'TP7', 'CP3', 'P1', 'P5', 'PO7', 'PO3', 'POz', 'PO4', 'PO8', 'P6', 'P2', 'CPz', 'CP4', 'TP8', 'C6', 'C2', 'FC4', 'FT8', 'F6', 'F2', 'AF4', 'AF8'] 58\n",
      "./eeg_enc/train/200317_ivanova_pre_eeg_psd_clear.png\n",
      "Clear eeg shape before correction,  (57, 602100)  Mask length:  57\n",
      "Clear eeg shape after correction,  (58, 602100)\n",
      "Extracting parameters from ./eeg_enc/train/2704_zagirova_post_eeg.vhdr...\n",
      "Setting channel info structure...\n",
      "Reading 0 ... 604549  =      0.000 ...   604.549 secs...\n",
      "Setting up band-stop filter from 49 - 51 Hz\n"
     ]
    },
    {
     "name": "stderr",
     "output_type": "stream",
     "text": [
      "[Parallel(n_jobs=4)]: Done  12 tasks      | elapsed:    0.3s\n",
      "[Parallel(n_jobs=4)]: Done  40 out of  60 | elapsed:    0.9s remaining:    0.4s\n",
      "[Parallel(n_jobs=4)]: Done  60 out of  60 | elapsed:    1.2s finished\n"
     ]
    },
    {
     "name": "stdout",
     "output_type": "stream",
     "text": [
      "Setting up band-pass filter from 1 - 1e+02 Hz\n"
     ]
    },
    {
     "name": "stderr",
     "output_type": "stream",
     "text": [
      "[Parallel(n_jobs=4)]: Done  12 tasks      | elapsed:    0.3s\n",
      "[Parallel(n_jobs=4)]: Done  40 out of  60 | elapsed:    0.9s remaining:    0.4s\n",
      "[Parallel(n_jobs=4)]: Done  60 out of  60 | elapsed:    1.2s finished\n"
     ]
    },
    {
     "name": "stdout",
     "output_type": "stream",
     "text": [
      "Fitting ICA to data using 55 channels. \n",
      "Please be patient, this may take some time\n",
      "Inferring max_pca_components from picks.\n",
      "Using all PCA components: 55\n",
      "computing Extended Infomax ICA\n",
      "[Debug] Bad comps [0, 5, 9, 2], good comps [1, 3, 4, 6, 7, 8, 10, 11, 12, 13, 14, 15, 16, 17, 18, 19, 20, 21, 22, 23, 24, 25, 26, 27, 28, 29, 30, 31, 32, 33, 34, 35, 36, 37, 38, 39, 40, 41, 42, 43, 44, 45, 46, 47, 48, 49, 50, 51, 52, 53, 54] \n",
      "Transforming to ICA space (55 components)\n",
      "Zeroing out 4 ICA components\n",
      "[Debug] Channels:  ['Fp1', 'Fz', 'F3', 'F7', 'FC5', 'FC1', 'C3', 'T7', 'CP5', 'CP1', 'Pz', 'P3', 'P7', 'O1', 'Oz', 'O2', 'P4', 'P8', 'CP2', 'Cz', 'C4', 'T8', 'FC6', 'FC2', 'F4', 'Fp2', 'AF7', 'AF3', 'AFz', 'F1', 'F5', 'FT7', 'FC3', 'FCz', 'C1', 'C5', 'TP7', 'CP3', 'P1', 'P5', 'PO7', 'PO3', 'POz', 'PO4', 'PO8', 'P6', 'P2', 'CPz', 'CP4', 'TP8', 'C6', 'C2', 'FC4', 'FT8', 'F6', 'F2', 'AF4', 'AF8'] 58\n",
      "./eeg_enc/train/2704_zagirova_post_eeg_psd_clear.png\n",
      "Clear eeg shape before correction,  (53, 604550)  Mask length:  53\n",
      "Clear eeg shape after correction,  (58, 604550)\n",
      "Extracting parameters from ./eeg_enc/train/2003_ivanova_post_eeg.vhdr...\n",
      "Setting channel info structure...\n",
      "Reading 0 ... 616599  =      0.000 ...   616.599 secs...\n",
      "Setting up band-stop filter from 49 - 51 Hz\n"
     ]
    },
    {
     "name": "stderr",
     "output_type": "stream",
     "text": [
      "[Parallel(n_jobs=4)]: Done  16 tasks      | elapsed:    0.6s\n",
      "[Parallel(n_jobs=4)]: Done  40 out of  60 | elapsed:    1.0s remaining:    0.5s\n",
      "[Parallel(n_jobs=4)]: Done  60 out of  60 | elapsed:    1.3s finished\n"
     ]
    },
    {
     "name": "stdout",
     "output_type": "stream",
     "text": [
      "Setting up band-pass filter from 1 - 1e+02 Hz\n"
     ]
    },
    {
     "name": "stderr",
     "output_type": "stream",
     "text": [
      "[Parallel(n_jobs=4)]: Done  16 tasks      | elapsed:    0.5s\n",
      "[Parallel(n_jobs=4)]: Done  40 out of  60 | elapsed:    0.9s remaining:    0.4s\n",
      "[Parallel(n_jobs=4)]: Done  60 out of  60 | elapsed:    1.2s finished\n"
     ]
    },
    {
     "name": "stdout",
     "output_type": "stream",
     "text": [
      "Fitting ICA to data using 60 channels. \n",
      "Please be patient, this may take some time\n",
      "Inferring max_pca_components from picks.\n",
      "Using all PCA components: 60\n",
      "computing Extended Infomax ICA\n",
      "[Debug] Bad comps [3, 25, 0], good comps [1, 2, 4, 5, 6, 7, 8, 9, 10, 11, 12, 13, 14, 15, 16, 17, 18, 19, 20, 21, 22, 23, 24, 26, 27, 28, 29, 30, 31, 32, 33, 34, 35, 36, 37, 38, 39, 40, 41, 42, 43, 44, 45, 46, 47, 48, 49, 50, 51, 52, 53, 54, 55, 56, 57, 58, 59] \n",
      "Transforming to ICA space (60 components)\n",
      "Zeroing out 3 ICA components\n",
      "[Debug] Channels:  ['Fp1', 'Fz', 'F3', 'F7', 'FC5', 'FC1', 'C3', 'T7', 'CP5', 'CP1', 'Pz', 'P3', 'P7', 'O1', 'Oz', 'O2', 'P4', 'P8', 'CP2', 'Cz', 'C4', 'T8', 'FC6', 'FC2', 'F4', 'Fp2', 'AF7', 'AF3', 'AFz', 'F1', 'F5', 'FT7', 'FC3', 'FCz', 'C1', 'C5', 'TP7', 'CP3', 'P1', 'P5', 'PO7', 'PO3', 'POz', 'PO4', 'PO8', 'P6', 'P2', 'CPz', 'CP4', 'TP8', 'C6', 'C2', 'FC4', 'FT8', 'F6', 'F2', 'AF4', 'AF8'] 58\n",
      "./eeg_enc/train/2003_ivanova_post_eeg_psd_clear.png\n",
      "Clear eeg shape before correction,  (58, 616600)  Mask length:  58\n",
      "Clear eeg shape after correction,  (58, 616600)\n",
      "Extracting parameters from ./eeg_enc/train/shuhova_08022017_rest_eeg.vhdr...\n",
      "Setting channel info structure...\n",
      "Reading 0 ... 637949  =      0.000 ...   637.949 secs...\n",
      "Setting up band-stop filter from 49 - 51 Hz\n"
     ]
    },
    {
     "name": "stderr",
     "output_type": "stream",
     "text": [
      "[Parallel(n_jobs=4)]: Done  12 tasks      | elapsed:    0.4s\n",
      "[Parallel(n_jobs=4)]: Done  60 out of  60 | elapsed:    1.0s finished\n"
     ]
    },
    {
     "name": "stdout",
     "output_type": "stream",
     "text": [
      "Setting up band-pass filter from 1 - 1e+02 Hz\n"
     ]
    },
    {
     "name": "stderr",
     "output_type": "stream",
     "text": [
      "[Parallel(n_jobs=4)]: Done  12 tasks      | elapsed:    0.4s\n",
      "[Parallel(n_jobs=4)]: Done  60 out of  60 | elapsed:    1.0s finished\n"
     ]
    },
    {
     "name": "stdout",
     "output_type": "stream",
     "text": [
      "Fitting ICA to data using 60 channels. \n",
      "Please be patient, this may take some time\n",
      "Inferring max_pca_components from picks.\n",
      "Using all PCA components: 60\n",
      "computing Extended Infomax ICA\n",
      "[Debug] Bad comps [14, 28, 39, 1, 4], good comps [0, 2, 3, 5, 6, 7, 8, 9, 10, 11, 12, 13, 15, 16, 17, 18, 19, 20, 21, 22, 23, 24, 25, 26, 27, 29, 30, 31, 32, 33, 34, 35, 36, 37, 38, 40, 41, 42, 43, 44, 45, 46, 47, 48, 49, 50, 51, 52, 53, 54, 55, 56, 57, 58, 59] \n",
      "Transforming to ICA space (60 components)\n",
      "Zeroing out 5 ICA components\n",
      "[Debug] Channels:  ['Fp1', 'Fz', 'F3', 'F7', 'FC5', 'FC1', 'C3', 'T7', 'CP5', 'CP1', 'Pz', 'P3', 'P7', 'O1', 'Oz', 'O2', 'P4', 'P8', 'CP2', 'Cz', 'C4', 'T8', 'FC6', 'FC2', 'F4', 'Fp2', 'AF7', 'AF3', 'AFz', 'F1', 'F5', 'FT7', 'FC3', 'FCz', 'C1', 'C5', 'TP7', 'CP3', 'P1', 'P5', 'PO7', 'PO3', 'POz', 'PO4', 'PO8', 'P6', 'P2', 'CPz', 'CP4', 'TP8', 'C6', 'C2', 'FC4', 'FT8', 'F6', 'F2', 'AF4', 'AF8'] 58\n",
      "./eeg_enc/train/shuhova_08022017_rest_eeg_psd_clear.png\n",
      "Clear eeg shape before correction,  (58, 637950)  Mask length:  58\n",
      "Clear eeg shape after correction,  (58, 637950)\n",
      "Extracting parameters from ./eeg_enc/train/glebko_2103_pre_eeg.vhdr...\n",
      "Setting channel info structure...\n",
      "Reading 0 ... 643749  =      0.000 ...   643.749 secs...\n",
      "Setting up band-stop filter from 49 - 51 Hz\n"
     ]
    },
    {
     "name": "stderr",
     "output_type": "stream",
     "text": [
      "[Parallel(n_jobs=4)]: Done  12 tasks      | elapsed:    0.4s\n",
      "[Parallel(n_jobs=4)]: Done  60 out of  60 | elapsed:    1.0s finished\n"
     ]
    },
    {
     "name": "stdout",
     "output_type": "stream",
     "text": [
      "Setting up band-pass filter from 1 - 1e+02 Hz\n"
     ]
    },
    {
     "name": "stderr",
     "output_type": "stream",
     "text": [
      "[Parallel(n_jobs=4)]: Done  12 tasks      | elapsed:    0.4s\n",
      "[Parallel(n_jobs=4)]: Done  60 out of  60 | elapsed:    1.0s finished\n"
     ]
    },
    {
     "name": "stdout",
     "output_type": "stream",
     "text": [
      "Fitting ICA to data using 60 channels. \n",
      "Please be patient, this may take some time\n",
      "Inferring max_pca_components from picks.\n",
      "Using all PCA components: 60\n",
      "computing Extended Infomax ICA\n",
      "[Debug] Bad comps [0, 12, 29], good comps [1, 2, 3, 4, 5, 6, 7, 8, 9, 10, 11, 13, 14, 15, 16, 17, 18, 19, 20, 21, 22, 23, 24, 25, 26, 27, 28, 30, 31, 32, 33, 34, 35, 36, 37, 38, 39, 40, 41, 42, 43, 44, 45, 46, 47, 48, 49, 50, 51, 52, 53, 54, 55, 56, 57, 58, 59] \n",
      "Transforming to ICA space (60 components)\n",
      "Zeroing out 3 ICA components\n",
      "[Debug] Channels:  ['Fp1', 'Fz', 'F3', 'F7', 'FC5', 'FC1', 'C3', 'T7', 'CP5', 'CP1', 'Pz', 'P3', 'P7', 'O1', 'Oz', 'O2', 'P4', 'P8', 'CP2', 'Cz', 'C4', 'T8', 'FC6', 'FC2', 'F4', 'Fp2', 'AF7', 'AF3', 'AFz', 'F1', 'F5', 'FT7', 'FC3', 'FCz', 'C1', 'C5', 'TP7', 'CP3', 'P1', 'P5', 'PO7', 'PO3', 'POz', 'PO4', 'PO8', 'P6', 'P2', 'CPz', 'CP4', 'TP8', 'C6', 'C2', 'FC4', 'FT8', 'F6', 'F2', 'AF4', 'AF8'] 58\n",
      "./eeg_enc/train/glebko_2103_pre_eeg_psd_clear.png\n",
      "Clear eeg shape before correction,  (58, 643750)  Mask length:  58\n",
      "Clear eeg shape after correction,  (58, 643750)\n",
      "Extracting parameters from ./eeg_enc/train/miloslavov_22_05_pre_eeg.vhdr...\n",
      "Setting channel info structure...\n",
      "Reading 0 ... 603399  =      0.000 ...   603.399 secs...\n",
      "Setting up band-stop filter from 49 - 51 Hz\n"
     ]
    },
    {
     "name": "stderr",
     "output_type": "stream",
     "text": [
      "[Parallel(n_jobs=4)]: Done  12 tasks      | elapsed:    0.3s\n",
      "[Parallel(n_jobs=4)]: Done  60 out of  60 | elapsed:    0.9s finished\n"
     ]
    },
    {
     "name": "stdout",
     "output_type": "stream",
     "text": [
      "Setting up band-pass filter from 1 - 1e+02 Hz\n"
     ]
    },
    {
     "name": "stderr",
     "output_type": "stream",
     "text": [
      "[Parallel(n_jobs=4)]: Done  16 tasks      | elapsed:    0.6s\n",
      "[Parallel(n_jobs=4)]: Done  40 out of  60 | elapsed:    1.0s remaining:    0.5s\n",
      "[Parallel(n_jobs=4)]: Done  60 out of  60 | elapsed:    1.3s finished\n"
     ]
    },
    {
     "name": "stdout",
     "output_type": "stream",
     "text": [
      "Fitting ICA to data using 58 channels. \n",
      "Please be patient, this may take some time\n",
      "Inferring max_pca_components from picks.\n",
      "Using all PCA components: 58\n",
      "computing Extended Infomax ICA\n",
      "[Debug] Bad comps [6, 1, 21, 0], good comps [2, 3, 4, 5, 7, 8, 9, 10, 11, 12, 13, 14, 15, 16, 17, 18, 19, 20, 22, 23, 24, 25, 26, 27, 28, 29, 30, 31, 32, 33, 34, 35, 36, 37, 38, 39, 40, 41, 42, 43, 44, 45, 46, 47, 48, 49, 50, 51, 52, 53, 54, 55, 56, 57] \n",
      "Transforming to ICA space (58 components)\n",
      "Zeroing out 4 ICA components\n",
      "[Debug] Channels:  ['Fp1', 'Fz', 'F3', 'F7', 'FC5', 'FC1', 'C3', 'T7', 'CP5', 'CP1', 'Pz', 'P3', 'P7', 'O1', 'Oz', 'O2', 'P4', 'P8', 'CP2', 'Cz', 'C4', 'T8', 'FC6', 'FC2', 'F4', 'Fp2', 'AF7', 'AF3', 'AFz', 'F1', 'F5', 'FT7', 'FC3', 'FCz', 'C1', 'C5', 'TP7', 'CP3', 'P1', 'P5', 'PO7', 'PO3', 'POz', 'PO4', 'PO8', 'P6', 'P2', 'CPz', 'CP4', 'TP8', 'C6', 'C2', 'FC4', 'FT8', 'F6', 'F2', 'AF4', 'AF8'] 58\n",
      "./eeg_enc/train/miloslavov_22_05_pre_eeg_psd_clear.png\n",
      "Clear eeg shape before correction,  (56, 603400)  Mask length:  56\n",
      "Clear eeg shape after correction,  (58, 603400)\n",
      "Extracting parameters from ./eeg_enc/train/bagaeva_13021500_rest_eeg.vhdr...\n",
      "Setting channel info structure...\n",
      "Reading 0 ... 603949  =      0.000 ...   603.949 secs...\n",
      "Setting up band-stop filter from 49 - 51 Hz\n"
     ]
    },
    {
     "name": "stderr",
     "output_type": "stream",
     "text": [
      "[Parallel(n_jobs=4)]: Done  12 tasks      | elapsed:    0.3s\n",
      "[Parallel(n_jobs=4)]: Done  60 out of  60 | elapsed:    0.9s finished\n"
     ]
    },
    {
     "name": "stdout",
     "output_type": "stream",
     "text": [
      "Setting up band-pass filter from 1 - 1e+02 Hz\n"
     ]
    },
    {
     "name": "stderr",
     "output_type": "stream",
     "text": [
      "[Parallel(n_jobs=4)]: Done  12 tasks      | elapsed:    0.3s\n",
      "[Parallel(n_jobs=4)]: Done  40 out of  60 | elapsed:    0.9s remaining:    0.4s\n",
      "[Parallel(n_jobs=4)]: Done  60 out of  60 | elapsed:    1.2s finished\n"
     ]
    },
    {
     "name": "stdout",
     "output_type": "stream",
     "text": [
      "Fitting ICA to data using 59 channels. \n",
      "Please be patient, this may take some time\n",
      "Inferring max_pca_components from picks.\n",
      "Using all PCA components: 59\n",
      "computing Extended Infomax ICA\n",
      "[Debug] Bad comps [0, 23], good comps [1, 2, 3, 4, 5, 6, 7, 8, 9, 10, 11, 12, 13, 14, 15, 16, 17, 18, 19, 20, 21, 22, 24, 25, 26, 27, 28, 29, 30, 31, 32, 33, 34, 35, 36, 37, 38, 39, 40, 41, 42, 43, 44, 45, 46, 47, 48, 49, 50, 51, 52, 53, 54, 55, 56, 57, 58] \n",
      "Transforming to ICA space (59 components)\n",
      "Zeroing out 2 ICA components\n",
      "[Debug] Channels:  ['Fp1', 'Fz', 'F3', 'F7', 'FC5', 'FC1', 'C3', 'T7', 'CP5', 'CP1', 'Pz', 'P3', 'P7', 'O1', 'Oz', 'O2', 'P4', 'P8', 'CP2', 'Cz', 'C4', 'T8', 'FC6', 'FC2', 'F4', 'Fp2', 'AF7', 'AF3', 'AFz', 'F1', 'F5', 'FT7', 'FC3', 'FCz', 'C1', 'C5', 'TP7', 'CP3', 'P1', 'P5', 'PO7', 'PO3', 'POz', 'PO4', 'PO8', 'P6', 'P2', 'CPz', 'CP4', 'TP8', 'C6', 'C2', 'FC4', 'FT8', 'F6', 'F2', 'AF4', 'AF8'] 58\n",
      "./eeg_enc/train/bagaeva_13021500_rest_eeg_psd_clear.png\n",
      "Clear eeg shape before correction,  (57, 603950)  Mask length:  57\n",
      "Clear eeg shape after correction,  (58, 603950)\n",
      "Extracting parameters from ./eeg_enc/train/3103_petuhova_posteeg.vhdr...\n",
      "Setting channel info structure...\n",
      "Reading 0 ... 630049  =      0.000 ...   630.049 secs...\n",
      "Setting up band-stop filter from 49 - 51 Hz\n"
     ]
    },
    {
     "name": "stderr",
     "output_type": "stream",
     "text": [
      "[Parallel(n_jobs=4)]: Done  16 tasks      | elapsed:    0.5s\n",
      "[Parallel(n_jobs=4)]: Done  40 out of  60 | elapsed:    1.0s remaining:    0.5s\n",
      "[Parallel(n_jobs=4)]: Done  60 out of  60 | elapsed:    1.3s finished\n"
     ]
    },
    {
     "name": "stdout",
     "output_type": "stream",
     "text": [
      "Setting up band-pass filter from 1 - 1e+02 Hz\n"
     ]
    },
    {
     "name": "stderr",
     "output_type": "stream",
     "text": [
      "[Parallel(n_jobs=4)]: Done  12 tasks      | elapsed:    0.3s\n",
      "[Parallel(n_jobs=4)]: Done  60 out of  60 | elapsed:    1.0s finished\n"
     ]
    },
    {
     "name": "stdout",
     "output_type": "stream",
     "text": [
      "Fitting ICA to data using 60 channels. \n",
      "Please be patient, this may take some time\n",
      "Inferring max_pca_components from picks.\n",
      "Using all PCA components: 60\n",
      "computing Extended Infomax ICA\n",
      "[Debug] Bad comps [11, 2, 0], good comps [1, 3, 4, 5, 6, 7, 8, 9, 10, 12, 13, 14, 15, 16, 17, 18, 19, 20, 21, 22, 23, 24, 25, 26, 27, 28, 29, 30, 31, 32, 33, 34, 35, 36, 37, 38, 39, 40, 41, 42, 43, 44, 45, 46, 47, 48, 49, 50, 51, 52, 53, 54, 55, 56, 57, 58, 59] \n",
      "Transforming to ICA space (60 components)\n",
      "Zeroing out 3 ICA components\n",
      "[Debug] Channels:  ['Fp1', 'Fz', 'F3', 'F7', 'FC5', 'FC1', 'C3', 'T7', 'CP5', 'CP1', 'Pz', 'P3', 'P7', 'O1', 'Oz', 'O2', 'P4', 'P8', 'CP2', 'Cz', 'C4', 'T8', 'FC6', 'FC2', 'F4', 'Fp2', 'AF7', 'AF3', 'AFz', 'F1', 'F5', 'FT7', 'FC3', 'FCz', 'C1', 'C5', 'TP7', 'CP3', 'P1', 'P5', 'PO7', 'PO3', 'POz', 'PO4', 'PO8', 'P6', 'P2', 'CPz', 'CP4', 'TP8', 'C6', 'C2', 'FC4', 'FT8', 'F6', 'F2', 'AF4', 'AF8'] 58\n",
      "./eeg_enc/train/3103_petuhova_posteeg_psd_clear.png\n",
      "Clear eeg shape before correction,  (58, 630050)  Mask length:  58\n",
      "Clear eeg shape after correction,  (58, 630050)\n",
      "Extracting parameters from ./eeg_enc/train/zavrin_eyes_closed_eeg_15021500.vhdr...\n",
      "Setting channel info structure...\n",
      "Reading 0 ... 302749  =      0.000 ...   302.749 secs...\n",
      "Setting up band-stop filter from 49 - 51 Hz\n"
     ]
    },
    {
     "name": "stderr",
     "output_type": "stream",
     "text": [
      "[Parallel(n_jobs=4)]: Done  20 tasks      | elapsed:    0.4s\n"
     ]
    },
    {
     "name": "stdout",
     "output_type": "stream",
     "text": [
      "Setting up band-pass filter from 1 - 1e+02 Hz\n"
     ]
    },
    {
     "name": "stderr",
     "output_type": "stream",
     "text": [
      "[Parallel(n_jobs=4)]: Done  60 out of  60 | elapsed:    0.7s finished\n",
      "[Parallel(n_jobs=4)]: Done  40 out of  60 | elapsed:    0.7s remaining:    0.4s\n",
      "[Parallel(n_jobs=4)]: Done  60 out of  60 | elapsed:    0.9s finished\n"
     ]
    },
    {
     "name": "stdout",
     "output_type": "stream",
     "text": [
      "Fitting ICA to data using 60 channels. \n",
      "Please be patient, this may take some time\n",
      "Inferring max_pca_components from picks.\n",
      "Using all PCA components: 60\n",
      "computing Extended Infomax ICA\n",
      "[Debug] Bad comps [3, 4, 0, 1], good comps [2, 5, 6, 7, 8, 9, 10, 11, 12, 13, 14, 15, 16, 17, 18, 19, 20, 21, 22, 23, 24, 25, 26, 27, 28, 29, 30, 31, 32, 33, 34, 35, 36, 37, 38, 39, 40, 41, 42, 43, 44, 45, 46, 47, 48, 49, 50, 51, 52, 53, 54, 55, 56, 57, 58, 59] \n",
      "Transforming to ICA space (60 components)\n",
      "Zeroing out 4 ICA components\n",
      "[Debug] Channels:  ['Fp1', 'Fz', 'F3', 'F7', 'FC5', 'FC1', 'C3', 'T7', 'CP5', 'CP1', 'Pz', 'P3', 'P7', 'O1', 'Oz', 'O2', 'P4', 'P8', 'CP2', 'Cz', 'C4', 'T8', 'FC6', 'FC2', 'F4', 'Fp2', 'AF7', 'AF3', 'AFz', 'F1', 'F5', 'FT7', 'FC3', 'FCz', 'C1', 'C5', 'TP7', 'CP3', 'P1', 'P5', 'PO7', 'PO3', 'POz', 'PO4', 'PO8', 'P6', 'P2', 'CPz', 'CP4', 'TP8', 'C6', 'C2', 'FC4', 'FT8', 'F6', 'F2', 'AF4', 'AF8'] 58\n",
      "./eeg_enc/train/zavrin_eyes_closed_eeg_15021500_psd_clear.png\n",
      "Clear eeg shape before correction,  (58, 302750)  Mask length:  58\n",
      "Clear eeg shape after correction,  (58, 302750)\n",
      "Extracting parameters from ./eeg_enc/train/post_eeg_tsoy_2504.vhdr...\n",
      "Setting channel info structure...\n",
      "Reading 0 ... 604949  =      0.000 ...   604.949 secs...\n",
      "Setting up band-stop filter from 49 - 51 Hz\n"
     ]
    },
    {
     "name": "stderr",
     "output_type": "stream",
     "text": [
      "[Parallel(n_jobs=4)]: Done  12 tasks      | elapsed:    0.3s\n",
      "[Parallel(n_jobs=4)]: Done  60 out of  60 | elapsed:    1.0s finished\n"
     ]
    },
    {
     "name": "stdout",
     "output_type": "stream",
     "text": [
      "Setting up band-pass filter from 1 - 1e+02 Hz\n"
     ]
    },
    {
     "name": "stderr",
     "output_type": "stream",
     "text": [
      "[Parallel(n_jobs=4)]: Done  12 tasks      | elapsed:    0.3s\n",
      "[Parallel(n_jobs=4)]: Done  60 out of  60 | elapsed:    1.0s finished\n"
     ]
    },
    {
     "name": "stdout",
     "output_type": "stream",
     "text": [
      "Fitting ICA to data using 60 channels. \n",
      "Please be patient, this may take some time\n",
      "Inferring max_pca_components from picks.\n",
      "Using all PCA components: 60\n",
      "computing Extended Infomax ICA\n",
      "[Debug] Bad comps [1, 0, 7], good comps [2, 3, 4, 5, 6, 8, 9, 10, 11, 12, 13, 14, 15, 16, 17, 18, 19, 20, 21, 22, 23, 24, 25, 26, 27, 28, 29, 30, 31, 32, 33, 34, 35, 36, 37, 38, 39, 40, 41, 42, 43, 44, 45, 46, 47, 48, 49, 50, 51, 52, 53, 54, 55, 56, 57, 58, 59] \n",
      "Transforming to ICA space (60 components)\n",
      "Zeroing out 3 ICA components\n",
      "[Debug] Channels:  ['Fp1', 'Fz', 'F3', 'F7', 'FC5', 'FC1', 'C3', 'T7', 'CP5', 'CP1', 'Pz', 'P3', 'P7', 'O1', 'Oz', 'O2', 'P4', 'P8', 'CP2', 'Cz', 'C4', 'T8', 'FC6', 'FC2', 'F4', 'Fp2', 'AF7', 'AF3', 'AFz', 'F1', 'F5', 'FT7', 'FC3', 'FCz', 'C1', 'C5', 'TP7', 'CP3', 'P1', 'P5', 'PO7', 'PO3', 'POz', 'PO4', 'PO8', 'P6', 'P2', 'CPz', 'CP4', 'TP8', 'C6', 'C2', 'FC4', 'FT8', 'F6', 'F2', 'AF4', 'AF8'] 58\n",
      "./eeg_enc/train/post_eeg_tsoy_2504_psd_clear.png\n",
      "Clear eeg shape before correction,  (58, 604950)  Mask length:  58\n",
      "Clear eeg shape after correction,  (58, 604950)\n",
      "Extracting parameters from ./eeg_enc/train/2103_kozunova_post_eeg.vhdr...\n",
      "Setting channel info structure...\n",
      "Reading 0 ... 603199  =      0.000 ...   603.199 secs...\n",
      "Setting up band-stop filter from 49 - 51 Hz\n"
     ]
    },
    {
     "name": "stderr",
     "output_type": "stream",
     "text": [
      "[Parallel(n_jobs=4)]: Done  16 tasks      | elapsed:    0.6s\n",
      "[Parallel(n_jobs=4)]: Done  40 out of  60 | elapsed:    1.1s remaining:    0.5s\n",
      "[Parallel(n_jobs=4)]: Done  60 out of  60 | elapsed:    1.4s finished\n"
     ]
    },
    {
     "name": "stdout",
     "output_type": "stream",
     "text": [
      "Setting up band-pass filter from 1 - 1e+02 Hz\n"
     ]
    },
    {
     "name": "stderr",
     "output_type": "stream",
     "text": [
      "[Parallel(n_jobs=4)]: Done  16 tasks      | elapsed:    0.6s\n",
      "[Parallel(n_jobs=4)]: Done  40 out of  60 | elapsed:    1.0s remaining:    0.5s\n",
      "[Parallel(n_jobs=4)]: Done  60 out of  60 | elapsed:    1.4s finished\n"
     ]
    },
    {
     "name": "stdout",
     "output_type": "stream",
     "text": [
      "Fitting ICA to data using 60 channels. \n",
      "Please be patient, this may take some time\n",
      "Inferring max_pca_components from picks.\n",
      "Using all PCA components: 60\n",
      "computing Extended Infomax ICA\n",
      "[Debug] Bad comps [0, 8, 9], good comps [1, 2, 3, 4, 5, 6, 7, 10, 11, 12, 13, 14, 15, 16, 17, 18, 19, 20, 21, 22, 23, 24, 25, 26, 27, 28, 29, 30, 31, 32, 33, 34, 35, 36, 37, 38, 39, 40, 41, 42, 43, 44, 45, 46, 47, 48, 49, 50, 51, 52, 53, 54, 55, 56, 57, 58, 59] \n",
      "Transforming to ICA space (60 components)\n",
      "Zeroing out 3 ICA components\n",
      "[Debug] Channels:  ['Fp1', 'Fz', 'F3', 'F7', 'FC5', 'FC1', 'C3', 'T7', 'CP5', 'CP1', 'Pz', 'P3', 'P7', 'O1', 'Oz', 'O2', 'P4', 'P8', 'CP2', 'Cz', 'C4', 'T8', 'FC6', 'FC2', 'F4', 'Fp2', 'AF7', 'AF3', 'AFz', 'F1', 'F5', 'FT7', 'FC3', 'FCz', 'C1', 'C5', 'TP7', 'CP3', 'P1', 'P5', 'PO7', 'PO3', 'POz', 'PO4', 'PO8', 'P6', 'P2', 'CPz', 'CP4', 'TP8', 'C6', 'C2', 'FC4', 'FT8', 'F6', 'F2', 'AF4', 'AF8'] 58\n",
      "./eeg_enc/train/2103_kozunova_post_eeg_psd_clear.png\n",
      "Clear eeg shape before correction,  (58, 603200)  Mask length:  58\n",
      "Clear eeg shape after correction,  (58, 603200)\n",
      "Extracting parameters from ./eeg_enc/train/gorbacheva_03_02_2017_post_eeg.vhdr...\n",
      "Setting channel info structure...\n",
      "Reading 0 ... 603949  =      0.000 ...   603.949 secs...\n",
      "Setting up band-stop filter from 49 - 51 Hz\n"
     ]
    },
    {
     "name": "stderr",
     "output_type": "stream",
     "text": [
      "[Parallel(n_jobs=4)]: Done  12 tasks      | elapsed:    0.3s\n",
      "[Parallel(n_jobs=4)]: Done  40 out of  60 | elapsed:    0.9s remaining:    0.5s\n",
      "[Parallel(n_jobs=4)]: Done  60 out of  60 | elapsed:    1.3s finished\n"
     ]
    },
    {
     "name": "stdout",
     "output_type": "stream",
     "text": [
      "Setting up band-pass filter from 1 - 1e+02 Hz\n"
     ]
    },
    {
     "name": "stderr",
     "output_type": "stream",
     "text": [
      "[Parallel(n_jobs=4)]: Done  12 tasks      | elapsed:    0.3s\n",
      "[Parallel(n_jobs=4)]: Done  60 out of  60 | elapsed:    1.0s finished\n"
     ]
    },
    {
     "name": "stdout",
     "output_type": "stream",
     "text": [
      "Fitting ICA to data using 60 channels. \n",
      "Please be patient, this may take some time\n",
      "Inferring max_pca_components from picks.\n",
      "Using all PCA components: 60\n",
      "computing Extended Infomax ICA\n",
      "[Debug] Bad comps [3, 7, 0], good comps [1, 2, 4, 5, 6, 8, 9, 10, 11, 12, 13, 14, 15, 16, 17, 18, 19, 20, 21, 22, 23, 24, 25, 26, 27, 28, 29, 30, 31, 32, 33, 34, 35, 36, 37, 38, 39, 40, 41, 42, 43, 44, 45, 46, 47, 48, 49, 50, 51, 52, 53, 54, 55, 56, 57, 58, 59] \n",
      "Transforming to ICA space (60 components)\n",
      "Zeroing out 3 ICA components\n",
      "[Debug] Channels:  ['Fp1', 'Fz', 'F3', 'F7', 'FC5', 'FC1', 'C3', 'T7', 'CP5', 'CP1', 'Pz', 'P3', 'P7', 'O1', 'Oz', 'O2', 'P4', 'P8', 'CP2', 'Cz', 'C4', 'T8', 'FC6', 'FC2', 'F4', 'Fp2', 'AF7', 'AF3', 'AFz', 'F1', 'F5', 'FT7', 'FC3', 'FCz', 'C1', 'C5', 'TP7', 'CP3', 'P1', 'P5', 'PO7', 'PO3', 'POz', 'PO4', 'PO8', 'P6', 'P2', 'CPz', 'CP4', 'TP8', 'C6', 'C2', 'FC4', 'FT8', 'F6', 'F2', 'AF4', 'AF8'] 58\n",
      "./eeg_enc/train/gorbacheva_03_02_2017_post_eeg_psd_clear.png\n",
      "Clear eeg shape before correction,  (58, 603950)  Mask length:  58\n",
      "Clear eeg shape after correction,  (58, 603950)\n",
      "Extracting parameters from ./eeg_enc/train/gorbacheva_03021300_rest_eeg.vhdr...\n",
      "Setting channel info structure...\n",
      "Reading 0 ... 625249  =      0.000 ...   625.249 secs...\n",
      "Setting up band-stop filter from 49 - 51 Hz\n"
     ]
    },
    {
     "name": "stderr",
     "output_type": "stream",
     "text": [
      "[Parallel(n_jobs=4)]: Done  12 tasks      | elapsed:    0.4s\n",
      "[Parallel(n_jobs=4)]: Done  60 out of  60 | elapsed:    1.0s finished\n"
     ]
    },
    {
     "name": "stdout",
     "output_type": "stream",
     "text": [
      "Setting up band-pass filter from 1 - 1e+02 Hz\n"
     ]
    },
    {
     "name": "stderr",
     "output_type": "stream",
     "text": [
      "[Parallel(n_jobs=4)]: Done  16 tasks      | elapsed:    0.6s\n",
      "[Parallel(n_jobs=4)]: Done  40 out of  60 | elapsed:    1.1s remaining:    0.5s\n",
      "[Parallel(n_jobs=4)]: Done  60 out of  60 | elapsed:    1.4s finished\n"
     ]
    },
    {
     "name": "stdout",
     "output_type": "stream",
     "text": [
      "Fitting ICA to data using 60 channels. \n",
      "Please be patient, this may take some time\n",
      "Inferring max_pca_components from picks.\n",
      "Using all PCA components: 60\n",
      "computing Extended Infomax ICA\n",
      "[Debug] Bad comps [12, 3, 0], good comps [1, 2, 4, 5, 6, 7, 8, 9, 10, 11, 13, 14, 15, 16, 17, 18, 19, 20, 21, 22, 23, 24, 25, 26, 27, 28, 29, 30, 31, 32, 33, 34, 35, 36, 37, 38, 39, 40, 41, 42, 43, 44, 45, 46, 47, 48, 49, 50, 51, 52, 53, 54, 55, 56, 57, 58, 59] \n",
      "Transforming to ICA space (60 components)\n",
      "Zeroing out 3 ICA components\n",
      "[Debug] Channels:  ['Fp1', 'Fz', 'F3', 'F7', 'FC5', 'FC1', 'C3', 'T7', 'CP5', 'CP1', 'Pz', 'P3', 'P7', 'O1', 'Oz', 'O2', 'P4', 'P8', 'CP2', 'Cz', 'C4', 'T8', 'FC6', 'FC2', 'F4', 'Fp2', 'AF7', 'AF3', 'AFz', 'F1', 'F5', 'FT7', 'FC3', 'FCz', 'C1', 'C5', 'TP7', 'CP3', 'P1', 'P5', 'PO7', 'PO3', 'POz', 'PO4', 'PO8', 'P6', 'P2', 'CPz', 'CP4', 'TP8', 'C6', 'C2', 'FC4', 'FT8', 'F6', 'F2', 'AF4', 'AF8'] 58\n",
      "./eeg_enc/train/gorbacheva_03021300_rest_eeg_psd_clear.png\n",
      "Clear eeg shape before correction,  (58, 625250)  Mask length:  58\n",
      "Clear eeg shape after correction,  (58, 625250)\n",
      "Extracting parameters from ./eeg_enc/train/gorin_310117_rest_eeg.vhdr...\n",
      "Setting channel info structure...\n",
      "Reading 0 ... 609999  =      0.000 ...   609.999 secs...\n",
      "Setting up band-stop filter from 49 - 51 Hz\n"
     ]
    },
    {
     "name": "stderr",
     "output_type": "stream",
     "text": [
      "[Parallel(n_jobs=4)]: Done  12 tasks      | elapsed:    0.4s\n",
      "[Parallel(n_jobs=4)]: Done  60 out of  60 | elapsed:    1.0s finished\n"
     ]
    },
    {
     "name": "stdout",
     "output_type": "stream",
     "text": [
      "Setting up band-pass filter from 1 - 1e+02 Hz\n"
     ]
    },
    {
     "name": "stderr",
     "output_type": "stream",
     "text": [
      "[Parallel(n_jobs=4)]: Done  16 tasks      | elapsed:    0.6s\n",
      "[Parallel(n_jobs=4)]: Done  40 out of  60 | elapsed:    1.0s remaining:    0.5s\n",
      "[Parallel(n_jobs=4)]: Done  60 out of  60 | elapsed:    1.4s finished\n"
     ]
    },
    {
     "name": "stdout",
     "output_type": "stream",
     "text": [
      "Fitting ICA to data using 59 channels. \n",
      "Please be patient, this may take some time\n",
      "Inferring max_pca_components from picks.\n",
      "Using all PCA components: 59\n",
      "computing Extended Infomax ICA\n",
      "[Debug] Bad comps [18, 0, 2, 25], good comps [1, 3, 4, 5, 6, 7, 8, 9, 10, 11, 12, 13, 14, 15, 16, 17, 19, 20, 21, 22, 23, 24, 26, 27, 28, 29, 30, 31, 32, 33, 34, 35, 36, 37, 38, 39, 40, 41, 42, 43, 44, 45, 46, 47, 48, 49, 50, 51, 52, 53, 54, 55, 56, 57, 58] \n",
      "Transforming to ICA space (59 components)\n",
      "Zeroing out 4 ICA components\n",
      "[Debug] Channels:  ['Fp1', 'Fz', 'F3', 'F7', 'FC5', 'FC1', 'C3', 'T7', 'CP5', 'CP1', 'Pz', 'P3', 'P7', 'O1', 'Oz', 'O2', 'P4', 'P8', 'CP2', 'Cz', 'C4', 'T8', 'FC6', 'FC2', 'F4', 'Fp2', 'AF7', 'AF3', 'AFz', 'F1', 'F5', 'FT7', 'FC3', 'FCz', 'C1', 'C5', 'TP7', 'CP3', 'P1', 'P5', 'PO7', 'PO3', 'POz', 'PO4', 'PO8', 'P6', 'P2', 'CPz', 'CP4', 'TP8', 'C6', 'C2', 'FC4', 'FT8', 'F6', 'F2', 'AF4', 'AF8'] 58\n",
      "./eeg_enc/train/gorin_310117_rest_eeg_psd_clear.png\n",
      "Clear eeg shape before correction,  (57, 610000)  Mask length:  57\n",
      "Clear eeg shape after correction,  (58, 610000)\n",
      "Extracting parameters from ./eeg_enc/train/2403_kutuzova_pre_eeg.vhdr...\n",
      "Setting channel info structure...\n",
      "Reading 0 ... 602849  =      0.000 ...   602.849 secs...\n",
      "Setting up band-stop filter from 49 - 51 Hz\n"
     ]
    },
    {
     "name": "stderr",
     "output_type": "stream",
     "text": [
      "[Parallel(n_jobs=4)]: Done  12 tasks      | elapsed:    0.4s\n",
      "[Parallel(n_jobs=4)]: Done  60 out of  60 | elapsed:    1.0s finished\n"
     ]
    },
    {
     "name": "stdout",
     "output_type": "stream",
     "text": [
      "Setting up band-pass filter from 1 - 1e+02 Hz\n"
     ]
    },
    {
     "name": "stderr",
     "output_type": "stream",
     "text": [
      "[Parallel(n_jobs=4)]: Done  12 tasks      | elapsed:    0.4s\n",
      "[Parallel(n_jobs=4)]: Done  60 out of  60 | elapsed:    1.0s finished\n"
     ]
    },
    {
     "name": "stdout",
     "output_type": "stream",
     "text": [
      "Fitting ICA to data using 60 channels. \n",
      "Please be patient, this may take some time\n",
      "Inferring max_pca_components from picks.\n",
      "Using all PCA components: 60\n",
      "computing Extended Infomax ICA\n",
      "[Debug] Bad comps [0], good comps [1, 2, 3, 4, 5, 6, 7, 8, 9, 10, 11, 12, 13, 14, 15, 16, 17, 18, 19, 20, 21, 22, 23, 24, 25, 26, 27, 28, 29, 30, 31, 32, 33, 34, 35, 36, 37, 38, 39, 40, 41, 42, 43, 44, 45, 46, 47, 48, 49, 50, 51, 52, 53, 54, 55, 56, 57, 58, 59] \n",
      "Transforming to ICA space (60 components)\n",
      "Zeroing out 1 ICA components\n",
      "[Debug] Channels:  ['Fp1', 'Fz', 'F3', 'F7', 'FC5', 'FC1', 'C3', 'T7', 'CP5', 'CP1', 'Pz', 'P3', 'P7', 'O1', 'Oz', 'O2', 'P4', 'P8', 'CP2', 'Cz', 'C4', 'T8', 'FC6', 'FC2', 'F4', 'Fp2', 'AF7', 'AF3', 'AFz', 'F1', 'F5', 'FT7', 'FC3', 'FCz', 'C1', 'C5', 'TP7', 'CP3', 'P1', 'P5', 'PO7', 'PO3', 'POz', 'PO4', 'PO8', 'P6', 'P2', 'CPz', 'CP4', 'TP8', 'C6', 'C2', 'FC4', 'FT8', 'F6', 'F2', 'AF4', 'AF8'] 58\n",
      "./eeg_enc/train/2403_kutuzova_pre_eeg_psd_clear.png\n",
      "Clear eeg shape before correction,  (58, 602850)  Mask length:  58\n",
      "Clear eeg shape after correction,  (58, 602850)\n",
      "Extracting parameters from ./eeg_enc/train/bagaeva_post_eeg_13031500.vhdr...\n",
      "Setting channel info structure...\n",
      "Reading 0 ... 603899  =      0.000 ...   603.899 secs...\n",
      "Setting up band-stop filter from 49 - 51 Hz\n"
     ]
    },
    {
     "name": "stderr",
     "output_type": "stream",
     "text": [
      "[Parallel(n_jobs=4)]: Done  16 tasks      | elapsed:    0.6s\n",
      "[Parallel(n_jobs=4)]: Done  40 out of  60 | elapsed:    0.9s remaining:    0.5s\n",
      "[Parallel(n_jobs=4)]: Done  60 out of  60 | elapsed:    1.3s finished\n"
     ]
    },
    {
     "name": "stdout",
     "output_type": "stream",
     "text": [
      "Setting up band-pass filter from 1 - 1e+02 Hz\n"
     ]
    },
    {
     "name": "stderr",
     "output_type": "stream",
     "text": [
      "[Parallel(n_jobs=4)]: Done  12 tasks      | elapsed:    0.4s\n"
     ]
    },
    {
     "name": "stdout",
     "output_type": "stream",
     "text": [
      "Fitting ICA to data using 60 channels. \n",
      "Please be patient, this may take some time\n",
      "Inferring max_pca_components from picks.\n"
     ]
    },
    {
     "name": "stderr",
     "output_type": "stream",
     "text": [
      "[Parallel(n_jobs=4)]: Done  60 out of  60 | elapsed:    0.9s finished\n"
     ]
    },
    {
     "name": "stdout",
     "output_type": "stream",
     "text": [
      "Using all PCA components: 60\n",
      "computing Extended Infomax ICA\n",
      "[Debug] Bad comps [0, 6, 14], good comps [1, 2, 3, 4, 5, 7, 8, 9, 10, 11, 12, 13, 15, 16, 17, 18, 19, 20, 21, 22, 23, 24, 25, 26, 27, 28, 29, 30, 31, 32, 33, 34, 35, 36, 37, 38, 39, 40, 41, 42, 43, 44, 45, 46, 47, 48, 49, 50, 51, 52, 53, 54, 55, 56, 57, 58, 59] \n",
      "Transforming to ICA space (60 components)\n",
      "Zeroing out 3 ICA components\n",
      "[Debug] Channels:  ['Fp1', 'Fz', 'F3', 'F7', 'FC5', 'FC1', 'C3', 'T7', 'CP5', 'CP1', 'Pz', 'P3', 'P7', 'O1', 'Oz', 'O2', 'P4', 'P8', 'CP2', 'Cz', 'C4', 'T8', 'FC6', 'FC2', 'F4', 'Fp2', 'AF7', 'AF3', 'AFz', 'F1', 'F5', 'FT7', 'FC3', 'FCz', 'C1', 'C5', 'TP7', 'CP3', 'P1', 'P5', 'PO7', 'PO3', 'POz', 'PO4', 'PO8', 'P6', 'P2', 'CPz', 'CP4', 'TP8', 'C6', 'C2', 'FC4', 'FT8', 'F6', 'F2', 'AF4', 'AF8'] 58\n",
      "./eeg_enc/train/bagaeva_post_eeg_13031500_psd_clear.png\n",
      "Clear eeg shape before correction,  (58, 603900)  Mask length:  58\n",
      "Clear eeg shape after correction,  (58, 603900)\n",
      "Extracting parameters from ./eeg_enc/train/zavrin_15021500_eyesclosed_post_eeg.vhdr...\n",
      "Setting channel info structure...\n",
      "Reading 0 ... 319299  =      0.000 ...   319.299 secs...\n",
      "Setting up band-stop filter from 49 - 51 Hz\n"
     ]
    },
    {
     "name": "stderr",
     "output_type": "stream",
     "text": [
      "[Parallel(n_jobs=4)]: Done  20 tasks      | elapsed:    0.4s\n"
     ]
    },
    {
     "name": "stdout",
     "output_type": "stream",
     "text": [
      "Setting up band-pass filter from 1 - 1e+02 Hz\n"
     ]
    },
    {
     "name": "stderr",
     "output_type": "stream",
     "text": [
      "[Parallel(n_jobs=4)]: Done  60 out of  60 | elapsed:    0.7s finished\n",
      "[Parallel(n_jobs=4)]: Done  20 tasks      | elapsed:    0.4s\n"
     ]
    },
    {
     "name": "stdout",
     "output_type": "stream",
     "text": [
      "Fitting ICA to data using 60 channels. \n",
      "Please be patient, this may take some time\n",
      "Inferring max_pca_components from picks.\n"
     ]
    },
    {
     "name": "stderr",
     "output_type": "stream",
     "text": [
      "[Parallel(n_jobs=4)]: Done  60 out of  60 | elapsed:    0.7s finished\n"
     ]
    },
    {
     "name": "stdout",
     "output_type": "stream",
     "text": [
      "Using all PCA components: 60\n",
      "computing Extended Infomax ICA\n",
      "[Debug] Bad comps [21, 3, 22], good comps [0, 1, 2, 4, 5, 6, 7, 8, 9, 10, 11, 12, 13, 14, 15, 16, 17, 18, 19, 20, 23, 24, 25, 26, 27, 28, 29, 30, 31, 32, 33, 34, 35, 36, 37, 38, 39, 40, 41, 42, 43, 44, 45, 46, 47, 48, 49, 50, 51, 52, 53, 54, 55, 56, 57, 58, 59] \n",
      "Transforming to ICA space (60 components)\n",
      "Zeroing out 3 ICA components\n",
      "[Debug] Channels:  ['Fp1', 'Fz', 'F3', 'F7', 'FC5', 'FC1', 'C3', 'T7', 'CP5', 'CP1', 'Pz', 'P3', 'P7', 'O1', 'Oz', 'O2', 'P4', 'P8', 'CP2', 'Cz', 'C4', 'T8', 'FC6', 'FC2', 'F4', 'Fp2', 'AF7', 'AF3', 'AFz', 'F1', 'F5', 'FT7', 'FC3', 'FCz', 'C1', 'C5', 'TP7', 'CP3', 'P1', 'P5', 'PO7', 'PO3', 'POz', 'PO4', 'PO8', 'P6', 'P2', 'CPz', 'CP4', 'TP8', 'C6', 'C2', 'FC4', 'FT8', 'F6', 'F2', 'AF4', 'AF8'] 58\n",
      "./eeg_enc/train/zavrin_15021500_eyesclosed_post_eeg_psd_clear.png\n",
      "Clear eeg shape before correction,  (58, 319300)  Mask length:  58\n",
      "Clear eeg shape after correction,  (58, 319300)\n",
      "Extracting parameters from ./eeg_enc/train/2205_miloslavov_post_eeg.vhdr...\n",
      "Setting channel info structure...\n",
      "Reading 0 ... 623249  =      0.000 ...   623.249 secs...\n",
      "Setting up band-stop filter from 49 - 51 Hz\n"
     ]
    },
    {
     "name": "stderr",
     "output_type": "stream",
     "text": [
      "[Parallel(n_jobs=4)]: Done  16 tasks      | elapsed:    0.6s\n",
      "[Parallel(n_jobs=4)]: Done  40 out of  60 | elapsed:    1.0s remaining:    0.5s\n",
      "[Parallel(n_jobs=4)]: Done  60 out of  60 | elapsed:    1.3s finished\n"
     ]
    },
    {
     "name": "stdout",
     "output_type": "stream",
     "text": [
      "Setting up band-pass filter from 1 - 1e+02 Hz\n"
     ]
    },
    {
     "name": "stderr",
     "output_type": "stream",
     "text": [
      "[Parallel(n_jobs=4)]: Done  12 tasks      | elapsed:    0.3s\n",
      "[Parallel(n_jobs=4)]: Done  60 out of  60 | elapsed:    0.9s finished\n"
     ]
    },
    {
     "name": "stdout",
     "output_type": "stream",
     "text": [
      "Fitting ICA to data using 60 channels. \n",
      "Please be patient, this may take some time\n",
      "Inferring max_pca_components from picks.\n",
      "Using all PCA components: 60\n",
      "computing Extended Infomax ICA\n",
      "[Debug] Bad comps [6, 18], good comps [0, 1, 2, 3, 4, 5, 7, 8, 9, 10, 11, 12, 13, 14, 15, 16, 17, 19, 20, 21, 22, 23, 24, 25, 26, 27, 28, 29, 30, 31, 32, 33, 34, 35, 36, 37, 38, 39, 40, 41, 42, 43, 44, 45, 46, 47, 48, 49, 50, 51, 52, 53, 54, 55, 56, 57, 58, 59] \n",
      "Transforming to ICA space (60 components)\n",
      "Zeroing out 2 ICA components\n",
      "[Debug] Channels:  ['Fp1', 'Fz', 'F3', 'F7', 'FC5', 'FC1', 'C3', 'T7', 'CP5', 'CP1', 'Pz', 'P3', 'P7', 'O1', 'Oz', 'O2', 'P4', 'P8', 'CP2', 'Cz', 'C4', 'T8', 'FC6', 'FC2', 'F4', 'Fp2', 'AF7', 'AF3', 'AFz', 'F1', 'F5', 'FT7', 'FC3', 'FCz', 'C1', 'C5', 'TP7', 'CP3', 'P1', 'P5', 'PO7', 'PO3', 'POz', 'PO4', 'PO8', 'P6', 'P2', 'CPz', 'CP4', 'TP8', 'C6', 'C2', 'FC4', 'FT8', 'F6', 'F2', 'AF4', 'AF8'] 58\n",
      "./eeg_enc/train/2205_miloslavov_post_eeg_psd_clear.png\n",
      "Clear eeg shape before correction,  (58, 623250)  Mask length:  58\n",
      "Clear eeg shape after correction,  (58, 623250)\n",
      "Extracting parameters from ./eeg_enc/train/tsoy_pre_eeg_2504.vhdr...\n",
      "Setting channel info structure...\n",
      "Reading 0 ... 652699  =      0.000 ...   652.699 secs...\n",
      "Setting up band-stop filter from 49 - 51 Hz\n"
     ]
    },
    {
     "name": "stderr",
     "output_type": "stream",
     "text": [
      "[Parallel(n_jobs=4)]: Done  12 tasks      | elapsed:    0.4s\n",
      "[Parallel(n_jobs=4)]: Done  60 out of  60 | elapsed:    1.0s finished\n"
     ]
    },
    {
     "name": "stdout",
     "output_type": "stream",
     "text": [
      "Setting up band-pass filter from 1 - 1e+02 Hz\n"
     ]
    },
    {
     "name": "stderr",
     "output_type": "stream",
     "text": [
      "[Parallel(n_jobs=4)]: Done  12 tasks      | elapsed:    0.4s\n",
      "[Parallel(n_jobs=4)]: Done  60 out of  60 | elapsed:    1.0s finished\n"
     ]
    },
    {
     "name": "stdout",
     "output_type": "stream",
     "text": [
      "Fitting ICA to data using 60 channels. \n",
      "Please be patient, this may take some time\n",
      "Inferring max_pca_components from picks.\n",
      "Using all PCA components: 60\n",
      "computing Extended Infomax ICA\n",
      "[Debug] Bad comps [1, 0, 8, 10], good comps [2, 3, 4, 5, 6, 7, 9, 11, 12, 13, 14, 15, 16, 17, 18, 19, 20, 21, 22, 23, 24, 25, 26, 27, 28, 29, 30, 31, 32, 33, 34, 35, 36, 37, 38, 39, 40, 41, 42, 43, 44, 45, 46, 47, 48, 49, 50, 51, 52, 53, 54, 55, 56, 57, 58, 59] \n",
      "Transforming to ICA space (60 components)\n",
      "Zeroing out 4 ICA components\n",
      "[Debug] Channels:  ['Fp1', 'Fz', 'F3', 'F7', 'FC5', 'FC1', 'C3', 'T7', 'CP5', 'CP1', 'Pz', 'P3', 'P7', 'O1', 'Oz', 'O2', 'P4', 'P8', 'CP2', 'Cz', 'C4', 'T8', 'FC6', 'FC2', 'F4', 'Fp2', 'AF7', 'AF3', 'AFz', 'F1', 'F5', 'FT7', 'FC3', 'FCz', 'C1', 'C5', 'TP7', 'CP3', 'P1', 'P5', 'PO7', 'PO3', 'POz', 'PO4', 'PO8', 'P6', 'P2', 'CPz', 'CP4', 'TP8', 'C6', 'C2', 'FC4', 'FT8', 'F6', 'F2', 'AF4', 'AF8'] 58\n",
      "./eeg_enc/train/tsoy_pre_eeg_2504_psd_clear.png\n",
      "Clear eeg shape before correction,  (58, 652700)  Mask length:  58\n",
      "Clear eeg shape after correction,  (58, 652700)\n",
      "Extracting parameters from ./eeg_enc/train/2103_glebko_posteeg.vhdr...\n",
      "Setting channel info structure...\n",
      "Reading 0 ... 633899  =      0.000 ...   633.899 secs...\n",
      "Setting up band-stop filter from 49 - 51 Hz\n"
     ]
    },
    {
     "name": "stderr",
     "output_type": "stream",
     "text": [
      "[Parallel(n_jobs=4)]: Done  12 tasks      | elapsed:    0.4s\n",
      "[Parallel(n_jobs=4)]: Done  60 out of  60 | elapsed:    1.0s finished\n"
     ]
    },
    {
     "name": "stdout",
     "output_type": "stream",
     "text": [
      "Setting up band-pass filter from 1 - 1e+02 Hz\n"
     ]
    },
    {
     "name": "stderr",
     "output_type": "stream",
     "text": [
      "[Parallel(n_jobs=4)]: Done  12 tasks      | elapsed:    0.4s\n",
      "[Parallel(n_jobs=4)]: Done  60 out of  60 | elapsed:    1.0s finished\n"
     ]
    },
    {
     "name": "stdout",
     "output_type": "stream",
     "text": [
      "Fitting ICA to data using 60 channels. \n",
      "Please be patient, this may take some time\n",
      "Inferring max_pca_components from picks.\n",
      "Using all PCA components: 60\n",
      "computing Extended Infomax ICA\n",
      "[Debug] Bad comps [0, 1, 30, 2], good comps [3, 4, 5, 6, 7, 8, 9, 10, 11, 12, 13, 14, 15, 16, 17, 18, 19, 20, 21, 22, 23, 24, 25, 26, 27, 28, 29, 31, 32, 33, 34, 35, 36, 37, 38, 39, 40, 41, 42, 43, 44, 45, 46, 47, 48, 49, 50, 51, 52, 53, 54, 55, 56, 57, 58, 59] \n",
      "Transforming to ICA space (60 components)\n",
      "Zeroing out 4 ICA components\n",
      "[Debug] Channels:  ['Fp1', 'Fz', 'F3', 'F7', 'FC5', 'FC1', 'C3', 'T7', 'CP5', 'CP1', 'Pz', 'P3', 'P7', 'O1', 'Oz', 'O2', 'P4', 'P8', 'CP2', 'Cz', 'C4', 'T8', 'FC6', 'FC2', 'F4', 'Fp2', 'AF7', 'AF3', 'AFz', 'F1', 'F5', 'FT7', 'FC3', 'FCz', 'C1', 'C5', 'TP7', 'CP3', 'P1', 'P5', 'PO7', 'PO3', 'POz', 'PO4', 'PO8', 'P6', 'P2', 'CPz', 'CP4', 'TP8', 'C6', 'C2', 'FC4', 'FT8', 'F6', 'F2', 'AF4', 'AF8'] 58\n",
      "./eeg_enc/train/2103_glebko_posteeg_psd_clear.png\n",
      "Clear eeg shape before correction,  (58, 633900)  Mask length:  58\n",
      "Clear eeg shape after correction,  (58, 633900)\n",
      "Extracting parameters from ./eeg_enc/train/2403_kutuzova_posteeg.vhdr...\n",
      "Setting channel info structure...\n",
      "Reading 0 ... 604199  =      0.000 ...   604.199 secs...\n",
      "Setting up band-stop filter from 49 - 51 Hz\n"
     ]
    },
    {
     "name": "stderr",
     "output_type": "stream",
     "text": [
      "[Parallel(n_jobs=4)]: Done  16 tasks      | elapsed:    0.5s\n",
      "[Parallel(n_jobs=4)]: Done  40 out of  60 | elapsed:    0.9s remaining:    0.5s\n",
      "[Parallel(n_jobs=4)]: Done  60 out of  60 | elapsed:    1.2s finished\n"
     ]
    },
    {
     "name": "stdout",
     "output_type": "stream",
     "text": [
      "Setting up band-pass filter from 1 - 1e+02 Hz\n"
     ]
    },
    {
     "name": "stderr",
     "output_type": "stream",
     "text": [
      "[Parallel(n_jobs=4)]: Done  12 tasks      | elapsed:    0.4s\n",
      "[Parallel(n_jobs=4)]: Done  60 out of  60 | elapsed:    1.0s finished\n"
     ]
    },
    {
     "name": "stdout",
     "output_type": "stream",
     "text": [
      "Fitting ICA to data using 60 channels. \n",
      "Please be patient, this may take some time\n",
      "Inferring max_pca_components from picks.\n",
      "Using all PCA components: 60\n",
      "computing Extended Infomax ICA\n",
      "[Debug] Bad comps [1, 0], good comps [2, 3, 4, 5, 6, 7, 8, 9, 10, 11, 12, 13, 14, 15, 16, 17, 18, 19, 20, 21, 22, 23, 24, 25, 26, 27, 28, 29, 30, 31, 32, 33, 34, 35, 36, 37, 38, 39, 40, 41, 42, 43, 44, 45, 46, 47, 48, 49, 50, 51, 52, 53, 54, 55, 56, 57, 58, 59] \n",
      "Transforming to ICA space (60 components)\n",
      "Zeroing out 2 ICA components\n",
      "[Debug] Channels:  ['Fp1', 'Fz', 'F3', 'F7', 'FC5', 'FC1', 'C3', 'T7', 'CP5', 'CP1', 'Pz', 'P3', 'P7', 'O1', 'Oz', 'O2', 'P4', 'P8', 'CP2', 'Cz', 'C4', 'T8', 'FC6', 'FC2', 'F4', 'Fp2', 'AF7', 'AF3', 'AFz', 'F1', 'F5', 'FT7', 'FC3', 'FCz', 'C1', 'C5', 'TP7', 'CP3', 'P1', 'P5', 'PO7', 'PO3', 'POz', 'PO4', 'PO8', 'P6', 'P2', 'CPz', 'CP4', 'TP8', 'C6', 'C2', 'FC4', 'FT8', 'F6', 'F2', 'AF4', 'AF8'] 58\n",
      "./eeg_enc/train/2403_kutuzova_posteeg_psd_clear.png\n",
      "Clear eeg shape before correction,  (58, 604200)  Mask length:  58\n",
      "Clear eeg shape after correction,  (58, 604200)\n",
      "Extracting parameters from ./eeg_enc/train/zagirova_pre_eeg_2704.vhdr...\n",
      "Setting channel info structure...\n",
      "Reading 0 ... 607549  =      0.000 ...   607.549 secs...\n",
      "Setting up band-stop filter from 49 - 51 Hz\n"
     ]
    },
    {
     "name": "stderr",
     "output_type": "stream",
     "text": [
      "[Parallel(n_jobs=4)]: Done  16 tasks      | elapsed:    0.6s\n",
      "[Parallel(n_jobs=4)]: Done  40 out of  60 | elapsed:    0.9s remaining:    0.5s\n",
      "[Parallel(n_jobs=4)]: Done  60 out of  60 | elapsed:    1.3s finished\n"
     ]
    },
    {
     "name": "stdout",
     "output_type": "stream",
     "text": [
      "Setting up band-pass filter from 1 - 1e+02 Hz\n"
     ]
    },
    {
     "name": "stderr",
     "output_type": "stream",
     "text": [
      "[Parallel(n_jobs=4)]: Done  12 tasks      | elapsed:    0.3s\n",
      "[Parallel(n_jobs=4)]: Done  60 out of  60 | elapsed:    1.0s finished\n"
     ]
    },
    {
     "name": "stdout",
     "output_type": "stream",
     "text": [
      "Fitting ICA to data using 57 channels. \n",
      "Please be patient, this may take some time\n",
      "Inferring max_pca_components from picks.\n",
      "Using all PCA components: 57\n",
      "computing Extended Infomax ICA\n",
      "[Debug] Bad comps [0, 14, 3], good comps [1, 2, 4, 5, 6, 7, 8, 9, 10, 11, 12, 13, 15, 16, 17, 18, 19, 20, 21, 22, 23, 24, 25, 26, 27, 28, 29, 30, 31, 32, 33, 34, 35, 36, 37, 38, 39, 40, 41, 42, 43, 44, 45, 46, 47, 48, 49, 50, 51, 52, 53, 54, 55, 56] \n",
      "Transforming to ICA space (57 components)\n",
      "Zeroing out 3 ICA components\n",
      "[Debug] Channels:  ['Fp1', 'Fz', 'F3', 'F7', 'FC5', 'FC1', 'C3', 'T7', 'CP5', 'CP1', 'Pz', 'P3', 'P7', 'O1', 'Oz', 'O2', 'P4', 'P8', 'CP2', 'Cz', 'C4', 'T8', 'FC6', 'FC2', 'F4', 'Fp2', 'AF7', 'AF3', 'AFz', 'F1', 'F5', 'FT7', 'FC3', 'FCz', 'C1', 'C5', 'TP7', 'CP3', 'P1', 'P5', 'PO7', 'PO3', 'POz', 'PO4', 'PO8', 'P6', 'P2', 'CPz', 'CP4', 'TP8', 'C6', 'C2', 'FC4', 'FT8', 'F6', 'F2', 'AF4', 'AF8'] 58\n",
      "./eeg_enc/train/zagirova_pre_eeg_2704_psd_clear.png\n",
      "Clear eeg shape before correction,  (55, 607550)  Mask length:  55\n",
      "Clear eeg shape after correction,  (58, 607550)\n",
      "Extracting parameters from ./eeg_enc/train/zavrin_open_eyes_eeg_15021500.vhdr...\n",
      "Setting channel info structure...\n",
      "Reading 0 ... 301999  =      0.000 ...   301.999 secs...\n",
      "Setting up band-stop filter from 49 - 51 Hz\n"
     ]
    },
    {
     "name": "stderr",
     "output_type": "stream",
     "text": [
      "[Parallel(n_jobs=4)]: Done  40 out of  60 | elapsed:    0.6s remaining:    0.3s\n",
      "[Parallel(n_jobs=4)]: Done  60 out of  60 | elapsed:    0.8s finished\n"
     ]
    },
    {
     "name": "stdout",
     "output_type": "stream",
     "text": [
      "Setting up band-pass filter from 1 - 1e+02 Hz\n"
     ]
    },
    {
     "name": "stderr",
     "output_type": "stream",
     "text": [
      "[Parallel(n_jobs=4)]: Done  20 tasks      | elapsed:    0.4s\n"
     ]
    },
    {
     "name": "stdout",
     "output_type": "stream",
     "text": [
      "Fitting ICA to data using 60 channels. \n",
      "Please be patient, this may take some time\n",
      "Inferring max_pca_components from picks.\n"
     ]
    },
    {
     "name": "stderr",
     "output_type": "stream",
     "text": [
      "[Parallel(n_jobs=4)]: Done  60 out of  60 | elapsed:    0.6s finished\n"
     ]
    },
    {
     "name": "stdout",
     "output_type": "stream",
     "text": [
      "Using all PCA components: 60\n",
      "computing Extended Infomax ICA\n",
      "[Debug] Bad comps [2, 16, 7], good comps [0, 1, 3, 4, 5, 6, 8, 9, 10, 11, 12, 13, 14, 15, 17, 18, 19, 20, 21, 22, 23, 24, 25, 26, 27, 28, 29, 30, 31, 32, 33, 34, 35, 36, 37, 38, 39, 40, 41, 42, 43, 44, 45, 46, 47, 48, 49, 50, 51, 52, 53, 54, 55, 56, 57, 58, 59] \n",
      "Transforming to ICA space (60 components)\n",
      "Zeroing out 3 ICA components\n",
      "[Debug] Channels:  ['Fp1', 'Fz', 'F3', 'F7', 'FC5', 'FC1', 'C3', 'T7', 'CP5', 'CP1', 'Pz', 'P3', 'P7', 'O1', 'Oz', 'O2', 'P4', 'P8', 'CP2', 'Cz', 'C4', 'T8', 'FC6', 'FC2', 'F4', 'Fp2', 'AF7', 'AF3', 'AFz', 'F1', 'F5', 'FT7', 'FC3', 'FCz', 'C1', 'C5', 'TP7', 'CP3', 'P1', 'P5', 'PO7', 'PO3', 'POz', 'PO4', 'PO8', 'P6', 'P2', 'CPz', 'CP4', 'TP8', 'C6', 'C2', 'FC4', 'FT8', 'F6', 'F2', 'AF4', 'AF8'] 58\n",
      "./eeg_enc/train/zavrin_open_eyes_eeg_15021500_psd_clear.png\n",
      "Clear eeg shape before correction,  (58, 302000)  Mask length:  58\n",
      "Clear eeg shape after correction,  (58, 302000)\n",
      "Extracting parameters from ./eeg_enc/train/08021400_post_eeg_shuhova.vhdr...\n",
      "Setting channel info structure...\n",
      "Reading 0 ... 607199  =      0.000 ...   607.199 secs...\n",
      "Setting up band-stop filter from 49 - 51 Hz\n"
     ]
    },
    {
     "name": "stderr",
     "output_type": "stream",
     "text": [
      "[Parallel(n_jobs=4)]: Done  16 tasks      | elapsed:    0.5s\n",
      "[Parallel(n_jobs=4)]: Done  40 out of  60 | elapsed:    0.9s remaining:    0.4s\n",
      "[Parallel(n_jobs=4)]: Done  60 out of  60 | elapsed:    1.2s finished\n"
     ]
    },
    {
     "name": "stdout",
     "output_type": "stream",
     "text": [
      "Setting up band-pass filter from 1 - 1e+02 Hz\n"
     ]
    },
    {
     "name": "stderr",
     "output_type": "stream",
     "text": [
      "[Parallel(n_jobs=4)]: Done  16 tasks      | elapsed:    0.5s\n",
      "[Parallel(n_jobs=4)]: Done  40 out of  60 | elapsed:    0.9s remaining:    0.4s\n",
      "[Parallel(n_jobs=4)]: Done  60 out of  60 | elapsed:    1.2s finished\n"
     ]
    },
    {
     "name": "stdout",
     "output_type": "stream",
     "text": [
      "Fitting ICA to data using 60 channels. \n",
      "Please be patient, this may take some time\n",
      "Inferring max_pca_components from picks.\n",
      "Using all PCA components: 60\n",
      "computing Extended Infomax ICA\n",
      "[Debug] Bad comps [16, 14, 0], good comps [1, 2, 3, 4, 5, 6, 7, 8, 9, 10, 11, 12, 13, 15, 17, 18, 19, 20, 21, 22, 23, 24, 25, 26, 27, 28, 29, 30, 31, 32, 33, 34, 35, 36, 37, 38, 39, 40, 41, 42, 43, 44, 45, 46, 47, 48, 49, 50, 51, 52, 53, 54, 55, 56, 57, 58, 59] \n",
      "Transforming to ICA space (60 components)\n",
      "Zeroing out 3 ICA components\n",
      "[Debug] Channels:  ['Fp1', 'Fz', 'F3', 'F7', 'FC5', 'FC1', 'C3', 'T7', 'CP5', 'CP1', 'Pz', 'P3', 'P7', 'O1', 'Oz', 'O2', 'P4', 'P8', 'CP2', 'Cz', 'C4', 'T8', 'FC6', 'FC2', 'F4', 'Fp2', 'AF7', 'AF3', 'AFz', 'F1', 'F5', 'FT7', 'FC3', 'FCz', 'C1', 'C5', 'TP7', 'CP3', 'P1', 'P5', 'PO7', 'PO3', 'POz', 'PO4', 'PO8', 'P6', 'P2', 'CPz', 'CP4', 'TP8', 'C6', 'C2', 'FC4', 'FT8', 'F6', 'F2', 'AF4', 'AF8'] 58\n",
      "./eeg_enc/train/08021400_post_eeg_shuhova_psd_clear.png\n",
      "Clear eeg shape before correction,  (58, 607200)  Mask length:  58\n",
      "Clear eeg shape after correction,  (58, 607200)\n",
      "Extracting parameters from ./eeg_enc/train/300120171600_dagaev_rest_eeg.vhdr...\n",
      "Setting channel info structure...\n",
      "Reading 0 ... 615599  =      0.000 ...   615.599 secs...\n",
      "Setting up band-stop filter from 49 - 51 Hz\n"
     ]
    },
    {
     "name": "stderr",
     "output_type": "stream",
     "text": [
      "[Parallel(n_jobs=4)]: Done  16 tasks      | elapsed:    0.5s\n",
      "[Parallel(n_jobs=4)]: Done  40 out of  60 | elapsed:    0.9s remaining:    0.5s\n",
      "[Parallel(n_jobs=4)]: Done  60 out of  60 | elapsed:    1.2s finished\n"
     ]
    },
    {
     "name": "stdout",
     "output_type": "stream",
     "text": [
      "Setting up band-pass filter from 1 - 1e+02 Hz\n"
     ]
    },
    {
     "name": "stderr",
     "output_type": "stream",
     "text": [
      "[Parallel(n_jobs=4)]: Done  16 tasks      | elapsed:    0.5s\n",
      "[Parallel(n_jobs=4)]: Done  40 out of  60 | elapsed:    0.9s remaining:    0.4s\n",
      "[Parallel(n_jobs=4)]: Done  60 out of  60 | elapsed:    1.1s finished\n"
     ]
    },
    {
     "name": "stdout",
     "output_type": "stream",
     "text": [
      "Fitting ICA to data using 60 channels. \n",
      "Please be patient, this may take some time\n",
      "Inferring max_pca_components from picks.\n",
      "Using all PCA components: 60\n",
      "computing Extended Infomax ICA\n",
      "[Debug] Bad comps [8, 6, 2, 1], good comps [0, 3, 4, 5, 7, 9, 10, 11, 12, 13, 14, 15, 16, 17, 18, 19, 20, 21, 22, 23, 24, 25, 26, 27, 28, 29, 30, 31, 32, 33, 34, 35, 36, 37, 38, 39, 40, 41, 42, 43, 44, 45, 46, 47, 48, 49, 50, 51, 52, 53, 54, 55, 56, 57, 58, 59] \n",
      "Transforming to ICA space (60 components)\n",
      "Zeroing out 4 ICA components\n",
      "[Debug] Channels:  ['Fp1', 'Fz', 'F3', 'F7', 'FC5', 'FC1', 'C3', 'T7', 'CP5', 'CP1', 'Pz', 'P3', 'P7', 'O1', 'Oz', 'O2', 'P4', 'P8', 'CP2', 'Cz', 'C4', 'T8', 'FC6', 'FC2', 'F4', 'Fp2', 'AF7', 'AF3', 'AFz', 'F1', 'F5', 'FT7', 'FC3', 'FCz', 'C1', 'C5', 'TP7', 'CP3', 'P1', 'P5', 'PO7', 'PO3', 'POz', 'PO4', 'PO8', 'P6', 'P2', 'CPz', 'CP4', 'TP8', 'C6', 'C2', 'FC4', 'FT8', 'F6', 'F2', 'AF4', 'AF8'] 58\n",
      "./eeg_enc/train/300120171600_dagaev_rest_eeg_psd_clear.png\n",
      "Clear eeg shape before correction,  (58, 615600)  Mask length:  58\n",
      "Clear eeg shape after correction,  (58, 615600)\n",
      "Extracting parameters from ./eeg_enc/train/kozunova_pre_eeg_2103.vhdr...\n",
      "Setting channel info structure...\n",
      "Reading 0 ... 602849  =      0.000 ...   602.849 secs...\n",
      "Setting up band-stop filter from 49 - 51 Hz\n"
     ]
    },
    {
     "name": "stderr",
     "output_type": "stream",
     "text": [
      "[Parallel(n_jobs=4)]: Done  12 tasks      | elapsed:    0.4s\n",
      "[Parallel(n_jobs=4)]: Done  60 out of  60 | elapsed:    1.0s finished\n"
     ]
    },
    {
     "name": "stdout",
     "output_type": "stream",
     "text": [
      "Setting up band-pass filter from 1 - 1e+02 Hz\n"
     ]
    },
    {
     "name": "stderr",
     "output_type": "stream",
     "text": [
      "[Parallel(n_jobs=4)]: Done  12 tasks      | elapsed:    0.4s\n",
      "[Parallel(n_jobs=4)]: Done  60 out of  60 | elapsed:    1.0s finished\n"
     ]
    },
    {
     "name": "stdout",
     "output_type": "stream",
     "text": [
      "Fitting ICA to data using 60 channels. \n",
      "Please be patient, this may take some time\n",
      "Inferring max_pca_components from picks.\n",
      "Using all PCA components: 60\n",
      "computing Extended Infomax ICA\n",
      "[Debug] Bad comps [0, 8, 6], good comps [1, 2, 3, 4, 5, 7, 9, 10, 11, 12, 13, 14, 15, 16, 17, 18, 19, 20, 21, 22, 23, 24, 25, 26, 27, 28, 29, 30, 31, 32, 33, 34, 35, 36, 37, 38, 39, 40, 41, 42, 43, 44, 45, 46, 47, 48, 49, 50, 51, 52, 53, 54, 55, 56, 57, 58, 59] \n",
      "Transforming to ICA space (60 components)\n",
      "Zeroing out 3 ICA components\n",
      "[Debug] Channels:  ['Fp1', 'Fz', 'F3', 'F7', 'FC5', 'FC1', 'C3', 'T7', 'CP5', 'CP1', 'Pz', 'P3', 'P7', 'O1', 'Oz', 'O2', 'P4', 'P8', 'CP2', 'Cz', 'C4', 'T8', 'FC6', 'FC2', 'F4', 'Fp2', 'AF7', 'AF3', 'AFz', 'F1', 'F5', 'FT7', 'FC3', 'FCz', 'C1', 'C5', 'TP7', 'CP3', 'P1', 'P5', 'PO7', 'PO3', 'POz', 'PO4', 'PO8', 'P6', 'P2', 'CPz', 'CP4', 'TP8', 'C6', 'C2', 'FC4', 'FT8', 'F6', 'F2', 'AF4', 'AF8'] 58\n",
      "./eeg_enc/train/kozunova_pre_eeg_2103_psd_clear.png\n",
      "Clear eeg shape before correction,  (58, 602850)  Mask length:  58\n",
      "Clear eeg shape after correction,  (58, 602850)\n",
      "Extracting parameters from ./eeg_enc/train/2505_shirokova.vhdr...\n",
      "Setting channel info structure...\n",
      "Reading 0 ... 604799  =      0.000 ...   604.799 secs...\n",
      "Setting up band-stop filter from 49 - 51 Hz\n"
     ]
    },
    {
     "name": "stderr",
     "output_type": "stream",
     "text": [
      "[Parallel(n_jobs=4)]: Done  12 tasks      | elapsed:    0.3s\n",
      "[Parallel(n_jobs=4)]: Done  60 out of  60 | elapsed:    0.9s finished\n"
     ]
    },
    {
     "name": "stdout",
     "output_type": "stream",
     "text": [
      "Setting up band-pass filter from 1 - 1e+02 Hz\n"
     ]
    },
    {
     "name": "stderr",
     "output_type": "stream",
     "text": [
      "[Parallel(n_jobs=4)]: Done  12 tasks      | elapsed:    0.4s\n",
      "[Parallel(n_jobs=4)]: Done  60 out of  60 | elapsed:    0.9s finished\n"
     ]
    },
    {
     "name": "stdout",
     "output_type": "stream",
     "text": [
      "Fitting ICA to data using 57 channels. \n",
      "Please be patient, this may take some time\n",
      "Inferring max_pca_components from picks.\n",
      "Using all PCA components: 57\n",
      "computing Extended Infomax ICA\n",
      "[Debug] Bad comps [0, 9, 6, 1], good comps [2, 3, 4, 5, 7, 8, 10, 11, 12, 13, 14, 15, 16, 17, 18, 19, 20, 21, 22, 23, 24, 25, 26, 27, 28, 29, 30, 31, 32, 33, 34, 35, 36, 37, 38, 39, 40, 41, 42, 43, 44, 45, 46, 47, 48, 49, 50, 51, 52, 53, 54, 55, 56] \n",
      "Transforming to ICA space (57 components)\n",
      "Zeroing out 4 ICA components\n",
      "[Debug] Channels:  ['Fp1', 'Fz', 'F3', 'F7', 'FC5', 'FC1', 'C3', 'T7', 'CP5', 'CP1', 'Pz', 'P3', 'P7', 'O1', 'Oz', 'O2', 'P4', 'P8', 'CP2', 'Cz', 'C4', 'T8', 'FC6', 'FC2', 'F4', 'Fp2', 'AF7', 'AF3', 'AFz', 'F1', 'F5', 'FT7', 'FC3', 'FCz', 'C1', 'C5', 'TP7', 'CP3', 'P1', 'P5', 'PO7', 'PO3', 'POz', 'PO4', 'PO8', 'P6', 'P2', 'CPz', 'CP4', 'TP8', 'C6', 'C2', 'FC4', 'FT8', 'F6', 'F2', 'AF4', 'AF8'] 58\n",
      "./eeg_enc/train/2505_shirokova_psd_clear.png\n",
      "Clear eeg shape before correction,  (55, 604800)  Mask length:  55\n",
      "Clear eeg shape after correction,  (58, 604800)\n",
      "Extracting parameters from ./eeg_enc/train/dagaev_post_rest_eeg_30011600.vhdr...\n",
      "Setting channel info structure...\n",
      "Reading 0 ... 603799  =      0.000 ...   603.799 secs...\n",
      "Setting up band-stop filter from 49 - 51 Hz\n"
     ]
    },
    {
     "name": "stderr",
     "output_type": "stream",
     "text": [
      "[Parallel(n_jobs=4)]: Done  12 tasks      | elapsed:    0.3s\n",
      "[Parallel(n_jobs=4)]: Done  60 out of  60 | elapsed:    1.0s finished\n"
     ]
    },
    {
     "name": "stdout",
     "output_type": "stream",
     "text": [
      "Setting up band-pass filter from 1 - 1e+02 Hz\n"
     ]
    },
    {
     "name": "stderr",
     "output_type": "stream",
     "text": [
      "[Parallel(n_jobs=4)]: Done  12 tasks      | elapsed:    0.3s\n",
      "[Parallel(n_jobs=4)]: Done  60 out of  60 | elapsed:    1.0s finished\n"
     ]
    },
    {
     "name": "stdout",
     "output_type": "stream",
     "text": [
      "Fitting ICA to data using 60 channels. \n",
      "Please be patient, this may take some time\n",
      "Inferring max_pca_components from picks.\n",
      "Using all PCA components: 60\n",
      "computing Extended Infomax ICA\n",
      "[Debug] Bad comps [3, 9, 1, 0], good comps [2, 4, 5, 6, 7, 8, 10, 11, 12, 13, 14, 15, 16, 17, 18, 19, 20, 21, 22, 23, 24, 25, 26, 27, 28, 29, 30, 31, 32, 33, 34, 35, 36, 37, 38, 39, 40, 41, 42, 43, 44, 45, 46, 47, 48, 49, 50, 51, 52, 53, 54, 55, 56, 57, 58, 59] \n",
      "Transforming to ICA space (60 components)\n",
      "Zeroing out 4 ICA components\n",
      "[Debug] Channels:  ['Fp1', 'Fz', 'F3', 'F7', 'FC5', 'FC1', 'C3', 'T7', 'CP5', 'CP1', 'Pz', 'P3', 'P7', 'O1', 'Oz', 'O2', 'P4', 'P8', 'CP2', 'Cz', 'C4', 'T8', 'FC6', 'FC2', 'F4', 'Fp2', 'AF7', 'AF3', 'AFz', 'F1', 'F5', 'FT7', 'FC3', 'FCz', 'C1', 'C5', 'TP7', 'CP3', 'P1', 'P5', 'PO7', 'PO3', 'POz', 'PO4', 'PO8', 'P6', 'P2', 'CPz', 'CP4', 'TP8', 'C6', 'C2', 'FC4', 'FT8', 'F6', 'F2', 'AF4', 'AF8'] 58\n",
      "./eeg_enc/train/dagaev_post_rest_eeg_30011600_psd_clear.png\n",
      "Clear eeg shape before correction,  (58, 603800)  Mask length:  58\n",
      "Clear eeg shape after correction,  (58, 603800)\n",
      "Extracting parameters from ./eeg_enc/train/2505_shirokova_post_eeg.vhdr...\n",
      "Setting channel info structure...\n",
      "Reading 0 ... 606599  =      0.000 ...   606.599 secs...\n",
      "Setting up band-stop filter from 49 - 51 Hz\n"
     ]
    },
    {
     "name": "stderr",
     "output_type": "stream",
     "text": [
      "[Parallel(n_jobs=4)]: Done  16 tasks      | elapsed:    0.5s\n",
      "[Parallel(n_jobs=4)]: Done  40 out of  60 | elapsed:    0.9s remaining:    0.5s\n",
      "[Parallel(n_jobs=4)]: Done  60 out of  60 | elapsed:    1.2s finished\n"
     ]
    },
    {
     "name": "stdout",
     "output_type": "stream",
     "text": [
      "Setting up band-pass filter from 1 - 1e+02 Hz\n"
     ]
    },
    {
     "name": "stderr",
     "output_type": "stream",
     "text": [
      "[Parallel(n_jobs=4)]: Done  12 tasks      | elapsed:    0.3s\n",
      "[Parallel(n_jobs=4)]: Done  40 out of  60 | elapsed:    0.9s remaining:    0.4s\n"
     ]
    },
    {
     "name": "stdout",
     "output_type": "stream",
     "text": [
      "Fitting ICA to data using 53 channels. \n",
      "Please be patient, this may take some time\n"
     ]
    },
    {
     "name": "stderr",
     "output_type": "stream",
     "text": [
      "[Parallel(n_jobs=4)]: Done  60 out of  60 | elapsed:    1.2s finished\n"
     ]
    },
    {
     "name": "stdout",
     "output_type": "stream",
     "text": [
      "Inferring max_pca_components from picks.\n",
      "Using all PCA components: 53\n",
      "computing Extended Infomax ICA\n",
      "[Debug] Bad comps [0, 1, 14, 12], good comps [2, 3, 4, 5, 6, 7, 8, 9, 10, 11, 13, 15, 16, 17, 18, 19, 20, 21, 22, 23, 24, 25, 26, 27, 28, 29, 30, 31, 32, 33, 34, 35, 36, 37, 38, 39, 40, 41, 42, 43, 44, 45, 46, 47, 48, 49, 50, 51, 52] \n",
      "Transforming to ICA space (53 components)\n",
      "Zeroing out 4 ICA components\n",
      "[Debug] Channels:  ['Fp1', 'Fz', 'F3', 'F7', 'FC5', 'FC1', 'C3', 'T7', 'CP5', 'CP1', 'Pz', 'P3', 'P7', 'O1', 'Oz', 'O2', 'P4', 'P8', 'CP2', 'Cz', 'C4', 'T8', 'FC6', 'FC2', 'F4', 'Fp2', 'AF7', 'AF3', 'AFz', 'F1', 'F5', 'FT7', 'FC3', 'FCz', 'C1', 'C5', 'TP7', 'CP3', 'P1', 'P5', 'PO7', 'PO3', 'POz', 'PO4', 'PO8', 'P6', 'P2', 'CPz', 'CP4', 'TP8', 'C6', 'C2', 'FC4', 'FT8', 'F6', 'F2', 'AF4', 'AF8'] 58\n",
      "./eeg_enc/train/2505_shirokova_post_eeg_psd_clear.png\n",
      "Clear eeg shape before correction,  (51, 606600)  Mask length:  51\n",
      "Clear eeg shape after correction,  (58, 606600)\n",
      "Extracting parameters from ./eeg_enc/train/zavrib_post_eeg_eyesopen15021500.vhdr...\n",
      "Setting channel info structure...\n",
      "Reading 0 ... 321599  =      0.000 ...   321.599 secs...\n",
      "Setting up band-stop filter from 49 - 51 Hz\n"
     ]
    },
    {
     "name": "stderr",
     "output_type": "stream",
     "text": [
      "[Parallel(n_jobs=4)]: Done  20 tasks      | elapsed:    0.4s\n",
      "[Parallel(n_jobs=4)]: Done  60 out of  60 | elapsed:    0.7s finished\n"
     ]
    },
    {
     "name": "stdout",
     "output_type": "stream",
     "text": [
      "Setting up band-pass filter from 1 - 1e+02 Hz\n"
     ]
    },
    {
     "name": "stderr",
     "output_type": "stream",
     "text": [
      "[Parallel(n_jobs=4)]: Done  20 tasks      | elapsed:    0.4s\n",
      "[Parallel(n_jobs=4)]: Done  60 out of  60 | elapsed:    0.7s finished\n"
     ]
    },
    {
     "name": "stdout",
     "output_type": "stream",
     "text": [
      "Fitting ICA to data using 60 channels. \n",
      "Please be patient, this may take some time\n",
      "Inferring max_pca_components from picks.\n",
      "Using all PCA components: 60\n",
      "computing Extended Infomax ICA\n",
      "[Debug] Bad comps [6, 7, 9, 5, 22, 20, 0], good comps [1, 2, 3, 4, 8, 10, 11, 12, 13, 14, 15, 16, 17, 18, 19, 21, 23, 24, 25, 26, 27, 28, 29, 30, 31, 32, 33, 34, 35, 36, 37, 38, 39, 40, 41, 42, 43, 44, 45, 46, 47, 48, 49, 50, 51, 52, 53, 54, 55, 56, 57, 58, 59] \n",
      "Transforming to ICA space (60 components)\n",
      "Zeroing out 7 ICA components\n",
      "[Debug] Channels:  ['Fp1', 'Fz', 'F3', 'F7', 'FC5', 'FC1', 'C3', 'T7', 'CP5', 'CP1', 'Pz', 'P3', 'P7', 'O1', 'Oz', 'O2', 'P4', 'P8', 'CP2', 'Cz', 'C4', 'T8', 'FC6', 'FC2', 'F4', 'Fp2', 'AF7', 'AF3', 'AFz', 'F1', 'F5', 'FT7', 'FC3', 'FCz', 'C1', 'C5', 'TP7', 'CP3', 'P1', 'P5', 'PO7', 'PO3', 'POz', 'PO4', 'PO8', 'P6', 'P2', 'CPz', 'CP4', 'TP8', 'C6', 'C2', 'FC4', 'FT8', 'F6', 'F2', 'AF4', 'AF8'] 58\n",
      "./eeg_enc/train/zavrib_post_eeg_eyesopen15021500_psd_clear.png\n",
      "Clear eeg shape before correction,  (58, 321600)  Mask length:  58\n",
      "Clear eeg shape after correction,  (58, 321600)\n",
      "Extracting parameters from ./eeg_enc/train/gorin_rest_eeg_post_31011200.vhdr...\n",
      "Setting channel info structure...\n",
      "Reading 0 ... 603699  =      0.000 ...   603.699 secs...\n",
      "Setting up band-stop filter from 49 - 51 Hz\n"
     ]
    },
    {
     "name": "stderr",
     "output_type": "stream",
     "text": [
      "[Parallel(n_jobs=4)]: Done  16 tasks      | elapsed:    0.5s\n",
      "[Parallel(n_jobs=4)]: Done  40 out of  60 | elapsed:    0.9s remaining:    0.5s\n",
      "[Parallel(n_jobs=4)]: Done  60 out of  60 | elapsed:    1.3s finished\n"
     ]
    },
    {
     "name": "stdout",
     "output_type": "stream",
     "text": [
      "Setting up band-pass filter from 1 - 1e+02 Hz\n"
     ]
    },
    {
     "name": "stderr",
     "output_type": "stream",
     "text": [
      "[Parallel(n_jobs=4)]: Done  16 tasks      | elapsed:    0.5s\n",
      "[Parallel(n_jobs=4)]: Done  40 out of  60 | elapsed:    0.9s remaining:    0.5s\n",
      "[Parallel(n_jobs=4)]: Done  60 out of  60 | elapsed:    1.3s finished\n"
     ]
    },
    {
     "name": "stdout",
     "output_type": "stream",
     "text": [
      "Fitting ICA to data using 59 channels. \n",
      "Please be patient, this may take some time\n",
      "Inferring max_pca_components from picks.\n",
      "Using all PCA components: 59\n",
      "computing Extended Infomax ICA\n",
      "[Debug] Bad comps [0, 12, 14, 1, 2], good comps [3, 4, 5, 6, 7, 8, 9, 10, 11, 13, 15, 16, 17, 18, 19, 20, 21, 22, 23, 24, 25, 26, 27, 28, 29, 30, 31, 32, 33, 34, 35, 36, 37, 38, 39, 40, 41, 42, 43, 44, 45, 46, 47, 48, 49, 50, 51, 52, 53, 54, 55, 56, 57, 58] \n",
      "Transforming to ICA space (59 components)\n",
      "Zeroing out 5 ICA components\n",
      "[Debug] Channels:  ['Fp1', 'Fz', 'F3', 'F7', 'FC5', 'FC1', 'C3', 'T7', 'CP5', 'CP1', 'Pz', 'P3', 'P7', 'O1', 'Oz', 'O2', 'P4', 'P8', 'CP2', 'Cz', 'C4', 'T8', 'FC6', 'FC2', 'F4', 'Fp2', 'AF7', 'AF3', 'AFz', 'F1', 'F5', 'FT7', 'FC3', 'FCz', 'C1', 'C5', 'TP7', 'CP3', 'P1', 'P5', 'PO7', 'PO3', 'POz', 'PO4', 'PO8', 'P6', 'P2', 'CPz', 'CP4', 'TP8', 'C6', 'C2', 'FC4', 'FT8', 'F6', 'F2', 'AF4', 'AF8'] 58\n",
      "./eeg_enc/train/gorin_rest_eeg_post_31011200_psd_clear.png\n",
      "Clear eeg shape before correction,  (57, 603700)  Mask length:  57\n",
      "Clear eeg shape after correction,  (58, 603700)\n",
      "\n"
     ]
    }
   ],
   "source": [
    "from tqdm import tqdm_notebook\n",
    "\n",
    "\n",
    "\n",
    "vhdrs = [join(main_path, f) for f in listdir(main_path) if isfile(join(main_path, f)) and '.vhdr' in f]\n",
    "\n",
    "\n",
    "\n",
    "def main_loop(vhdrs,bad_dict):\n",
    "    for eeg_file in tqdm_notebook(vhdrs):\n",
    "        eeg=mne.io.read_raw_brainvision(eeg_file,preload=True)\n",
    "        eeg = eeg.pick_types(eeg=True)\n",
    "        eeg = eeg.notch_filter(50, n_jobs=4, method='iir', verbose='INFO')\n",
    "        eeg = eeg.filter(1, 100, n_jobs=4, method='iir', verbose='INFO')\n",
    "        filename, _ = splitext(eeg_file)\n",
    "        temp = ''\n",
    "        for key in bad_dict.keys():\n",
    "            if key  in eeg_file:\n",
    "                temp = key\n",
    "                break\n",
    "        eeg.info['bads'] = bad_dict[key] if temp != '' else []\n",
    "        clear_eeg, n_channels,ch_names, mask_ch_idx = eye_cleaner(eeg, filename)\n",
    "        plot_psd(clear_eeg,[ch_names[idx] for idx in  np.arange(n_channels) if idx in mask_ch_idx],\n",
    "                 eeg.info['sfreq'],xlim=100,scale=2,save_to=filename + '_psd_clear')\n",
    "        print('Clear eeg shape before correction, ',clear_eeg.shape, ' Mask length: ', len(mask_ch_idx))\n",
    "        clear_eeg = finalize_data(clear_eeg, n_channels, mask_ch_idx)\n",
    "        print('Clear eeg shape after correction, ',clear_eeg.shape)\n",
    "        save_postprocessed(clear_eeg, ch_names, eeg.info['sfreq'],\n",
    "                           mask_ch_idx, filename,\n",
    "                           compression=\"gzip\", compression_opts=9)\n",
    "        eeg.close()\n",
    "        \n",
    "main_loop(vhdrs,bad_dict_train)    \n"
   ]
  },
  {
   "cell_type": "code",
   "execution_count": null,
   "metadata": {},
   "outputs": [
    {
     "data": {
      "application/vnd.jupyter.widget-view+json": {
       "model_id": "ca0c6dd6cd564776a6178e0355580a5e",
       "version_major": 2,
       "version_minor": 0
      },
      "text/html": [
       "<p>Failed to display Jupyter Widget of type <code>HBox</code>.</p>\n",
       "<p>\n",
       "  If you're reading this message in the Jupyter Notebook or JupyterLab Notebook, it may mean\n",
       "  that the widgets JavaScript is still loading. If this message persists, it\n",
       "  likely means that the widgets JavaScript library is either not installed or\n",
       "  not enabled. See the <a href=\"https://ipywidgets.readthedocs.io/en/stable/user_install.html\">Jupyter\n",
       "  Widgets Documentation</a> for setup instructions.\n",
       "</p>\n",
       "<p>\n",
       "  If you're reading this message in another frontend (for example, a static\n",
       "  rendering on GitHub or <a href=\"https://nbviewer.jupyter.org/\">NBViewer</a>),\n",
       "  it may mean that your frontend doesn't currently support widgets.\n",
       "</p>\n"
      ],
      "text/plain": [
       "HBox(children=(IntProgress(value=0, max=45), HTML(value='')))"
      ]
     },
     "metadata": {},
     "output_type": "display_data"
    },
    {
     "name": "stdout",
     "output_type": "stream",
     "text": [
      "Extracting parameters from ./eeg_enc/test/14071200_limanskaya_pre_eeg.vhdr...\n",
      "Setting channel info structure...\n",
      "Reading 0 ... 604549  =      0.000 ...   604.549 secs...\n",
      "Setting up band-stop filter from 49 - 51 Hz\n"
     ]
    },
    {
     "name": "stderr",
     "output_type": "stream",
     "text": [
      "[Parallel(n_jobs=4)]: Done  12 tasks      | elapsed:    0.4s\n",
      "[Parallel(n_jobs=4)]: Done  60 out of  60 | elapsed:    1.0s finished\n"
     ]
    },
    {
     "name": "stdout",
     "output_type": "stream",
     "text": [
      "Setting up band-pass filter from 1 - 1e+02 Hz\n"
     ]
    },
    {
     "name": "stderr",
     "output_type": "stream",
     "text": [
      "[Parallel(n_jobs=4)]: Done  12 tasks      | elapsed:    0.4s\n",
      "[Parallel(n_jobs=4)]: Done  60 out of  60 | elapsed:    1.0s finished\n"
     ]
    },
    {
     "name": "stdout",
     "output_type": "stream",
     "text": [
      "Fitting ICA to data using 55 channels. \n",
      "Please be patient, this may take some time\n",
      "Inferring max_pca_components from picks.\n",
      "Using all PCA components: 55\n",
      "computing Extended Infomax ICA\n",
      "[Debug] Bad comps [16, 2, 14, 17, 1], good comps [0, 3, 4, 5, 6, 7, 8, 9, 10, 11, 12, 13, 15, 18, 19, 20, 21, 22, 23, 24, 25, 26, 27, 28, 29, 30, 31, 32, 33, 34, 35, 36, 37, 38, 39, 40, 41, 42, 43, 44, 45, 46, 47, 48, 49, 50, 51, 52, 53, 54] \n",
      "Transforming to ICA space (55 components)\n",
      "Zeroing out 5 ICA components\n",
      "[Debug] Channels:  ['Fp1', 'Fz', 'F3', 'F7', 'FC5', 'FC1', 'C3', 'T7', 'CP5', 'CP1', 'Pz', 'P3', 'P7', 'O1', 'Oz', 'O2', 'P4', 'P8', 'CP2', 'Cz', 'C4', 'T8', 'FC6', 'FC2', 'F4', 'Fp2', 'AF7', 'AF3', 'AFz', 'F1', 'F5', 'FT7', 'FC3', 'FCz', 'C1', 'C5', 'TP7', 'CP3', 'P1', 'P5', 'PO7', 'PO3', 'POz', 'PO4', 'PO8', 'P6', 'P2', 'CPz', 'CP4', 'TP8', 'C6', 'C2', 'FC4', 'FT8', 'F6', 'F2', 'AF4', 'AF8'] 58\n",
      "./eeg_enc/test/14071200_limanskaya_pre_eeg_psd_clear.png\n",
      "Clear eeg shape before correction,  (53, 604550)  Mask length:  53\n",
      "Clear eeg shape after correction,  (58, 604550)\n",
      "Extracting parameters from ./eeg_enc/test/3110_post_eeg_maistrenko.vhdr...\n",
      "Setting channel info structure...\n",
      "Reading 0 ... 620899  =      0.000 ...   620.899 secs...\n",
      "Setting up band-stop filter from 49 - 51 Hz\n"
     ]
    },
    {
     "name": "stderr",
     "output_type": "stream",
     "text": [
      "[Parallel(n_jobs=4)]: Done  16 tasks      | elapsed:    0.6s\n",
      "[Parallel(n_jobs=4)]: Done  40 out of  60 | elapsed:    0.9s remaining:    0.4s\n",
      "[Parallel(n_jobs=4)]: Done  60 out of  60 | elapsed:    1.1s finished\n"
     ]
    },
    {
     "name": "stdout",
     "output_type": "stream",
     "text": [
      "Setting up band-pass filter from 1 - 1e+02 Hz\n"
     ]
    },
    {
     "name": "stderr",
     "output_type": "stream",
     "text": [
      "[Parallel(n_jobs=4)]: Done  12 tasks      | elapsed:    0.4s\n",
      "[Parallel(n_jobs=4)]: Done  60 out of  60 | elapsed:    1.0s finished\n"
     ]
    },
    {
     "name": "stdout",
     "output_type": "stream",
     "text": [
      "Fitting ICA to data using 54 channels. \n",
      "Please be patient, this may take some time\n",
      "Inferring max_pca_components from picks.\n",
      "Using all PCA components: 54\n",
      "computing Extended Infomax ICA\n",
      "[Debug] Bad comps [19, 11, 2, 4], good comps [0, 1, 3, 5, 6, 7, 8, 9, 10, 12, 13, 14, 15, 16, 17, 18, 20, 21, 22, 23, 24, 25, 26, 27, 28, 29, 30, 31, 32, 33, 34, 35, 36, 37, 38, 39, 40, 41, 42, 43, 44, 45, 46, 47, 48, 49, 50, 51, 52, 53] \n",
      "Transforming to ICA space (54 components)\n",
      "Zeroing out 4 ICA components\n",
      "[Debug] Channels:  ['Fp1', 'Fz', 'F3', 'F7', 'FC5', 'FC1', 'C3', 'T7', 'CP5', 'CP1', 'Pz', 'P3', 'P7', 'O1', 'Oz', 'O2', 'P4', 'P8', 'CP2', 'Cz', 'C4', 'T8', 'FC6', 'FC2', 'F4', 'Fp2', 'AF7', 'AF3', 'AFz', 'F1', 'F5', 'FT7', 'FC3', 'FCz', 'C1', 'C5', 'TP7', 'CP3', 'P1', 'P5', 'PO7', 'PO3', 'POz', 'PO4', 'PO8', 'P6', 'P2', 'CPz', 'CP4', 'TP8', 'C6', 'C2', 'FC4', 'FT8', 'F6', 'F2', 'AF4', 'AF8'] 58\n",
      "./eeg_enc/test/3110_post_eeg_maistrenko_psd_clear.png\n",
      "Clear eeg shape before correction,  (52, 620900)  Mask length:  52\n",
      "Clear eeg shape after correction,  (58, 620900)\n",
      "Extracting parameters from ./eeg_enc/test/3110_pre_eeg_maistrenko.vhdr...\n",
      "Setting channel info structure...\n",
      "Reading 0 ... 663199  =      0.000 ...   663.199 secs...\n",
      "Setting up band-stop filter from 49 - 51 Hz\n"
     ]
    },
    {
     "name": "stderr",
     "output_type": "stream",
     "text": [
      "[Parallel(n_jobs=4)]: Done  12 tasks      | elapsed:    0.4s\n",
      "[Parallel(n_jobs=4)]: Done  60 out of  60 | elapsed:    1.1s finished\n"
     ]
    },
    {
     "name": "stdout",
     "output_type": "stream",
     "text": [
      "Setting up band-pass filter from 1 - 1e+02 Hz\n"
     ]
    },
    {
     "name": "stderr",
     "output_type": "stream",
     "text": [
      "[Parallel(n_jobs=4)]: Done  12 tasks      | elapsed:    0.4s\n"
     ]
    },
    {
     "name": "stdout",
     "output_type": "stream",
     "text": [
      "Fitting ICA to data using 60 channels. \n",
      "Please be patient, this may take some time\n",
      "Inferring max_pca_components from picks.\n"
     ]
    },
    {
     "name": "stderr",
     "output_type": "stream",
     "text": [
      "[Parallel(n_jobs=4)]: Done  60 out of  60 | elapsed:    1.0s finished\n"
     ]
    },
    {
     "name": "stdout",
     "output_type": "stream",
     "text": [
      "Using all PCA components: 60\n",
      "computing Extended Infomax ICA\n",
      "[Debug] Bad comps [47, 2, 32, 3], good comps [0, 1, 4, 5, 6, 7, 8, 9, 10, 11, 12, 13, 14, 15, 16, 17, 18, 19, 20, 21, 22, 23, 24, 25, 26, 27, 28, 29, 30, 31, 33, 34, 35, 36, 37, 38, 39, 40, 41, 42, 43, 44, 45, 46, 48, 49, 50, 51, 52, 53, 54, 55, 56, 57, 58, 59] \n",
      "Transforming to ICA space (60 components)\n",
      "Zeroing out 4 ICA components\n",
      "[Debug] Channels:  ['Fp1', 'Fz', 'F3', 'F7', 'FC5', 'FC1', 'C3', 'T7', 'CP5', 'CP1', 'Pz', 'P3', 'P7', 'O1', 'Oz', 'O2', 'P4', 'P8', 'CP2', 'Cz', 'C4', 'T8', 'FC6', 'FC2', 'F4', 'Fp2', 'AF7', 'AF3', 'AFz', 'F1', 'F5', 'FT7', 'FC3', 'FCz', 'C1', 'C5', 'TP7', 'CP3', 'P1', 'P5', 'PO7', 'PO3', 'POz', 'PO4', 'PO8', 'P6', 'P2', 'CPz', 'CP4', 'TP8', 'C6', 'C2', 'FC4', 'FT8', 'F6', 'F2', 'AF4', 'AF8'] 58\n",
      "./eeg_enc/test/3110_pre_eeg_maistrenko_psd_clear.png\n",
      "Clear eeg shape before correction,  (58, 663200)  Mask length:  58\n",
      "Clear eeg shape after correction,  (58, 663200)\n",
      "Extracting parameters from ./eeg_enc/test/17_11_pre_eeg_bachurina.vhdr...\n",
      "Setting channel info structure...\n",
      "Reading 0 ... 602149  =      0.000 ...   602.149 secs...\n",
      "Setting up band-stop filter from 49 - 51 Hz\n"
     ]
    },
    {
     "name": "stderr",
     "output_type": "stream",
     "text": [
      "[Parallel(n_jobs=4)]: Done  12 tasks      | elapsed:    0.4s\n",
      "[Parallel(n_jobs=4)]: Done  40 out of  60 | elapsed:    0.9s remaining:    0.5s\n",
      "[Parallel(n_jobs=4)]: Done  60 out of  60 | elapsed:    1.2s finished\n"
     ]
    },
    {
     "name": "stdout",
     "output_type": "stream",
     "text": [
      "Setting up band-pass filter from 1 - 1e+02 Hz\n"
     ]
    },
    {
     "name": "stderr",
     "output_type": "stream",
     "text": [
      "[Parallel(n_jobs=4)]: Done  12 tasks      | elapsed:    0.3s\n",
      "[Parallel(n_jobs=4)]: Done  60 out of  60 | elapsed:    0.9s finished\n"
     ]
    },
    {
     "name": "stdout",
     "output_type": "stream",
     "text": [
      "Fitting ICA to data using 59 channels. \n",
      "Please be patient, this may take some time\n",
      "Inferring max_pca_components from picks.\n",
      "Using all PCA components: 59\n",
      "computing Extended Infomax ICA\n",
      "[Debug] Bad comps [3, 5, 0], good comps [1, 2, 4, 6, 7, 8, 9, 10, 11, 12, 13, 14, 15, 16, 17, 18, 19, 20, 21, 22, 23, 24, 25, 26, 27, 28, 29, 30, 31, 32, 33, 34, 35, 36, 37, 38, 39, 40, 41, 42, 43, 44, 45, 46, 47, 48, 49, 50, 51, 52, 53, 54, 55, 56, 57, 58] \n",
      "Transforming to ICA space (59 components)\n",
      "Zeroing out 3 ICA components\n",
      "[Debug] Channels:  ['Fp1', 'Fz', 'F3', 'F7', 'FC5', 'FC1', 'C3', 'T7', 'CP5', 'CP1', 'Pz', 'P3', 'P7', 'O1', 'Oz', 'O2', 'P4', 'P8', 'CP2', 'Cz', 'C4', 'T8', 'FC6', 'FC2', 'F4', 'Fp2', 'AF7', 'AF3', 'AFz', 'F1', 'F5', 'FT7', 'FC3', 'FCz', 'C1', 'C5', 'TP7', 'CP3', 'P1', 'P5', 'PO7', 'PO3', 'POz', 'PO4', 'PO8', 'P6', 'P2', 'CPz', 'CP4', 'TP8', 'C6', 'C2', 'FC4', 'FT8', 'F6', 'F2', 'AF4', 'AF8'] 58\n",
      "./eeg_enc/test/17_11_pre_eeg_bachurina_psd_clear.png\n",
      "Clear eeg shape before correction,  (57, 602150)  Mask length:  57\n",
      "Clear eeg shape after correction,  (58, 602150)\n",
      "Extracting parameters from ./eeg_enc/test/0708_eeg_krasovskaya.vhdr...\n",
      "Setting channel info structure...\n",
      "Reading 0 ... 2023149  =      0.000 ...  2023.149 secs...\n",
      "Setting up band-stop filter from 49 - 51 Hz\n"
     ]
    },
    {
     "name": "stderr",
     "output_type": "stream",
     "text": [
      "[Parallel(n_jobs=4)]: Done  10 tasks      | elapsed:    0.8s\n",
      "[Parallel(n_jobs=4)]: Done  60 out of  60 | elapsed:    2.7s finished\n"
     ]
    },
    {
     "name": "stdout",
     "output_type": "stream",
     "text": [
      "Setting up band-pass filter from 1 - 1e+02 Hz\n"
     ]
    },
    {
     "name": "stderr",
     "output_type": "stream",
     "text": [
      "[Parallel(n_jobs=4)]: Done  10 tasks      | elapsed:    0.8s\n",
      "[Parallel(n_jobs=4)]: Done  60 out of  60 | elapsed:    2.7s finished\n"
     ]
    },
    {
     "name": "stdout",
     "output_type": "stream",
     "text": [
      "Fitting ICA to data using 58 channels. \n",
      "Please be patient, this may take some time\n",
      "Inferring max_pca_components from picks.\n",
      "Using all PCA components: 58\n",
      "computing Extended Infomax ICA\n",
      "[Debug] Bad comps [3, 1], good comps [0, 2, 4, 5, 6, 7, 8, 9, 10, 11, 12, 13, 14, 15, 16, 17, 18, 19, 20, 21, 22, 23, 24, 25, 26, 27, 28, 29, 30, 31, 32, 33, 34, 35, 36, 37, 38, 39, 40, 41, 42, 43, 44, 45, 46, 47, 48, 49, 50, 51, 52, 53, 54, 55, 56, 57] \n",
      "Transforming to ICA space (58 components)\n",
      "Zeroing out 2 ICA components\n",
      "[Debug] Channels:  ['Fp1', 'Fz', 'F3', 'F7', 'FC5', 'FC1', 'C3', 'T7', 'CP5', 'CP1', 'Pz', 'P3', 'P7', 'O1', 'Oz', 'O2', 'P4', 'P8', 'CP2', 'Cz', 'C4', 'T8', 'FC6', 'FC2', 'F4', 'Fp2', 'AF7', 'AF3', 'AFz', 'F1', 'F5', 'FT7', 'FC3', 'FCz', 'C1', 'C5', 'TP7', 'CP3', 'P1', 'P5', 'PO7', 'PO3', 'POz', 'PO4', 'PO8', 'P6', 'P2', 'CPz', 'CP4', 'TP8', 'C6', 'C2', 'FC4', 'FT8', 'F6', 'F2', 'AF4', 'AF8'] 58\n",
      "./eeg_enc/test/0708_eeg_krasovskaya_psd_clear.png\n",
      "Clear eeg shape before correction,  (56, 2023150)  Mask length:  56\n",
      "Clear eeg shape after correction,  (58, 2023150)\n",
      "Extracting parameters from ./eeg_enc/test/2306_patrakeeva_post_eeg_rest.vhdr...\n",
      "Setting channel info structure...\n",
      "Reading 0 ... 605199  =      0.000 ...   605.199 secs...\n",
      "Setting up band-stop filter from 49 - 51 Hz\n"
     ]
    },
    {
     "name": "stderr",
     "output_type": "stream",
     "text": [
      "[Parallel(n_jobs=4)]: Done  12 tasks      | elapsed:    0.4s\n",
      "[Parallel(n_jobs=4)]: Done  60 out of  60 | elapsed:    1.1s finished\n"
     ]
    },
    {
     "name": "stdout",
     "output_type": "stream",
     "text": [
      "Setting up band-pass filter from 1 - 1e+02 Hz\n"
     ]
    },
    {
     "name": "stderr",
     "output_type": "stream",
     "text": [
      "[Parallel(n_jobs=4)]: Done  12 tasks      | elapsed:    0.4s\n",
      "[Parallel(n_jobs=4)]: Done  60 out of  60 | elapsed:    1.1s finished\n"
     ]
    },
    {
     "name": "stdout",
     "output_type": "stream",
     "text": [
      "Fitting ICA to data using 60 channels. \n",
      "Please be patient, this may take some time\n",
      "Inferring max_pca_components from picks.\n",
      "Using all PCA components: 60\n",
      "computing Extended Infomax ICA\n",
      "[Debug] Bad comps [0, 9, 4], good comps [1, 2, 3, 5, 6, 7, 8, 10, 11, 12, 13, 14, 15, 16, 17, 18, 19, 20, 21, 22, 23, 24, 25, 26, 27, 28, 29, 30, 31, 32, 33, 34, 35, 36, 37, 38, 39, 40, 41, 42, 43, 44, 45, 46, 47, 48, 49, 50, 51, 52, 53, 54, 55, 56, 57, 58, 59] \n",
      "Transforming to ICA space (60 components)\n",
      "Zeroing out 3 ICA components\n",
      "[Debug] Channels:  ['Fp1', 'Fz', 'F3', 'F7', 'FC5', 'FC1', 'C3', 'T7', 'CP5', 'CP1', 'Pz', 'P3', 'P7', 'O1', 'Oz', 'O2', 'P4', 'P8', 'CP2', 'Cz', 'C4', 'T8', 'FC6', 'FC2', 'F4', 'Fp2', 'AF7', 'AF3', 'AFz', 'F1', 'F5', 'FT7', 'FC3', 'FCz', 'C1', 'C5', 'TP7', 'CP3', 'P1', 'P5', 'PO7', 'PO3', 'POz', 'PO4', 'PO8', 'P6', 'P2', 'CPz', 'CP4', 'TP8', 'C6', 'C2', 'FC4', 'FT8', 'F6', 'F2', 'AF4', 'AF8'] 58\n",
      "./eeg_enc/test/2306_patrakeeva_post_eeg_rest_psd_clear.png\n",
      "Clear eeg shape before correction,  (58, 605200)  Mask length:  58\n",
      "Clear eeg shape after correction,  (58, 605200)\n",
      "Extracting parameters from ./eeg_enc/test/0307_STRELKOVA.vhdr...\n",
      "Setting channel info structure...\n",
      "Reading 0 ... 2103349  =      0.000 ...  2103.349 secs...\n",
      "Setting up band-stop filter from 49 - 51 Hz\n"
     ]
    },
    {
     "name": "stderr",
     "output_type": "stream",
     "text": [
      "[Parallel(n_jobs=4)]: Done  10 tasks      | elapsed:    0.9s\n",
      "[Parallel(n_jobs=4)]: Done  60 out of  60 | elapsed:    3.0s finished\n"
     ]
    },
    {
     "name": "stdout",
     "output_type": "stream",
     "text": [
      "Setting up band-pass filter from 1 - 1e+02 Hz\n"
     ]
    },
    {
     "name": "stderr",
     "output_type": "stream",
     "text": [
      "[Parallel(n_jobs=4)]: Done  10 tasks      | elapsed:    0.7s\n",
      "[Parallel(n_jobs=4)]: Done  60 out of  60 | elapsed:    3.1s finished\n"
     ]
    },
    {
     "name": "stdout",
     "output_type": "stream",
     "text": [
      "Fitting ICA to data using 60 channels. \n",
      "Please be patient, this may take some time\n",
      "Inferring max_pca_components from picks.\n",
      "Using all PCA components: 60\n",
      "computing Extended Infomax ICA\n",
      "[Debug] Bad comps [1, 0, 3], good comps [2, 4, 5, 6, 7, 8, 9, 10, 11, 12, 13, 14, 15, 16, 17, 18, 19, 20, 21, 22, 23, 24, 25, 26, 27, 28, 29, 30, 31, 32, 33, 34, 35, 36, 37, 38, 39, 40, 41, 42, 43, 44, 45, 46, 47, 48, 49, 50, 51, 52, 53, 54, 55, 56, 57, 58, 59] \n",
      "Transforming to ICA space (60 components)\n",
      "Zeroing out 3 ICA components\n",
      "[Debug] Channels:  ['Fp1', 'Fz', 'F3', 'F7', 'FC5', 'FC1', 'C3', 'T7', 'CP5', 'CP1', 'Pz', 'P3', 'P7', 'O1', 'Oz', 'O2', 'P4', 'P8', 'CP2', 'Cz', 'C4', 'T8', 'FC6', 'FC2', 'F4', 'Fp2', 'AF7', 'AF3', 'AFz', 'F1', 'F5', 'FT7', 'FC3', 'FCz', 'C1', 'C5', 'TP7', 'CP3', 'P1', 'P5', 'PO7', 'PO3', 'POz', 'PO4', 'PO8', 'P6', 'P2', 'CPz', 'CP4', 'TP8', 'C6', 'C2', 'FC4', 'FT8', 'F6', 'F2', 'AF4', 'AF8'] 58\n",
      "./eeg_enc/test/0307_STRELKOVA_psd_clear.png\n",
      "Clear eeg shape before correction,  (58, 2103350)  Mask length:  58\n",
      "Clear eeg shape after correction,  (58, 2103350)\n",
      "Extracting parameters from ./eeg_enc/test/0311_eeg_mazurova.vhdr...\n",
      "Setting channel info structure...\n",
      "Reading 0 ... 2048799  =      0.000 ...  2048.799 secs...\n",
      "Setting up band-stop filter from 49 - 51 Hz\n"
     ]
    },
    {
     "name": "stderr",
     "output_type": "stream",
     "text": [
      "[Parallel(n_jobs=4)]: Done  10 tasks      | elapsed:    0.7s\n",
      "[Parallel(n_jobs=4)]: Done  60 out of  60 | elapsed:    2.6s finished\n"
     ]
    },
    {
     "name": "stdout",
     "output_type": "stream",
     "text": [
      "Setting up band-pass filter from 1 - 1e+02 Hz\n"
     ]
    },
    {
     "name": "stderr",
     "output_type": "stream",
     "text": [
      "[Parallel(n_jobs=4)]: Done  10 tasks      | elapsed:    0.7s\n",
      "[Parallel(n_jobs=4)]: Done  60 out of  60 | elapsed:    2.7s finished\n"
     ]
    },
    {
     "name": "stdout",
     "output_type": "stream",
     "text": [
      "Fitting ICA to data using 59 channels. \n",
      "Please be patient, this may take some time\n",
      "Inferring max_pca_components from picks.\n",
      "Using all PCA components: 59\n",
      "computing Extended Infomax ICA\n",
      "[Debug] Bad comps [4, 7], good comps [0, 1, 2, 3, 5, 6, 8, 9, 10, 11, 12, 13, 14, 15, 16, 17, 18, 19, 20, 21, 22, 23, 24, 25, 26, 27, 28, 29, 30, 31, 32, 33, 34, 35, 36, 37, 38, 39, 40, 41, 42, 43, 44, 45, 46, 47, 48, 49, 50, 51, 52, 53, 54, 55, 56, 57, 58] \n",
      "Transforming to ICA space (59 components)\n",
      "Zeroing out 2 ICA components\n",
      "[Debug] Channels:  ['Fp1', 'Fz', 'F3', 'F7', 'FC5', 'FC1', 'C3', 'T7', 'CP5', 'CP1', 'Pz', 'P3', 'P7', 'O1', 'Oz', 'O2', 'P4', 'P8', 'CP2', 'Cz', 'C4', 'T8', 'FC6', 'FC2', 'F4', 'Fp2', 'AF7', 'AF3', 'AFz', 'F1', 'F5', 'FT7', 'FC3', 'FCz', 'C1', 'C5', 'TP7', 'CP3', 'P1', 'P5', 'PO7', 'PO3', 'POz', 'PO4', 'PO8', 'P6', 'P2', 'CPz', 'CP4', 'TP8', 'C6', 'C2', 'FC4', 'FT8', 'F6', 'F2', 'AF4', 'AF8'] 58\n",
      "./eeg_enc/test/0311_eeg_mazurova_psd_clear.png\n",
      "Clear eeg shape before correction,  (57, 2048800)  Mask length:  57\n",
      "Clear eeg shape after correction,  (58, 2048800)\n",
      "Extracting parameters from ./eeg_enc/test/0708_pre_eeg_krasovskaya.vhdr...\n",
      "Setting channel info structure...\n",
      "Reading 0 ... 604049  =      0.000 ...   604.049 secs...\n",
      "Setting up band-stop filter from 49 - 51 Hz\n"
     ]
    },
    {
     "name": "stderr",
     "output_type": "stream",
     "text": [
      "[Parallel(n_jobs=4)]: Done  12 tasks      | elapsed:    0.4s\n",
      "[Parallel(n_jobs=4)]: Done  60 out of  60 | elapsed:    1.3s finished\n"
     ]
    },
    {
     "name": "stdout",
     "output_type": "stream",
     "text": [
      "Setting up band-pass filter from 1 - 1e+02 Hz\n"
     ]
    },
    {
     "name": "stderr",
     "output_type": "stream",
     "text": [
      "[Parallel(n_jobs=4)]: Done  12 tasks      | elapsed:    0.4s\n",
      "[Parallel(n_jobs=4)]: Done  60 out of  60 | elapsed:    1.3s finished\n"
     ]
    },
    {
     "name": "stdout",
     "output_type": "stream",
     "text": [
      "Fitting ICA to data using 57 channels. \n",
      "Please be patient, this may take some time\n",
      "Inferring max_pca_components from picks.\n",
      "Using all PCA components: 57\n",
      "computing Extended Infomax ICA\n",
      "[Debug] Bad comps [0, 7, 17], good comps [1, 2, 3, 4, 5, 6, 8, 9, 10, 11, 12, 13, 14, 15, 16, 18, 19, 20, 21, 22, 23, 24, 25, 26, 27, 28, 29, 30, 31, 32, 33, 34, 35, 36, 37, 38, 39, 40, 41, 42, 43, 44, 45, 46, 47, 48, 49, 50, 51, 52, 53, 54, 55, 56] \n",
      "Transforming to ICA space (57 components)\n",
      "Zeroing out 3 ICA components\n",
      "[Debug] Channels:  ['Fp1', 'Fz', 'F3', 'F7', 'FC5', 'FC1', 'C3', 'T7', 'CP5', 'CP1', 'Pz', 'P3', 'P7', 'O1', 'Oz', 'O2', 'P4', 'P8', 'CP2', 'Cz', 'C4', 'T8', 'FC6', 'FC2', 'F4', 'Fp2', 'AF7', 'AF3', 'AFz', 'F1', 'F5', 'FT7', 'FC3', 'FCz', 'C1', 'C5', 'TP7', 'CP3', 'P1', 'P5', 'PO7', 'PO3', 'POz', 'PO4', 'PO8', 'P6', 'P2', 'CPz', 'CP4', 'TP8', 'C6', 'C2', 'FC4', 'FT8', 'F6', 'F2', 'AF4', 'AF8'] 58\n",
      "./eeg_enc/test/0708_pre_eeg_krasovskaya_psd_clear.png\n",
      "Clear eeg shape before correction,  (55, 604050)  Mask length:  55\n",
      "Clear eeg shape after correction,  (58, 604050)\n",
      "Extracting parameters from ./eeg_enc/test/0307_STRELKOVA_PRE_EEG.vhdr...\n",
      "Setting channel info structure...\n",
      "Reading 0 ... 601999  =      0.000 ...   601.999 secs...\n",
      "Setting up band-stop filter from 49 - 51 Hz\n"
     ]
    },
    {
     "name": "stderr",
     "output_type": "stream",
     "text": [
      "[Parallel(n_jobs=4)]: Done  12 tasks      | elapsed:    0.4s\n",
      "[Parallel(n_jobs=4)]: Done  60 out of  60 | elapsed:    1.2s finished\n"
     ]
    },
    {
     "name": "stdout",
     "output_type": "stream",
     "text": [
      "Setting up band-pass filter from 1 - 1e+02 Hz\n"
     ]
    },
    {
     "name": "stderr",
     "output_type": "stream",
     "text": [
      "[Parallel(n_jobs=4)]: Done  12 tasks      | elapsed:    0.4s\n",
      "[Parallel(n_jobs=4)]: Done  60 out of  60 | elapsed:    1.2s finished\n"
     ]
    },
    {
     "name": "stdout",
     "output_type": "stream",
     "text": [
      "Fitting ICA to data using 60 channels. \n",
      "Please be patient, this may take some time\n",
      "Inferring max_pca_components from picks.\n",
      "Using all PCA components: 60\n",
      "computing Extended Infomax ICA\n",
      "[Debug] Bad comps [0, 13], good comps [1, 2, 3, 4, 5, 6, 7, 8, 9, 10, 11, 12, 14, 15, 16, 17, 18, 19, 20, 21, 22, 23, 24, 25, 26, 27, 28, 29, 30, 31, 32, 33, 34, 35, 36, 37, 38, 39, 40, 41, 42, 43, 44, 45, 46, 47, 48, 49, 50, 51, 52, 53, 54, 55, 56, 57, 58, 59] \n",
      "Transforming to ICA space (60 components)\n",
      "Zeroing out 2 ICA components\n",
      "[Debug] Channels:  ['Fp1', 'Fz', 'F3', 'F7', 'FC5', 'FC1', 'C3', 'T7', 'CP5', 'CP1', 'Pz', 'P3', 'P7', 'O1', 'Oz', 'O2', 'P4', 'P8', 'CP2', 'Cz', 'C4', 'T8', 'FC6', 'FC2', 'F4', 'Fp2', 'AF7', 'AF3', 'AFz', 'F1', 'F5', 'FT7', 'FC3', 'FCz', 'C1', 'C5', 'TP7', 'CP3', 'P1', 'P5', 'PO7', 'PO3', 'POz', 'PO4', 'PO8', 'P6', 'P2', 'CPz', 'CP4', 'TP8', 'C6', 'C2', 'FC4', 'FT8', 'F6', 'F2', 'AF4', 'AF8'] 58\n",
      "./eeg_enc/test/0307_STRELKOVA_PRE_EEG_psd_clear.png\n",
      "Clear eeg shape before correction,  (58, 602000)  Mask length:  58\n",
      "Clear eeg shape after correction,  (58, 602000)\n",
      "Extracting parameters from ./eeg_enc/test/1608_post_eeg_polshina.vhdr...\n",
      "Setting channel info structure...\n",
      "Reading 0 ... 632899  =      0.000 ...   632.899 secs...\n",
      "Setting up band-stop filter from 49 - 51 Hz\n"
     ]
    },
    {
     "name": "stderr",
     "output_type": "stream",
     "text": [
      "[Parallel(n_jobs=4)]: Done  12 tasks      | elapsed:    0.4s\n",
      "[Parallel(n_jobs=4)]: Done  60 out of  60 | elapsed:    1.2s finished\n"
     ]
    },
    {
     "name": "stdout",
     "output_type": "stream",
     "text": [
      "Setting up band-pass filter from 1 - 1e+02 Hz\n"
     ]
    },
    {
     "name": "stderr",
     "output_type": "stream",
     "text": [
      "[Parallel(n_jobs=4)]: Done  12 tasks      | elapsed:    0.4s\n",
      "[Parallel(n_jobs=4)]: Done  60 out of  60 | elapsed:    1.2s finished\n"
     ]
    },
    {
     "name": "stdout",
     "output_type": "stream",
     "text": [
      "Fitting ICA to data using 60 channels. \n",
      "Please be patient, this may take some time\n",
      "Inferring max_pca_components from picks.\n",
      "Using all PCA components: 60\n",
      "computing Extended Infomax ICA\n",
      "[Debug] Bad comps [0, 10, 9, 6], good comps [1, 2, 3, 4, 5, 7, 8, 11, 12, 13, 14, 15, 16, 17, 18, 19, 20, 21, 22, 23, 24, 25, 26, 27, 28, 29, 30, 31, 32, 33, 34, 35, 36, 37, 38, 39, 40, 41, 42, 43, 44, 45, 46, 47, 48, 49, 50, 51, 52, 53, 54, 55, 56, 57, 58, 59] \n",
      "Transforming to ICA space (60 components)\n",
      "Zeroing out 4 ICA components\n",
      "[Debug] Channels:  ['Fp1', 'Fz', 'F3', 'F7', 'FC5', 'FC1', 'C3', 'T7', 'CP5', 'CP1', 'Pz', 'P3', 'P7', 'O1', 'Oz', 'O2', 'P4', 'P8', 'CP2', 'Cz', 'C4', 'T8', 'FC6', 'FC2', 'F4', 'Fp2', 'AF7', 'AF3', 'AFz', 'F1', 'F5', 'FT7', 'FC3', 'FCz', 'C1', 'C5', 'TP7', 'CP3', 'P1', 'P5', 'PO7', 'PO3', 'POz', 'PO4', 'PO8', 'P6', 'P2', 'CPz', 'CP4', 'TP8', 'C6', 'C2', 'FC4', 'FT8', 'F6', 'F2', 'AF4', 'AF8'] 58\n",
      "./eeg_enc/test/1608_post_eeg_polshina_psd_clear.png\n",
      "Clear eeg shape before correction,  (58, 632900)  Mask length:  58\n",
      "Clear eeg shape after correction,  (58, 632900)\n",
      "Extracting parameters from ./eeg_enc/test/2809_pre_eeg_lukyanov.vhdr...\n",
      "Setting channel info structure...\n",
      "Reading 0 ... 615899  =      0.000 ...   615.899 secs...\n",
      "Setting up band-stop filter from 49 - 51 Hz\n"
     ]
    },
    {
     "name": "stderr",
     "output_type": "stream",
     "text": [
      "[Parallel(n_jobs=4)]: Done  12 tasks      | elapsed:    0.4s\n",
      "[Parallel(n_jobs=4)]: Done  60 out of  60 | elapsed:    1.3s finished\n"
     ]
    },
    {
     "name": "stdout",
     "output_type": "stream",
     "text": [
      "Setting up band-pass filter from 1 - 1e+02 Hz\n"
     ]
    },
    {
     "name": "stderr",
     "output_type": "stream",
     "text": [
      "[Parallel(n_jobs=4)]: Done  12 tasks      | elapsed:    0.4s\n",
      "[Parallel(n_jobs=4)]: Done  60 out of  60 | elapsed:    1.2s finished\n"
     ]
    },
    {
     "name": "stdout",
     "output_type": "stream",
     "text": [
      "Fitting ICA to data using 60 channels. \n",
      "Please be patient, this may take some time\n",
      "Inferring max_pca_components from picks.\n",
      "Using all PCA components: 60\n",
      "computing Extended Infomax ICA\n",
      "[Debug] Bad comps [1, 11, 9, 0], good comps [2, 3, 4, 5, 6, 7, 8, 10, 12, 13, 14, 15, 16, 17, 18, 19, 20, 21, 22, 23, 24, 25, 26, 27, 28, 29, 30, 31, 32, 33, 34, 35, 36, 37, 38, 39, 40, 41, 42, 43, 44, 45, 46, 47, 48, 49, 50, 51, 52, 53, 54, 55, 56, 57, 58, 59] \n",
      "Transforming to ICA space (60 components)\n",
      "Zeroing out 4 ICA components\n",
      "[Debug] Channels:  ['Fp1', 'Fz', 'F3', 'F7', 'FC5', 'FC1', 'C3', 'T7', 'CP5', 'CP1', 'Pz', 'P3', 'P7', 'O1', 'Oz', 'O2', 'P4', 'P8', 'CP2', 'Cz', 'C4', 'T8', 'FC6', 'FC2', 'F4', 'Fp2', 'AF7', 'AF3', 'AFz', 'F1', 'F5', 'FT7', 'FC3', 'FCz', 'C1', 'C5', 'TP7', 'CP3', 'P1', 'P5', 'PO7', 'PO3', 'POz', 'PO4', 'PO8', 'P6', 'P2', 'CPz', 'CP4', 'TP8', 'C6', 'C2', 'FC4', 'FT8', 'F6', 'F2', 'AF4', 'AF8'] 58\n",
      "./eeg_enc/test/2809_pre_eeg_lukyanov_psd_clear.png\n",
      "Clear eeg shape before correction,  (58, 615900)  Mask length:  58\n",
      "Clear eeg shape after correction,  (58, 615900)\n",
      "Extracting parameters from ./eeg_enc/test/17_11_post_eeg_bachurina.vhdr...\n",
      "Setting channel info structure...\n",
      "Reading 0 ... 610499  =      0.000 ...   610.499 secs...\n",
      "Setting up band-stop filter from 49 - 51 Hz\n"
     ]
    },
    {
     "name": "stderr",
     "output_type": "stream",
     "text": [
      "[Parallel(n_jobs=4)]: Done  12 tasks      | elapsed:    0.4s\n",
      "[Parallel(n_jobs=4)]: Done  60 out of  60 | elapsed:    1.3s finished\n"
     ]
    },
    {
     "name": "stdout",
     "output_type": "stream",
     "text": [
      "Setting up band-pass filter from 1 - 1e+02 Hz\n"
     ]
    },
    {
     "name": "stderr",
     "output_type": "stream",
     "text": [
      "[Parallel(n_jobs=4)]: Done  12 tasks      | elapsed:    0.4s\n",
      "[Parallel(n_jobs=4)]: Done  60 out of  60 | elapsed:    1.3s finished\n"
     ]
    },
    {
     "name": "stdout",
     "output_type": "stream",
     "text": [
      "Fitting ICA to data using 56 channels. \n",
      "Please be patient, this may take some time\n",
      "Inferring max_pca_components from picks.\n",
      "Using all PCA components: 56\n",
      "computing Extended Infomax ICA\n",
      "[Debug] Bad comps [2, 5, 0], good comps [1, 3, 4, 6, 7, 8, 9, 10, 11, 12, 13, 14, 15, 16, 17, 18, 19, 20, 21, 22, 23, 24, 25, 26, 27, 28, 29, 30, 31, 32, 33, 34, 35, 36, 37, 38, 39, 40, 41, 42, 43, 44, 45, 46, 47, 48, 49, 50, 51, 52, 53, 54, 55] \n",
      "Transforming to ICA space (56 components)\n",
      "Zeroing out 3 ICA components\n",
      "[Debug] Channels:  ['Fp1', 'Fz', 'F3', 'F7', 'FC5', 'FC1', 'C3', 'T7', 'CP5', 'CP1', 'Pz', 'P3', 'P7', 'O1', 'Oz', 'O2', 'P4', 'P8', 'CP2', 'Cz', 'C4', 'T8', 'FC6', 'FC2', 'F4', 'Fp2', 'AF7', 'AF3', 'AFz', 'F1', 'F5', 'FT7', 'FC3', 'FCz', 'C1', 'C5', 'TP7', 'CP3', 'P1', 'P5', 'PO7', 'PO3', 'POz', 'PO4', 'PO8', 'P6', 'P2', 'CPz', 'CP4', 'TP8', 'C6', 'C2', 'FC4', 'FT8', 'F6', 'F2', 'AF4', 'AF8'] 58\n",
      "./eeg_enc/test/17_11_post_eeg_bachurina_psd_clear.png\n",
      "Clear eeg shape before correction,  (54, 610500)  Mask length:  54\n",
      "Clear eeg shape after correction,  (58, 610500)\n",
      "Extracting parameters from ./eeg_enc/test/1207_shevchenko_post_eeg.vhdr...\n",
      "Setting channel info structure...\n",
      "Reading 0 ... 602849  =      0.000 ...   602.849 secs...\n",
      "Setting up band-stop filter from 49 - 51 Hz\n"
     ]
    },
    {
     "name": "stderr",
     "output_type": "stream",
     "text": [
      "[Parallel(n_jobs=4)]: Done  12 tasks      | elapsed:    0.4s\n",
      "[Parallel(n_jobs=4)]: Done  60 out of  60 | elapsed:    1.2s finished\n"
     ]
    },
    {
     "name": "stdout",
     "output_type": "stream",
     "text": [
      "Setting up band-pass filter from 1 - 1e+02 Hz\n"
     ]
    },
    {
     "name": "stderr",
     "output_type": "stream",
     "text": [
      "[Parallel(n_jobs=4)]: Done  12 tasks      | elapsed:    0.4s\n",
      "[Parallel(n_jobs=4)]: Done  60 out of  60 | elapsed:    1.2s finished\n"
     ]
    },
    {
     "name": "stdout",
     "output_type": "stream",
     "text": [
      "Fitting ICA to data using 60 channels. \n",
      "Please be patient, this may take some time\n",
      "Inferring max_pca_components from picks.\n",
      "Using all PCA components: 60\n",
      "computing Extended Infomax ICA\n",
      "[Debug] Bad comps [0, 14, 1, 24], good comps [2, 3, 4, 5, 6, 7, 8, 9, 10, 11, 12, 13, 15, 16, 17, 18, 19, 20, 21, 22, 23, 25, 26, 27, 28, 29, 30, 31, 32, 33, 34, 35, 36, 37, 38, 39, 40, 41, 42, 43, 44, 45, 46, 47, 48, 49, 50, 51, 52, 53, 54, 55, 56, 57, 58, 59] \n",
      "Transforming to ICA space (60 components)\n",
      "Zeroing out 4 ICA components\n",
      "[Debug] Channels:  ['Fp1', 'Fz', 'F3', 'F7', 'FC5', 'FC1', 'C3', 'T7', 'CP5', 'CP1', 'Pz', 'P3', 'P7', 'O1', 'Oz', 'O2', 'P4', 'P8', 'CP2', 'Cz', 'C4', 'T8', 'FC6', 'FC2', 'F4', 'Fp2', 'AF7', 'AF3', 'AFz', 'F1', 'F5', 'FT7', 'FC3', 'FCz', 'C1', 'C5', 'TP7', 'CP3', 'P1', 'P5', 'PO7', 'PO3', 'POz', 'PO4', 'PO8', 'P6', 'P2', 'CPz', 'CP4', 'TP8', 'C6', 'C2', 'FC4', 'FT8', 'F6', 'F2', 'AF4', 'AF8'] 58\n",
      "./eeg_enc/test/1207_shevchenko_post_eeg_psd_clear.png\n",
      "Clear eeg shape before correction,  (58, 602850)  Mask length:  58\n",
      "Clear eeg shape after correction,  (58, 602850)\n",
      "Extracting parameters from ./eeg_enc/test/311_pre_eeg_mazurova.vhdr...\n",
      "Setting channel info structure...\n",
      "Reading 0 ... 604349  =      0.000 ...   604.349 secs...\n",
      "Setting up band-stop filter from 49 - 51 Hz\n"
     ]
    },
    {
     "name": "stderr",
     "output_type": "stream",
     "text": [
      "[Parallel(n_jobs=4)]: Done  16 tasks      | elapsed:    0.6s\n",
      "[Parallel(n_jobs=4)]: Done  40 out of  60 | elapsed:    1.1s remaining:    0.5s\n",
      "[Parallel(n_jobs=4)]: Done  60 out of  60 | elapsed:    1.4s finished\n"
     ]
    },
    {
     "name": "stdout",
     "output_type": "stream",
     "text": [
      "Setting up band-pass filter from 1 - 1e+02 Hz\n"
     ]
    },
    {
     "name": "stderr",
     "output_type": "stream",
     "text": [
      "[Parallel(n_jobs=4)]: Done  12 tasks      | elapsed:    0.4s\n",
      "[Parallel(n_jobs=4)]: Done  60 out of  60 | elapsed:    1.2s finished\n"
     ]
    },
    {
     "name": "stdout",
     "output_type": "stream",
     "text": [
      "Fitting ICA to data using 60 channels. \n",
      "Please be patient, this may take some time\n",
      "Inferring max_pca_components from picks.\n",
      "Using all PCA components: 60\n",
      "computing Extended Infomax ICA\n",
      "[Debug] Bad comps [0, 6, 10, 3], good comps [1, 2, 4, 5, 7, 8, 9, 11, 12, 13, 14, 15, 16, 17, 18, 19, 20, 21, 22, 23, 24, 25, 26, 27, 28, 29, 30, 31, 32, 33, 34, 35, 36, 37, 38, 39, 40, 41, 42, 43, 44, 45, 46, 47, 48, 49, 50, 51, 52, 53, 54, 55, 56, 57, 58, 59] \n",
      "Transforming to ICA space (60 components)\n",
      "Zeroing out 4 ICA components\n",
      "[Debug] Channels:  ['Fp1', 'Fz', 'F3', 'F7', 'FC5', 'FC1', 'C3', 'T7', 'CP5', 'CP1', 'Pz', 'P3', 'P7', 'O1', 'Oz', 'O2', 'P4', 'P8', 'CP2', 'Cz', 'C4', 'T8', 'FC6', 'FC2', 'F4', 'Fp2', 'AF7', 'AF3', 'AFz', 'F1', 'F5', 'FT7', 'FC3', 'FCz', 'C1', 'C5', 'TP7', 'CP3', 'P1', 'P5', 'PO7', 'PO3', 'POz', 'PO4', 'PO8', 'P6', 'P2', 'CPz', 'CP4', 'TP8', 'C6', 'C2', 'FC4', 'FT8', 'F6', 'F2', 'AF4', 'AF8'] 58\n",
      "./eeg_enc/test/311_pre_eeg_mazurova_psd_clear.png\n",
      "Clear eeg shape before correction,  (58, 604350)  Mask length:  58\n",
      "Clear eeg shape after correction,  (58, 604350)\n",
      "Extracting parameters from ./eeg_enc/test/2510_osipova.vhdr...\n",
      "Setting channel info structure...\n",
      "Reading 0 ... 1958699  =      0.000 ...  1958.699 secs...\n",
      "Setting up band-stop filter from 49 - 51 Hz\n"
     ]
    },
    {
     "name": "stderr",
     "output_type": "stream",
     "text": [
      "[Parallel(n_jobs=4)]: Done  10 tasks      | elapsed:    0.8s\n",
      "[Parallel(n_jobs=4)]: Done  60 out of  60 | elapsed:    3.2s finished\n"
     ]
    },
    {
     "name": "stdout",
     "output_type": "stream",
     "text": [
      "Setting up band-pass filter from 1 - 1e+02 Hz\n"
     ]
    },
    {
     "name": "stderr",
     "output_type": "stream",
     "text": [
      "[Parallel(n_jobs=4)]: Done  10 tasks      | elapsed:    0.8s\n",
      "[Parallel(n_jobs=4)]: Done  60 out of  60 | elapsed:    2.9s finished\n"
     ]
    },
    {
     "name": "stdout",
     "output_type": "stream",
     "text": [
      "Fitting ICA to data using 60 channels. \n",
      "Please be patient, this may take some time\n",
      "Inferring max_pca_components from picks.\n",
      "Using all PCA components: 60\n",
      "computing Extended Infomax ICA\n",
      "[Debug] Bad comps [1, 3], good comps [0, 2, 4, 5, 6, 7, 8, 9, 10, 11, 12, 13, 14, 15, 16, 17, 18, 19, 20, 21, 22, 23, 24, 25, 26, 27, 28, 29, 30, 31, 32, 33, 34, 35, 36, 37, 38, 39, 40, 41, 42, 43, 44, 45, 46, 47, 48, 49, 50, 51, 52, 53, 54, 55, 56, 57, 58, 59] \n",
      "Transforming to ICA space (60 components)\n",
      "Zeroing out 2 ICA components\n",
      "[Debug] Channels:  ['Fp1', 'Fz', 'F3', 'F7', 'FC5', 'FC1', 'C3', 'T7', 'CP5', 'CP1', 'Pz', 'P3', 'P7', 'O1', 'Oz', 'O2', 'P4', 'P8', 'CP2', 'Cz', 'C4', 'T8', 'FC6', 'FC2', 'F4', 'Fp2', 'AF7', 'AF3', 'AFz', 'F1', 'F5', 'FT7', 'FC3', 'FCz', 'C1', 'C5', 'TP7', 'CP3', 'P1', 'P5', 'PO7', 'PO3', 'POz', 'PO4', 'PO8', 'P6', 'P2', 'CPz', 'CP4', 'TP8', 'C6', 'C2', 'FC4', 'FT8', 'F6', 'F2', 'AF4', 'AF8'] 58\n",
      "./eeg_enc/test/2510_osipova_psd_clear.png\n",
      "Clear eeg shape before correction,  (58, 1958700)  Mask length:  58\n",
      "Clear eeg shape after correction,  (58, 1958700)\n",
      "Extracting parameters from ./eeg_enc/test/1207_shevchenko.vhdr...\n",
      "Setting channel info structure...\n",
      "Reading 0 ... 2132749  =      0.000 ...  2132.749 secs...\n",
      "Setting up band-stop filter from 49 - 51 Hz\n"
     ]
    },
    {
     "name": "stderr",
     "output_type": "stream",
     "text": [
      "[Parallel(n_jobs=4)]: Done  10 tasks      | elapsed:    0.7s\n",
      "[Parallel(n_jobs=4)]: Done  60 out of  60 | elapsed:    2.7s finished\n"
     ]
    },
    {
     "name": "stdout",
     "output_type": "stream",
     "text": [
      "Setting up band-pass filter from 1 - 1e+02 Hz\n"
     ]
    },
    {
     "name": "stderr",
     "output_type": "stream",
     "text": [
      "[Parallel(n_jobs=4)]: Done  10 tasks      | elapsed:    0.7s\n",
      "[Parallel(n_jobs=4)]: Done  60 out of  60 | elapsed:    2.7s finished\n"
     ]
    },
    {
     "name": "stdout",
     "output_type": "stream",
     "text": [
      "Fitting ICA to data using 60 channels. \n",
      "Please be patient, this may take some time\n",
      "Inferring max_pca_components from picks.\n",
      "Using all PCA components: 60\n",
      "computing Extended Infomax ICA\n",
      "[Debug] Bad comps [3, 0, 2], good comps [1, 4, 5, 6, 7, 8, 9, 10, 11, 12, 13, 14, 15, 16, 17, 18, 19, 20, 21, 22, 23, 24, 25, 26, 27, 28, 29, 30, 31, 32, 33, 34, 35, 36, 37, 38, 39, 40, 41, 42, 43, 44, 45, 46, 47, 48, 49, 50, 51, 52, 53, 54, 55, 56, 57, 58, 59] \n",
      "Transforming to ICA space (60 components)\n",
      "Zeroing out 3 ICA components\n",
      "[Debug] Channels:  ['Fp1', 'Fz', 'F3', 'F7', 'FC5', 'FC1', 'C3', 'T7', 'CP5', 'CP1', 'Pz', 'P3', 'P7', 'O1', 'Oz', 'O2', 'P4', 'P8', 'CP2', 'Cz', 'C4', 'T8', 'FC6', 'FC2', 'F4', 'Fp2', 'AF7', 'AF3', 'AFz', 'F1', 'F5', 'FT7', 'FC3', 'FCz', 'C1', 'C5', 'TP7', 'CP3', 'P1', 'P5', 'PO7', 'PO3', 'POz', 'PO4', 'PO8', 'P6', 'P2', 'CPz', 'CP4', 'TP8', 'C6', 'C2', 'FC4', 'FT8', 'F6', 'F2', 'AF4', 'AF8'] 58\n",
      "./eeg_enc/test/1207_shevchenko_psd_clear.png\n",
      "Clear eeg shape before correction,  (58, 2132750)  Mask length:  58\n",
      "Clear eeg shape after correction,  (58, 2132750)\n",
      "Extracting parameters from ./eeg_enc/test/1407_limanskaya_eeg.vhdr...\n",
      "Setting channel info structure...\n",
      "Reading 0 ... 2406349  =      0.000 ...  2406.349 secs...\n",
      "Setting up band-stop filter from 49 - 51 Hz\n"
     ]
    },
    {
     "name": "stderr",
     "output_type": "stream",
     "text": [
      "[Parallel(n_jobs=4)]: Done  10 tasks      | elapsed:    0.8s\n",
      "[Parallel(n_jobs=4)]: Done  60 out of  60 | elapsed:    3.1s finished\n"
     ]
    },
    {
     "name": "stdout",
     "output_type": "stream",
     "text": [
      "Setting up band-pass filter from 1 - 1e+02 Hz\n"
     ]
    },
    {
     "name": "stderr",
     "output_type": "stream",
     "text": [
      "[Parallel(n_jobs=4)]: Done  10 tasks      | elapsed:    0.8s\n",
      "[Parallel(n_jobs=4)]: Done  60 out of  60 | elapsed:    3.0s finished\n"
     ]
    },
    {
     "name": "stdout",
     "output_type": "stream",
     "text": [
      "Fitting ICA to data using 54 channels. \n",
      "Please be patient, this may take some time\n",
      "Inferring max_pca_components from picks.\n",
      "Using all PCA components: 54\n",
      "computing Extended Infomax ICA\n",
      "[Debug] Bad comps [3, 4], good comps [0, 1, 2, 5, 6, 7, 8, 9, 10, 11, 12, 13, 14, 15, 16, 17, 18, 19, 20, 21, 22, 23, 24, 25, 26, 27, 28, 29, 30, 31, 32, 33, 34, 35, 36, 37, 38, 39, 40, 41, 42, 43, 44, 45, 46, 47, 48, 49, 50, 51, 52, 53] \n",
      "Transforming to ICA space (54 components)\n",
      "Zeroing out 2 ICA components\n",
      "[Debug] Channels:  ['Fp1', 'Fz', 'F3', 'F7', 'FC5', 'FC1', 'C3', 'T7', 'CP5', 'CP1', 'Pz', 'P3', 'P7', 'O1', 'Oz', 'O2', 'P4', 'P8', 'CP2', 'Cz', 'C4', 'T8', 'FC6', 'FC2', 'F4', 'Fp2', 'AF7', 'AF3', 'AFz', 'F1', 'F5', 'FT7', 'FC3', 'FCz', 'C1', 'C5', 'TP7', 'CP3', 'P1', 'P5', 'PO7', 'PO3', 'POz', 'PO4', 'PO8', 'P6', 'P2', 'CPz', 'CP4', 'TP8', 'C6', 'C2', 'FC4', 'FT8', 'F6', 'F2', 'AF4', 'AF8'] 58\n",
      "./eeg_enc/test/1407_limanskaya_eeg_psd_clear.png\n",
      "Clear eeg shape before correction,  (52, 2406350)  Mask length:  52\n",
      "Clear eeg shape after correction,  (58, 2406350)\n",
      "Extracting parameters from ./eeg_enc/test/0311_post_eeg_mazurova.vhdr...\n",
      "Setting channel info structure...\n",
      "Reading 0 ... 603349  =      0.000 ...   603.349 secs...\n",
      "Setting up band-stop filter from 49 - 51 Hz\n"
     ]
    },
    {
     "name": "stderr",
     "output_type": "stream",
     "text": [
      "[Parallel(n_jobs=4)]: Done  12 tasks      | elapsed:    0.4s\n",
      "[Parallel(n_jobs=4)]: Done  60 out of  60 | elapsed:    1.0s finished\n"
     ]
    },
    {
     "name": "stdout",
     "output_type": "stream",
     "text": [
      "Setting up band-pass filter from 1 - 1e+02 Hz\n"
     ]
    },
    {
     "name": "stderr",
     "output_type": "stream",
     "text": [
      "[Parallel(n_jobs=4)]: Done  12 tasks      | elapsed:    0.4s\n",
      "[Parallel(n_jobs=4)]: Done  60 out of  60 | elapsed:    1.0s finished\n"
     ]
    },
    {
     "name": "stdout",
     "output_type": "stream",
     "text": [
      "Fitting ICA to data using 59 channels. \n",
      "Please be patient, this may take some time\n",
      "Inferring max_pca_components from picks.\n",
      "Using all PCA components: 59\n",
      "computing Extended Infomax ICA\n",
      "[Debug] Bad comps [9, 5, 22], good comps [0, 1, 2, 3, 4, 6, 7, 8, 10, 11, 12, 13, 14, 15, 16, 17, 18, 19, 20, 21, 23, 24, 25, 26, 27, 28, 29, 30, 31, 32, 33, 34, 35, 36, 37, 38, 39, 40, 41, 42, 43, 44, 45, 46, 47, 48, 49, 50, 51, 52, 53, 54, 55, 56, 57, 58] \n",
      "Transforming to ICA space (59 components)\n",
      "Zeroing out 3 ICA components\n",
      "[Debug] Channels:  ['Fp1', 'Fz', 'F3', 'F7', 'FC5', 'FC1', 'C3', 'T7', 'CP5', 'CP1', 'Pz', 'P3', 'P7', 'O1', 'Oz', 'O2', 'P4', 'P8', 'CP2', 'Cz', 'C4', 'T8', 'FC6', 'FC2', 'F4', 'Fp2', 'AF7', 'AF3', 'AFz', 'F1', 'F5', 'FT7', 'FC3', 'FCz', 'C1', 'C5', 'TP7', 'CP3', 'P1', 'P5', 'PO7', 'PO3', 'POz', 'PO4', 'PO8', 'P6', 'P2', 'CPz', 'CP4', 'TP8', 'C6', 'C2', 'FC4', 'FT8', 'F6', 'F2', 'AF4', 'AF8'] 58\n",
      "./eeg_enc/test/0311_post_eeg_mazurova_psd_clear.png\n",
      "Clear eeg shape before correction,  (57, 603350)  Mask length:  57\n",
      "Clear eeg shape after correction,  (58, 603350)\n",
      "Extracting parameters from ./eeg_enc/test/1608_eeg_polshina.vhdr...\n",
      "Setting channel info structure...\n",
      "Reading 0 ... 1961799  =      0.000 ...  1961.799 secs...\n",
      "Setting up band-stop filter from 49 - 51 Hz\n"
     ]
    },
    {
     "name": "stderr",
     "output_type": "stream",
     "text": [
      "[Parallel(n_jobs=4)]: Done  10 tasks      | elapsed:    0.7s\n",
      "[Parallel(n_jobs=4)]: Done  60 out of  60 | elapsed:    2.5s finished\n"
     ]
    },
    {
     "name": "stdout",
     "output_type": "stream",
     "text": [
      "Setting up band-pass filter from 1 - 1e+02 Hz\n"
     ]
    },
    {
     "name": "stderr",
     "output_type": "stream",
     "text": [
      "[Parallel(n_jobs=4)]: Done  10 tasks      | elapsed:    0.7s\n",
      "[Parallel(n_jobs=4)]: Done  60 out of  60 | elapsed:    2.6s finished\n"
     ]
    },
    {
     "name": "stdout",
     "output_type": "stream",
     "text": [
      "Fitting ICA to data using 60 channels. \n",
      "Please be patient, this may take some time\n",
      "Inferring max_pca_components from picks.\n",
      "Using all PCA components: 60\n",
      "computing Extended Infomax ICA\n",
      "[Debug] Bad comps [1, 3, 0, 31], good comps [2, 4, 5, 6, 7, 8, 9, 10, 11, 12, 13, 14, 15, 16, 17, 18, 19, 20, 21, 22, 23, 24, 25, 26, 27, 28, 29, 30, 32, 33, 34, 35, 36, 37, 38, 39, 40, 41, 42, 43, 44, 45, 46, 47, 48, 49, 50, 51, 52, 53, 54, 55, 56, 57, 58, 59] \n",
      "Transforming to ICA space (60 components)\n",
      "Zeroing out 4 ICA components\n",
      "[Debug] Channels:  ['Fp1', 'Fz', 'F3', 'F7', 'FC5', 'FC1', 'C3', 'T7', 'CP5', 'CP1', 'Pz', 'P3', 'P7', 'O1', 'Oz', 'O2', 'P4', 'P8', 'CP2', 'Cz', 'C4', 'T8', 'FC6', 'FC2', 'F4', 'Fp2', 'AF7', 'AF3', 'AFz', 'F1', 'F5', 'FT7', 'FC3', 'FCz', 'C1', 'C5', 'TP7', 'CP3', 'P1', 'P5', 'PO7', 'PO3', 'POz', 'PO4', 'PO8', 'P6', 'P2', 'CPz', 'CP4', 'TP8', 'C6', 'C2', 'FC4', 'FT8', 'F6', 'F2', 'AF4', 'AF8'] 58\n",
      "./eeg_enc/test/1608_eeg_polshina_psd_clear.png\n",
      "Clear eeg shape before correction,  (58, 1961800)  Mask length:  58\n",
      "Clear eeg shape after correction,  (58, 1961800)\n",
      "Extracting parameters from ./eeg_enc/test/2509_post_eeg_rinata.vhdr...\n",
      "Setting channel info structure...\n",
      "Reading 0 ... 601549  =      0.000 ...   601.549 secs...\n",
      "Setting up band-stop filter from 49 - 51 Hz\n"
     ]
    },
    {
     "name": "stderr",
     "output_type": "stream",
     "text": [
      "[Parallel(n_jobs=4)]: Done  12 tasks      | elapsed:    0.4s\n",
      "[Parallel(n_jobs=4)]: Done  60 out of  60 | elapsed:    1.0s finished\n"
     ]
    },
    {
     "name": "stdout",
     "output_type": "stream",
     "text": [
      "Setting up band-pass filter from 1 - 1e+02 Hz\n"
     ]
    },
    {
     "name": "stderr",
     "output_type": "stream",
     "text": [
      "[Parallel(n_jobs=4)]: Done  12 tasks      | elapsed:    0.4s\n",
      "[Parallel(n_jobs=4)]: Done  60 out of  60 | elapsed:    1.1s finished\n"
     ]
    },
    {
     "name": "stdout",
     "output_type": "stream",
     "text": [
      "Fitting ICA to data using 56 channels. \n",
      "Please be patient, this may take some time\n",
      "Inferring max_pca_components from picks.\n",
      "Using all PCA components: 56\n",
      "computing Extended Infomax ICA\n",
      "[Debug] Bad comps [2, 0, 30, 5], good comps [1, 3, 4, 6, 7, 8, 9, 10, 11, 12, 13, 14, 15, 16, 17, 18, 19, 20, 21, 22, 23, 24, 25, 26, 27, 28, 29, 31, 32, 33, 34, 35, 36, 37, 38, 39, 40, 41, 42, 43, 44, 45, 46, 47, 48, 49, 50, 51, 52, 53, 54, 55] \n",
      "Transforming to ICA space (56 components)\n",
      "Zeroing out 4 ICA components\n",
      "[Debug] Channels:  ['Fp1', 'Fz', 'F3', 'F7', 'FC5', 'FC1', 'C3', 'T7', 'CP5', 'CP1', 'Pz', 'P3', 'P7', 'O1', 'Oz', 'O2', 'P4', 'P8', 'CP2', 'Cz', 'C4', 'T8', 'FC6', 'FC2', 'F4', 'Fp2', 'AF7', 'AF3', 'AFz', 'F1', 'F5', 'FT7', 'FC3', 'FCz', 'C1', 'C5', 'TP7', 'CP3', 'P1', 'P5', 'PO7', 'PO3', 'POz', 'PO4', 'PO8', 'P6', 'P2', 'CPz', 'CP4', 'TP8', 'C6', 'C2', 'FC4', 'FT8', 'F6', 'F2', 'AF4', 'AF8'] 58\n",
      "./eeg_enc/test/2509_post_eeg_rinata_psd_clear.png\n",
      "Clear eeg shape before correction,  (54, 601550)  Mask length:  54\n",
      "Clear eeg shape after correction,  (58, 601550)\n",
      "Extracting parameters from ./eeg_enc/test/0311_pre_eeg_popova.vhdr...\n",
      "Setting channel info structure...\n",
      "Reading 0 ... 1977699  =      0.000 ...  1977.699 secs...\n",
      "Setting up band-stop filter from 49 - 51 Hz\n"
     ]
    },
    {
     "name": "stderr",
     "output_type": "stream",
     "text": [
      "[Parallel(n_jobs=4)]: Done  10 tasks      | elapsed:    0.7s\n",
      "[Parallel(n_jobs=4)]: Done  60 out of  60 | elapsed:    2.7s finished\n"
     ]
    },
    {
     "name": "stdout",
     "output_type": "stream",
     "text": [
      "Setting up band-pass filter from 1 - 1e+02 Hz\n"
     ]
    },
    {
     "name": "stderr",
     "output_type": "stream",
     "text": [
      "[Parallel(n_jobs=4)]: Done  10 tasks      | elapsed:    0.7s\n",
      "[Parallel(n_jobs=4)]: Done  60 out of  60 | elapsed:    2.7s finished\n"
     ]
    },
    {
     "name": "stdout",
     "output_type": "stream",
     "text": [
      "Fitting ICA to data using 60 channels. \n",
      "Please be patient, this may take some time\n",
      "Inferring max_pca_components from picks.\n",
      "Using all PCA components: 60\n",
      "computing Extended Infomax ICA\n",
      "[Debug] Bad comps [2, 1, 0], good comps [3, 4, 5, 6, 7, 8, 9, 10, 11, 12, 13, 14, 15, 16, 17, 18, 19, 20, 21, 22, 23, 24, 25, 26, 27, 28, 29, 30, 31, 32, 33, 34, 35, 36, 37, 38, 39, 40, 41, 42, 43, 44, 45, 46, 47, 48, 49, 50, 51, 52, 53, 54, 55, 56, 57, 58, 59] \n",
      "Transforming to ICA space (60 components)\n",
      "Zeroing out 3 ICA components\n",
      "[Debug] Channels:  ['Fp1', 'Fz', 'F3', 'F7', 'FC5', 'FC1', 'C3', 'T7', 'CP5', 'CP1', 'Pz', 'P3', 'P7', 'O1', 'Oz', 'O2', 'P4', 'P8', 'CP2', 'Cz', 'C4', 'T8', 'FC6', 'FC2', 'F4', 'Fp2', 'AF7', 'AF3', 'AFz', 'F1', 'F5', 'FT7', 'FC3', 'FCz', 'C1', 'C5', 'TP7', 'CP3', 'P1', 'P5', 'PO7', 'PO3', 'POz', 'PO4', 'PO8', 'P6', 'P2', 'CPz', 'CP4', 'TP8', 'C6', 'C2', 'FC4', 'FT8', 'F6', 'F2', 'AF4', 'AF8'] 58\n",
      "./eeg_enc/test/0311_pre_eeg_popova_psd_clear.png\n",
      "Clear eeg shape before correction,  (58, 1977700)  Mask length:  58\n",
      "Clear eeg shape after correction,  (58, 1977700)\n",
      "Extracting parameters from ./eeg_enc/test/2809_post_eeg_lukyanov.vhdr...\n",
      "Setting channel info structure...\n",
      "Reading 0 ... 602149  =      0.000 ...   602.149 secs...\n",
      "Setting up band-stop filter from 49 - 51 Hz\n"
     ]
    },
    {
     "name": "stderr",
     "output_type": "stream",
     "text": [
      "[Parallel(n_jobs=4)]: Done  12 tasks      | elapsed:    0.3s\n",
      "[Parallel(n_jobs=4)]: Done  60 out of  60 | elapsed:    0.9s finished\n"
     ]
    },
    {
     "name": "stdout",
     "output_type": "stream",
     "text": [
      "Setting up band-pass filter from 1 - 1e+02 Hz\n"
     ]
    },
    {
     "name": "stderr",
     "output_type": "stream",
     "text": [
      "[Parallel(n_jobs=4)]: Done  12 tasks      | elapsed:    0.3s\n",
      "[Parallel(n_jobs=4)]: Done  60 out of  60 | elapsed:    1.0s finished\n"
     ]
    },
    {
     "name": "stdout",
     "output_type": "stream",
     "text": [
      "Fitting ICA to data using 60 channels. \n",
      "Please be patient, this may take some time\n",
      "Inferring max_pca_components from picks.\n",
      "Using all PCA components: 60\n",
      "computing Extended Infomax ICA\n",
      "[Debug] Bad comps [11, 3, 10, 2], good comps [0, 1, 4, 5, 6, 7, 8, 9, 12, 13, 14, 15, 16, 17, 18, 19, 20, 21, 22, 23, 24, 25, 26, 27, 28, 29, 30, 31, 32, 33, 34, 35, 36, 37, 38, 39, 40, 41, 42, 43, 44, 45, 46, 47, 48, 49, 50, 51, 52, 53, 54, 55, 56, 57, 58, 59] \n",
      "Transforming to ICA space (60 components)\n",
      "Zeroing out 4 ICA components\n",
      "[Debug] Channels:  ['Fp1', 'Fz', 'F3', 'F7', 'FC5', 'FC1', 'C3', 'T7', 'CP5', 'CP1', 'Pz', 'P3', 'P7', 'O1', 'Oz', 'O2', 'P4', 'P8', 'CP2', 'Cz', 'C4', 'T8', 'FC6', 'FC2', 'F4', 'Fp2', 'AF7', 'AF3', 'AFz', 'F1', 'F5', 'FT7', 'FC3', 'FCz', 'C1', 'C5', 'TP7', 'CP3', 'P1', 'P5', 'PO7', 'PO3', 'POz', 'PO4', 'PO8', 'P6', 'P2', 'CPz', 'CP4', 'TP8', 'C6', 'C2', 'FC4', 'FT8', 'F6', 'F2', 'AF4', 'AF8'] 58\n",
      "./eeg_enc/test/2809_post_eeg_lukyanov_psd_clear.png\n",
      "Clear eeg shape before correction,  (58, 602150)  Mask length:  58\n",
      "Clear eeg shape after correction,  (58, 602150)\n",
      "Extracting parameters from ./eeg_enc/test/3010_eeg_suhareva.vhdr...\n",
      "Setting channel info structure...\n",
      "Reading 0 ... 1572349  =      0.000 ...  1572.349 secs...\n",
      "Setting up band-stop filter from 49 - 51 Hz\n"
     ]
    },
    {
     "name": "stderr",
     "output_type": "stream",
     "text": [
      "[Parallel(n_jobs=4)]: Done  10 tasks      | elapsed:    0.5s\n",
      "[Parallel(n_jobs=4)]: Done  60 out of  60 | elapsed:    2.1s finished\n"
     ]
    },
    {
     "name": "stdout",
     "output_type": "stream",
     "text": [
      "Setting up band-pass filter from 1 - 1e+02 Hz\n"
     ]
    },
    {
     "name": "stderr",
     "output_type": "stream",
     "text": [
      "[Parallel(n_jobs=4)]: Done  10 tasks      | elapsed:    0.5s\n",
      "[Parallel(n_jobs=4)]: Done  60 out of  60 | elapsed:    2.0s finished\n"
     ]
    },
    {
     "name": "stdout",
     "output_type": "stream",
     "text": [
      "Fitting ICA to data using 59 channels. \n",
      "Please be patient, this may take some time\n",
      "Inferring max_pca_components from picks.\n",
      "Using all PCA components: 59\n",
      "computing Extended Infomax ICA\n",
      "[Debug] Bad comps [0, 1], good comps [2, 3, 4, 5, 6, 7, 8, 9, 10, 11, 12, 13, 14, 15, 16, 17, 18, 19, 20, 21, 22, 23, 24, 25, 26, 27, 28, 29, 30, 31, 32, 33, 34, 35, 36, 37, 38, 39, 40, 41, 42, 43, 44, 45, 46, 47, 48, 49, 50, 51, 52, 53, 54, 55, 56, 57, 58] \n",
      "Transforming to ICA space (59 components)\n",
      "Zeroing out 2 ICA components\n",
      "[Debug] Channels:  ['Fp1', 'Fz', 'F3', 'F7', 'FC5', 'FC1', 'C3', 'T7', 'CP5', 'CP1', 'Pz', 'P3', 'P7', 'O1', 'Oz', 'O2', 'P4', 'P8', 'CP2', 'Cz', 'C4', 'T8', 'FC6', 'FC2', 'F4', 'Fp2', 'AF7', 'AF3', 'AFz', 'F1', 'F5', 'FT7', 'FC3', 'FCz', 'C1', 'C5', 'TP7', 'CP3', 'P1', 'P5', 'PO7', 'PO3', 'POz', 'PO4', 'PO8', 'P6', 'P2', 'CPz', 'CP4', 'TP8', 'C6', 'C2', 'FC4', 'FT8', 'F6', 'F2', 'AF4', 'AF8'] 58\n",
      "./eeg_enc/test/3010_eeg_suhareva_psd_clear.png\n",
      "Clear eeg shape before correction,  (57, 1572350)  Mask length:  57\n",
      "Clear eeg shape after correction,  (58, 1572350)\n",
      "Extracting parameters from ./eeg_enc/test/1608_rpre_eeg_polshina.vhdr...\n",
      "Setting channel info structure...\n",
      "Reading 0 ... 629449  =      0.000 ...   629.449 secs...\n",
      "Setting up band-stop filter from 49 - 51 Hz\n"
     ]
    },
    {
     "name": "stderr",
     "output_type": "stream",
     "text": [
      "[Parallel(n_jobs=4)]: Done  12 tasks      | elapsed:    0.4s\n",
      "[Parallel(n_jobs=4)]: Done  60 out of  60 | elapsed:    1.0s finished\n"
     ]
    },
    {
     "name": "stdout",
     "output_type": "stream",
     "text": [
      "Setting up band-pass filter from 1 - 1e+02 Hz\n"
     ]
    },
    {
     "name": "stderr",
     "output_type": "stream",
     "text": [
      "[Parallel(n_jobs=4)]: Done  12 tasks      | elapsed:    0.4s\n",
      "[Parallel(n_jobs=4)]: Done  60 out of  60 | elapsed:    1.0s finished\n"
     ]
    },
    {
     "name": "stdout",
     "output_type": "stream",
     "text": [
      "Fitting ICA to data using 54 channels. \n",
      "Please be patient, this may take some time\n",
      "Inferring max_pca_components from picks.\n",
      "Using all PCA components: 54\n",
      "computing Extended Infomax ICA\n",
      "[Debug] Bad comps [4, 0, 10], good comps [1, 2, 3, 5, 6, 7, 8, 9, 11, 12, 13, 14, 15, 16, 17, 18, 19, 20, 21, 22, 23, 24, 25, 26, 27, 28, 29, 30, 31, 32, 33, 34, 35, 36, 37, 38, 39, 40, 41, 42, 43, 44, 45, 46, 47, 48, 49, 50, 51, 52, 53] \n",
      "Transforming to ICA space (54 components)\n",
      "Zeroing out 3 ICA components\n",
      "[Debug] Channels:  ['Fp1', 'Fz', 'F3', 'F7', 'FC5', 'FC1', 'C3', 'T7', 'CP5', 'CP1', 'Pz', 'P3', 'P7', 'O1', 'Oz', 'O2', 'P4', 'P8', 'CP2', 'Cz', 'C4', 'T8', 'FC6', 'FC2', 'F4', 'Fp2', 'AF7', 'AF3', 'AFz', 'F1', 'F5', 'FT7', 'FC3', 'FCz', 'C1', 'C5', 'TP7', 'CP3', 'P1', 'P5', 'PO7', 'PO3', 'POz', 'PO4', 'PO8', 'P6', 'P2', 'CPz', 'CP4', 'TP8', 'C6', 'C2', 'FC4', 'FT8', 'F6', 'F2', 'AF4', 'AF8'] 58\n",
      "./eeg_enc/test/1608_rpre_eeg_polshina_psd_clear.png\n",
      "Clear eeg shape before correction,  (52, 629450)  Mask length:  52\n",
      "Clear eeg shape after correction,  (58, 629450)\n",
      "Extracting parameters from ./eeg_enc/test/1207_shevchenko_pre_eeg.vhdr...\n",
      "Setting channel info structure...\n",
      "Reading 0 ... 614199  =      0.000 ...   614.199 secs...\n",
      "Setting up band-stop filter from 49 - 51 Hz\n"
     ]
    },
    {
     "name": "stderr",
     "output_type": "stream",
     "text": [
      "[Parallel(n_jobs=4)]: Done  12 tasks      | elapsed:    0.4s\n",
      "[Parallel(n_jobs=4)]: Done  60 out of  60 | elapsed:    1.0s finished\n"
     ]
    },
    {
     "name": "stdout",
     "output_type": "stream",
     "text": [
      "Setting up band-pass filter from 1 - 1e+02 Hz\n"
     ]
    },
    {
     "name": "stderr",
     "output_type": "stream",
     "text": [
      "[Parallel(n_jobs=4)]: Done  12 tasks      | elapsed:    0.4s\n",
      "[Parallel(n_jobs=4)]: Done  60 out of  60 | elapsed:    1.0s finished\n"
     ]
    },
    {
     "name": "stdout",
     "output_type": "stream",
     "text": [
      "Fitting ICA to data using 60 channels. \n",
      "Please be patient, this may take some time\n",
      "Inferring max_pca_components from picks.\n",
      "Using all PCA components: 60\n",
      "computing Extended Infomax ICA\n",
      "[Debug] Bad comps [0, 13, 17], good comps [1, 2, 3, 4, 5, 6, 7, 8, 9, 10, 11, 12, 14, 15, 16, 18, 19, 20, 21, 22, 23, 24, 25, 26, 27, 28, 29, 30, 31, 32, 33, 34, 35, 36, 37, 38, 39, 40, 41, 42, 43, 44, 45, 46, 47, 48, 49, 50, 51, 52, 53, 54, 55, 56, 57, 58, 59] \n",
      "Transforming to ICA space (60 components)\n",
      "Zeroing out 3 ICA components\n",
      "[Debug] Channels:  ['Fp1', 'Fz', 'F3', 'F7', 'FC5', 'FC1', 'C3', 'T7', 'CP5', 'CP1', 'Pz', 'P3', 'P7', 'O1', 'Oz', 'O2', 'P4', 'P8', 'CP2', 'Cz', 'C4', 'T8', 'FC6', 'FC2', 'F4', 'Fp2', 'AF7', 'AF3', 'AFz', 'F1', 'F5', 'FT7', 'FC3', 'FCz', 'C1', 'C5', 'TP7', 'CP3', 'P1', 'P5', 'PO7', 'PO3', 'POz', 'PO4', 'PO8', 'P6', 'P2', 'CPz', 'CP4', 'TP8', 'C6', 'C2', 'FC4', 'FT8', 'F6', 'F2', 'AF4', 'AF8'] 58\n",
      "./eeg_enc/test/1207_shevchenko_pre_eeg_psd_clear.png\n",
      "Clear eeg shape before correction,  (58, 614200)  Mask length:  58\n",
      "Clear eeg shape after correction,  (58, 614200)\n",
      "Extracting parameters from ./eeg_enc/test/2809_lukyanov.vhdr...\n",
      "Setting channel info structure...\n",
      "Reading 0 ... 2085449  =      0.000 ...  2085.449 secs...\n",
      "Setting up band-stop filter from 49 - 51 Hz\n"
     ]
    },
    {
     "name": "stderr",
     "output_type": "stream",
     "text": [
      "[Parallel(n_jobs=4)]: Done  10 tasks      | elapsed:    0.7s\n",
      "[Parallel(n_jobs=4)]: Done  60 out of  60 | elapsed:    2.7s finished\n"
     ]
    },
    {
     "name": "stdout",
     "output_type": "stream",
     "text": [
      "Setting up band-pass filter from 1 - 1e+02 Hz\n"
     ]
    },
    {
     "name": "stderr",
     "output_type": "stream",
     "text": [
      "[Parallel(n_jobs=4)]: Done  10 tasks      | elapsed:    0.7s\n",
      "[Parallel(n_jobs=4)]: Done  60 out of  60 | elapsed:    2.6s finished\n"
     ]
    },
    {
     "name": "stdout",
     "output_type": "stream",
     "text": [
      "Fitting ICA to data using 57 channels. \n",
      "Please be patient, this may take some time\n",
      "Inferring max_pca_components from picks.\n",
      "Using all PCA components: 57\n",
      "computing Extended Infomax ICA\n",
      "[Debug] Bad comps [1, 2, 0], good comps [3, 4, 5, 6, 7, 8, 9, 10, 11, 12, 13, 14, 15, 16, 17, 18, 19, 20, 21, 22, 23, 24, 25, 26, 27, 28, 29, 30, 31, 32, 33, 34, 35, 36, 37, 38, 39, 40, 41, 42, 43, 44, 45, 46, 47, 48, 49, 50, 51, 52, 53, 54, 55, 56] \n",
      "Transforming to ICA space (57 components)\n",
      "Zeroing out 3 ICA components\n",
      "[Debug] Channels:  ['Fp1', 'Fz', 'F3', 'F7', 'FC5', 'FC1', 'C3', 'T7', 'CP5', 'CP1', 'Pz', 'P3', 'P7', 'O1', 'Oz', 'O2', 'P4', 'P8', 'CP2', 'Cz', 'C4', 'T8', 'FC6', 'FC2', 'F4', 'Fp2', 'AF7', 'AF3', 'AFz', 'F1', 'F5', 'FT7', 'FC3', 'FCz', 'C1', 'C5', 'TP7', 'CP3', 'P1', 'P5', 'PO7', 'PO3', 'POz', 'PO4', 'PO8', 'P6', 'P2', 'CPz', 'CP4', 'TP8', 'C6', 'C2', 'FC4', 'FT8', 'F6', 'F2', 'AF4', 'AF8'] 58\n",
      "./eeg_enc/test/2809_lukyanov_psd_clear.png\n",
      "Clear eeg shape before correction,  (55, 2085450)  Mask length:  55\n",
      "Clear eeg shape after correction,  (58, 2085450)\n",
      "Extracting parameters from ./eeg_enc/test/1509_zvyagincev.vhdr...\n",
      "Setting channel info structure...\n",
      "Reading 0 ... 1910849  =      0.000 ...  1910.849 secs...\n",
      "Setting up band-stop filter from 49 - 51 Hz\n"
     ]
    },
    {
     "name": "stderr",
     "output_type": "stream",
     "text": [
      "[Parallel(n_jobs=4)]: Done  10 tasks      | elapsed:    0.6s\n",
      "[Parallel(n_jobs=4)]: Done  60 out of  60 | elapsed:    2.4s finished\n"
     ]
    },
    {
     "name": "stdout",
     "output_type": "stream",
     "text": [
      "Setting up band-pass filter from 1 - 1e+02 Hz\n"
     ]
    },
    {
     "name": "stderr",
     "output_type": "stream",
     "text": [
      "[Parallel(n_jobs=4)]: Done  10 tasks      | elapsed:    0.6s\n",
      "[Parallel(n_jobs=4)]: Done  60 out of  60 | elapsed:    2.5s finished\n"
     ]
    },
    {
     "name": "stdout",
     "output_type": "stream",
     "text": [
      "Fitting ICA to data using 53 channels. \n",
      "Please be patient, this may take some time\n",
      "Inferring max_pca_components from picks.\n",
      "Using all PCA components: 53\n",
      "computing Extended Infomax ICA\n",
      "[Debug] Bad comps [3, 7, 0], good comps [1, 2, 4, 5, 6, 8, 9, 10, 11, 12, 13, 14, 15, 16, 17, 18, 19, 20, 21, 22, 23, 24, 25, 26, 27, 28, 29, 30, 31, 32, 33, 34, 35, 36, 37, 38, 39, 40, 41, 42, 43, 44, 45, 46, 47, 48, 49, 50, 51, 52] \n",
      "Transforming to ICA space (53 components)\n",
      "Zeroing out 3 ICA components\n",
      "[Debug] Channels:  ['Fp1', 'Fz', 'F3', 'F7', 'FC5', 'FC1', 'C3', 'T7', 'CP5', 'CP1', 'Pz', 'P3', 'P7', 'O1', 'Oz', 'O2', 'P4', 'P8', 'CP2', 'Cz', 'C4', 'T8', 'FC6', 'FC2', 'F4', 'Fp2', 'AF7', 'AF3', 'AFz', 'F1', 'F5', 'FT7', 'FC3', 'FCz', 'C1', 'C5', 'TP7', 'CP3', 'P1', 'P5', 'PO7', 'PO3', 'POz', 'PO4', 'PO8', 'P6', 'P2', 'CPz', 'CP4', 'TP8', 'C6', 'C2', 'FC4', 'FT8', 'F6', 'F2', 'AF4', 'AF8'] 58\n",
      "./eeg_enc/test/1509_zvyagincev_psd_clear.png\n",
      "Clear eeg shape before correction,  (51, 1910850)  Mask length:  51\n",
      "Clear eeg shape after correction,  (58, 1910850)\n",
      "Extracting parameters from ./eeg_enc/test/2606_patrakeeva_main_eeg.vhdr...\n",
      "Setting channel info structure...\n",
      "Reading 0 ... 2106049  =      0.000 ...  2106.049 secs...\n",
      "Setting up band-stop filter from 49 - 51 Hz\n"
     ]
    },
    {
     "name": "stderr",
     "output_type": "stream",
     "text": [
      "[Parallel(n_jobs=4)]: Done  10 tasks      | elapsed:    0.7s\n",
      "[Parallel(n_jobs=4)]: Done  60 out of  60 | elapsed:    2.6s finished\n"
     ]
    },
    {
     "name": "stdout",
     "output_type": "stream",
     "text": [
      "Setting up band-pass filter from 1 - 1e+02 Hz\n"
     ]
    },
    {
     "name": "stderr",
     "output_type": "stream",
     "text": [
      "[Parallel(n_jobs=4)]: Done  10 tasks      | elapsed:    0.6s\n",
      "[Parallel(n_jobs=4)]: Done  60 out of  60 | elapsed:    2.6s finished\n"
     ]
    },
    {
     "name": "stdout",
     "output_type": "stream",
     "text": [
      "Fitting ICA to data using 55 channels. \n",
      "Please be patient, this may take some time\n",
      "Inferring max_pca_components from picks.\n",
      "Using all PCA components: 55\n",
      "computing Extended Infomax ICA\n",
      "[Debug] Bad comps [1, 3, 0, 50], good comps [2, 4, 5, 6, 7, 8, 9, 10, 11, 12, 13, 14, 15, 16, 17, 18, 19, 20, 21, 22, 23, 24, 25, 26, 27, 28, 29, 30, 31, 32, 33, 34, 35, 36, 37, 38, 39, 40, 41, 42, 43, 44, 45, 46, 47, 48, 49, 51, 52, 53, 54] \n",
      "Transforming to ICA space (55 components)\n",
      "Zeroing out 4 ICA components\n",
      "[Debug] Channels:  ['Fp1', 'Fz', 'F3', 'F7', 'FC5', 'FC1', 'C3', 'T7', 'CP5', 'CP1', 'Pz', 'P3', 'P7', 'O1', 'Oz', 'O2', 'P4', 'P8', 'CP2', 'Cz', 'C4', 'T8', 'FC6', 'FC2', 'F4', 'Fp2', 'AF7', 'AF3', 'AFz', 'F1', 'F5', 'FT7', 'FC3', 'FCz', 'C1', 'C5', 'TP7', 'CP3', 'P1', 'P5', 'PO7', 'PO3', 'POz', 'PO4', 'PO8', 'P6', 'P2', 'CPz', 'CP4', 'TP8', 'C6', 'C2', 'FC4', 'FT8', 'F6', 'F2', 'AF4', 'AF8'] 58\n",
      "./eeg_enc/test/2606_patrakeeva_main_eeg_psd_clear.png\n",
      "Clear eeg shape before correction,  (53, 2106050)  Mask length:  53\n",
      "Clear eeg shape after correction,  (58, 2106050)\n",
      "Extracting parameters from ./eeg_enc/test/14071200_limaskaya_post_eeg.vhdr...\n",
      "Setting channel info structure...\n",
      "Reading 0 ... 604849  =      0.000 ...   604.849 secs...\n",
      "Setting up band-stop filter from 49 - 51 Hz\n"
     ]
    },
    {
     "name": "stderr",
     "output_type": "stream",
     "text": [
      "[Parallel(n_jobs=4)]: Done  12 tasks      | elapsed:    0.4s\n",
      "[Parallel(n_jobs=4)]: Done  60 out of  60 | elapsed:    1.0s finished\n"
     ]
    },
    {
     "name": "stdout",
     "output_type": "stream",
     "text": [
      "Setting up band-pass filter from 1 - 1e+02 Hz\n"
     ]
    },
    {
     "name": "stderr",
     "output_type": "stream",
     "text": [
      "[Parallel(n_jobs=4)]: Done  12 tasks      | elapsed:    0.4s\n",
      "[Parallel(n_jobs=4)]: Done  60 out of  60 | elapsed:    1.0s finished\n"
     ]
    },
    {
     "name": "stdout",
     "output_type": "stream",
     "text": [
      "Fitting ICA to data using 55 channels. \n",
      "Please be patient, this may take some time\n",
      "Inferring max_pca_components from picks.\n",
      "Using all PCA components: 55\n",
      "computing Extended Infomax ICA\n",
      "[Debug] Bad comps [2, 10], good comps [0, 1, 3, 4, 5, 6, 7, 8, 9, 11, 12, 13, 14, 15, 16, 17, 18, 19, 20, 21, 22, 23, 24, 25, 26, 27, 28, 29, 30, 31, 32, 33, 34, 35, 36, 37, 38, 39, 40, 41, 42, 43, 44, 45, 46, 47, 48, 49, 50, 51, 52, 53, 54] \n",
      "Transforming to ICA space (55 components)\n",
      "Zeroing out 2 ICA components\n",
      "[Debug] Channels:  ['Fp1', 'Fz', 'F3', 'F7', 'FC5', 'FC1', 'C3', 'T7', 'CP5', 'CP1', 'Pz', 'P3', 'P7', 'O1', 'Oz', 'O2', 'P4', 'P8', 'CP2', 'Cz', 'C4', 'T8', 'FC6', 'FC2', 'F4', 'Fp2', 'AF7', 'AF3', 'AFz', 'F1', 'F5', 'FT7', 'FC3', 'FCz', 'C1', 'C5', 'TP7', 'CP3', 'P1', 'P5', 'PO7', 'PO3', 'POz', 'PO4', 'PO8', 'P6', 'P2', 'CPz', 'CP4', 'TP8', 'C6', 'C2', 'FC4', 'FT8', 'F6', 'F2', 'AF4', 'AF8'] 58\n",
      "./eeg_enc/test/14071200_limaskaya_post_eeg_psd_clear.png\n",
      "Clear eeg shape before correction,  (53, 604850)  Mask length:  53\n",
      "Clear eeg shape after correction,  (58, 604850)\n",
      "Extracting parameters from ./eeg_enc/test/2509_eeg_rinata.vhdr...\n",
      "Setting channel info structure...\n",
      "Reading 0 ... 2129299  =      0.000 ...  2129.299 secs...\n",
      "Setting up band-stop filter from 49 - 51 Hz\n"
     ]
    },
    {
     "name": "stderr",
     "output_type": "stream",
     "text": [
      "[Parallel(n_jobs=4)]: Done  10 tasks      | elapsed:    0.8s\n",
      "[Parallel(n_jobs=4)]: Done  60 out of  60 | elapsed:    3.6s finished\n"
     ]
    },
    {
     "name": "stdout",
     "output_type": "stream",
     "text": [
      "Setting up band-pass filter from 1 - 1e+02 Hz\n"
     ]
    },
    {
     "name": "stderr",
     "output_type": "stream",
     "text": [
      "[Parallel(n_jobs=4)]: Done  10 tasks      | elapsed:    0.8s\n",
      "[Parallel(n_jobs=4)]: Done  60 out of  60 | elapsed:    3.5s finished\n"
     ]
    },
    {
     "name": "stdout",
     "output_type": "stream",
     "text": [
      "Fitting ICA to data using 58 channels. \n",
      "Please be patient, this may take some time\n",
      "Inferring max_pca_components from picks.\n",
      "Using all PCA components: 58\n",
      "computing Extended Infomax ICA\n",
      "[Debug] Bad comps [4, 3], good comps [0, 1, 2, 5, 6, 7, 8, 9, 10, 11, 12, 13, 14, 15, 16, 17, 18, 19, 20, 21, 22, 23, 24, 25, 26, 27, 28, 29, 30, 31, 32, 33, 34, 35, 36, 37, 38, 39, 40, 41, 42, 43, 44, 45, 46, 47, 48, 49, 50, 51, 52, 53, 54, 55, 56, 57] \n",
      "Transforming to ICA space (58 components)\n",
      "Zeroing out 2 ICA components\n",
      "[Debug] Channels:  ['Fp1', 'Fz', 'F3', 'F7', 'FC5', 'FC1', 'C3', 'T7', 'CP5', 'CP1', 'Pz', 'P3', 'P7', 'O1', 'Oz', 'O2', 'P4', 'P8', 'CP2', 'Cz', 'C4', 'T8', 'FC6', 'FC2', 'F4', 'Fp2', 'AF7', 'AF3', 'AFz', 'F1', 'F5', 'FT7', 'FC3', 'FCz', 'C1', 'C5', 'TP7', 'CP3', 'P1', 'P5', 'PO7', 'PO3', 'POz', 'PO4', 'PO8', 'P6', 'P2', 'CPz', 'CP4', 'TP8', 'C6', 'C2', 'FC4', 'FT8', 'F6', 'F2', 'AF4', 'AF8'] 58\n",
      "./eeg_enc/test/2509_eeg_rinata_psd_clear.png\n",
      "Clear eeg shape before correction,  (56, 2129300)  Mask length:  56\n",
      "Clear eeg shape after correction,  (58, 2129300)\n",
      "Extracting parameters from ./eeg_enc/test/17_11_bachurina.vhdr...\n",
      "Setting channel info structure...\n",
      "Reading 0 ... 1979549  =      0.000 ...  1979.549 secs...\n",
      "Setting up band-stop filter from 49 - 51 Hz\n"
     ]
    },
    {
     "name": "stderr",
     "output_type": "stream",
     "text": [
      "[Parallel(n_jobs=4)]: Done  10 tasks      | elapsed:    0.7s\n",
      "[Parallel(n_jobs=4)]: Done  60 out of  60 | elapsed:    2.8s finished\n"
     ]
    },
    {
     "name": "stdout",
     "output_type": "stream",
     "text": [
      "Setting up band-pass filter from 1 - 1e+02 Hz\n"
     ]
    },
    {
     "name": "stderr",
     "output_type": "stream",
     "text": [
      "[Parallel(n_jobs=4)]: Done  10 tasks      | elapsed:    0.7s\n",
      "[Parallel(n_jobs=4)]: Done  60 out of  60 | elapsed:    2.8s finished\n"
     ]
    },
    {
     "name": "stdout",
     "output_type": "stream",
     "text": [
      "Fitting ICA to data using 59 channels. \n",
      "Please be patient, this may take some time\n",
      "Inferring max_pca_components from picks.\n",
      "Using all PCA components: 59\n",
      "computing Extended Infomax ICA\n",
      "[Debug] Bad comps [1], good comps [0, 2, 3, 4, 5, 6, 7, 8, 9, 10, 11, 12, 13, 14, 15, 16, 17, 18, 19, 20, 21, 22, 23, 24, 25, 26, 27, 28, 29, 30, 31, 32, 33, 34, 35, 36, 37, 38, 39, 40, 41, 42, 43, 44, 45, 46, 47, 48, 49, 50, 51, 52, 53, 54, 55, 56, 57, 58] \n",
      "Transforming to ICA space (59 components)\n",
      "Zeroing out 1 ICA components\n",
      "[Debug] Channels:  ['Fp1', 'Fz', 'F3', 'F7', 'FC5', 'FC1', 'C3', 'T7', 'CP5', 'CP1', 'Pz', 'P3', 'P7', 'O1', 'Oz', 'O2', 'P4', 'P8', 'CP2', 'Cz', 'C4', 'T8', 'FC6', 'FC2', 'F4', 'Fp2', 'AF7', 'AF3', 'AFz', 'F1', 'F5', 'FT7', 'FC3', 'FCz', 'C1', 'C5', 'TP7', 'CP3', 'P1', 'P5', 'PO7', 'PO3', 'POz', 'PO4', 'PO8', 'P6', 'P2', 'CPz', 'CP4', 'TP8', 'C6', 'C2', 'FC4', 'FT8', 'F6', 'F2', 'AF4', 'AF8'] 58\n",
      "./eeg_enc/test/17_11_bachurina_psd_clear.png\n",
      "Clear eeg shape before correction,  (57, 1979550)  Mask length:  57\n",
      "Clear eeg shape after correction,  (58, 1979550)\n",
      "Extracting parameters from ./eeg_enc/test/3111_post_eeg_popova.vhdr...\n",
      "Setting channel info structure...\n",
      "Reading 0 ... 612499  =      0.000 ...   612.499 secs...\n",
      "Setting up band-stop filter from 49 - 51 Hz\n"
     ]
    },
    {
     "name": "stderr",
     "output_type": "stream",
     "text": [
      "[Parallel(n_jobs=4)]: Done  12 tasks      | elapsed:    0.4s\n",
      "[Parallel(n_jobs=4)]: Done  60 out of  60 | elapsed:    1.0s finished\n"
     ]
    },
    {
     "name": "stdout",
     "output_type": "stream",
     "text": [
      "Setting up band-pass filter from 1 - 1e+02 Hz\n"
     ]
    },
    {
     "name": "stderr",
     "output_type": "stream",
     "text": [
      "[Parallel(n_jobs=4)]: Done  12 tasks      | elapsed:    0.4s\n",
      "[Parallel(n_jobs=4)]: Done  60 out of  60 | elapsed:    1.0s finished\n"
     ]
    },
    {
     "name": "stdout",
     "output_type": "stream",
     "text": [
      "Fitting ICA to data using 60 channels. \n",
      "Please be patient, this may take some time\n",
      "Inferring max_pca_components from picks.\n",
      "Using all PCA components: 60\n",
      "computing Extended Infomax ICA\n",
      "[Debug] Bad comps [8, 0, 14], good comps [1, 2, 3, 4, 5, 6, 7, 9, 10, 11, 12, 13, 15, 16, 17, 18, 19, 20, 21, 22, 23, 24, 25, 26, 27, 28, 29, 30, 31, 32, 33, 34, 35, 36, 37, 38, 39, 40, 41, 42, 43, 44, 45, 46, 47, 48, 49, 50, 51, 52, 53, 54, 55, 56, 57, 58, 59] \n",
      "Transforming to ICA space (60 components)\n",
      "Zeroing out 3 ICA components\n",
      "[Debug] Channels:  ['Fp1', 'Fz', 'F3', 'F7', 'FC5', 'FC1', 'C3', 'T7', 'CP5', 'CP1', 'Pz', 'P3', 'P7', 'O1', 'Oz', 'O2', 'P4', 'P8', 'CP2', 'Cz', 'C4', 'T8', 'FC6', 'FC2', 'F4', 'Fp2', 'AF7', 'AF3', 'AFz', 'F1', 'F5', 'FT7', 'FC3', 'FCz', 'C1', 'C5', 'TP7', 'CP3', 'P1', 'P5', 'PO7', 'PO3', 'POz', 'PO4', 'PO8', 'P6', 'P2', 'CPz', 'CP4', 'TP8', 'C6', 'C2', 'FC4', 'FT8', 'F6', 'F2', 'AF4', 'AF8'] 58\n",
      "./eeg_enc/test/3111_post_eeg_popova_psd_clear.png\n",
      "Clear eeg shape before correction,  (58, 612500)  Mask length:  58\n",
      "Clear eeg shape after correction,  (58, 612500)\n",
      "Extracting parameters from ./eeg_enc/test/3010_post_eeg_suhareva.vhdr...\n",
      "Setting channel info structure...\n",
      "Reading 0 ... 605799  =      0.000 ...   605.799 secs...\n",
      "Setting up band-stop filter from 49 - 51 Hz\n"
     ]
    },
    {
     "name": "stderr",
     "output_type": "stream",
     "text": [
      "[Parallel(n_jobs=4)]: Done  12 tasks      | elapsed:    0.3s\n",
      "[Parallel(n_jobs=4)]: Done  60 out of  60 | elapsed:    1.0s finished\n"
     ]
    },
    {
     "name": "stdout",
     "output_type": "stream",
     "text": [
      "Setting up band-pass filter from 1 - 1e+02 Hz\n"
     ]
    },
    {
     "name": "stderr",
     "output_type": "stream",
     "text": [
      "[Parallel(n_jobs=4)]: Done  12 tasks      | elapsed:    0.4s\n",
      "[Parallel(n_jobs=4)]: Done  60 out of  60 | elapsed:    1.0s finished\n"
     ]
    },
    {
     "name": "stdout",
     "output_type": "stream",
     "text": [
      "Fitting ICA to data using 54 channels. \n",
      "Please be patient, this may take some time\n",
      "Inferring max_pca_components from picks.\n",
      "Using all PCA components: 54\n",
      "computing Extended Infomax ICA\n",
      "[Debug] Bad comps [0, 3, 26], good comps [1, 2, 4, 5, 6, 7, 8, 9, 10, 11, 12, 13, 14, 15, 16, 17, 18, 19, 20, 21, 22, 23, 24, 25, 27, 28, 29, 30, 31, 32, 33, 34, 35, 36, 37, 38, 39, 40, 41, 42, 43, 44, 45, 46, 47, 48, 49, 50, 51, 52, 53] \n",
      "Transforming to ICA space (54 components)\n",
      "Zeroing out 3 ICA components\n",
      "[Debug] Channels:  ['Fp1', 'Fz', 'F3', 'F7', 'FC5', 'FC1', 'C3', 'T7', 'CP5', 'CP1', 'Pz', 'P3', 'P7', 'O1', 'Oz', 'O2', 'P4', 'P8', 'CP2', 'Cz', 'C4', 'T8', 'FC6', 'FC2', 'F4', 'Fp2', 'AF7', 'AF3', 'AFz', 'F1', 'F5', 'FT7', 'FC3', 'FCz', 'C1', 'C5', 'TP7', 'CP3', 'P1', 'P5', 'PO7', 'PO3', 'POz', 'PO4', 'PO8', 'P6', 'P2', 'CPz', 'CP4', 'TP8', 'C6', 'C2', 'FC4', 'FT8', 'F6', 'F2', 'AF4', 'AF8'] 58\n",
      "./eeg_enc/test/3010_post_eeg_suhareva_psd_clear.png\n",
      "Clear eeg shape before correction,  (52, 605800)  Mask length:  52\n",
      "Clear eeg shape after correction,  (58, 605800)\n",
      "Extracting parameters from ./eeg_enc/test/0708_post_eeg_krasovskaya.vhdr...\n",
      "Setting channel info structure...\n",
      "Reading 0 ... 614349  =      0.000 ...   614.349 secs...\n",
      "Setting up band-stop filter from 49 - 51 Hz\n"
     ]
    },
    {
     "name": "stderr",
     "output_type": "stream",
     "text": [
      "[Parallel(n_jobs=4)]: Done  12 tasks      | elapsed:    0.4s\n",
      "[Parallel(n_jobs=4)]: Done  60 out of  60 | elapsed:    1.0s finished\n"
     ]
    },
    {
     "name": "stdout",
     "output_type": "stream",
     "text": [
      "Setting up band-pass filter from 1 - 1e+02 Hz\n"
     ]
    },
    {
     "name": "stderr",
     "output_type": "stream",
     "text": [
      "[Parallel(n_jobs=4)]: Done  12 tasks      | elapsed:    0.4s\n",
      "[Parallel(n_jobs=4)]: Done  60 out of  60 | elapsed:    1.0s finished\n"
     ]
    },
    {
     "name": "stdout",
     "output_type": "stream",
     "text": [
      "Fitting ICA to data using 56 channels. \n",
      "Please be patient, this may take some time\n",
      "Inferring max_pca_components from picks.\n",
      "Using all PCA components: 56\n",
      "computing Extended Infomax ICA\n"
     ]
    }
   ],
   "source": [
    "#Test\n",
    "main_path = './eeg_enc/test'\n",
    "vhdrs = [join(main_path, f) for f in listdir(main_path) if isfile(join(main_path, f)) and '.vhdr' in f]\n",
    "main_loop(vhdrs,bad_dict_test) "
   ]
  },
  {
   "cell_type": "code",
   "execution_count": null,
   "metadata": {
    "collapsed": true
   },
   "outputs": [],
   "source": []
  }
 ],
 "metadata": {
  "kernelspec": {
   "display_name": "Python 3",
   "language": "python",
   "name": "python3"
  },
  "language_info": {
   "codemirror_mode": {
    "name": "ipython",
    "version": 3
   },
   "file_extension": ".py",
   "mimetype": "text/x-python",
   "name": "python",
   "nbconvert_exporter": "python",
   "pygments_lexer": "ipython3",
   "version": "3.6.3"
  }
 },
 "nbformat": 4,
 "nbformat_minor": 2
}
