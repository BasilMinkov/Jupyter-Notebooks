{
 "cells": [
  {
   "cell_type": "code",
   "execution_count": 16,
   "metadata": {},
   "outputs": [
    {
     "name": "stderr",
     "output_type": "stream",
     "text": [
      "Loading required package: BiocManager\n",
      "\n",
      "Bioconductor version 3.9 (BiocManager 1.30.4), R 3.6.1 (2019-07-05)\n",
      "\n",
      "Installing package(s) 'Biobase'\n",
      "\n"
     ]
    },
    {
     "name": "stdout",
     "output_type": "stream",
     "text": [
      "\n",
      "The downloaded binary packages are in\n",
      "\t/var/folders/h1/2bkdwmrd48qgjd_d9s_wzys40000gn/T//RtmpJu9Ndw/downloaded_packages\n"
     ]
    },
    {
     "name": "stderr",
     "output_type": "stream",
     "text": [
      "Update old packages: 'BiocManager', 'HDF5Array', 'KernSmooth', 'Rhdf5lib',\n",
      "  'covr', 'htmlwidgets', 'pkgbuild', 'purrr', 'rhdf5', 'shiny'\n",
      "\n"
     ]
    }
   ],
   "source": [
    "if (!require(\"BiocManager\"))\n",
    "    install.packages(\"BiocManager\")\n",
    "BiocManager::install(\"Biobase\")"
   ]
  },
  {
   "cell_type": "code",
   "execution_count": 17,
   "metadata": {},
   "outputs": [
    {
     "name": "stderr",
     "output_type": "stream",
     "text": [
      "Loading required package: BiocGenerics\n",
      "\n",
      "Loading required package: parallel\n",
      "\n",
      "\n",
      "Attaching package: ‘BiocGenerics’\n",
      "\n",
      "\n",
      "The following objects are masked from ‘package:parallel’:\n",
      "\n",
      "    clusterApply, clusterApplyLB, clusterCall, clusterEvalQ,\n",
      "    clusterExport, clusterMap, parApply, parCapply, parLapply,\n",
      "    parLapplyLB, parRapply, parSapply, parSapplyLB\n",
      "\n",
      "\n",
      "The following objects are masked from ‘package:stats’:\n",
      "\n",
      "    IQR, mad, sd, var, xtabs\n",
      "\n",
      "\n",
      "The following objects are masked from ‘package:base’:\n",
      "\n",
      "    Filter, Find, Map, Position, Reduce, anyDuplicated, append,\n",
      "    as.data.frame, basename, cbind, colnames, dirname, do.call,\n",
      "    duplicated, eval, evalq, get, grep, grepl, intersect, is.unsorted,\n",
      "    lapply, mapply, match, mget, order, paste, pmax, pmax.int, pmin,\n",
      "    pmin.int, rank, rbind, rownames, sapply, setdiff, sort, table,\n",
      "    tapply, union, unique, unsplit, which, which.max, which.min\n",
      "\n",
      "\n",
      "Welcome to Bioconductor\n",
      "\n",
      "    Vignettes contain introductory material; view with\n",
      "    'browseVignettes()'. To cite Bioconductor, see\n",
      "    'citation(\"Biobase\")', and for packages 'citation(\"pkgname\")'.\n",
      "\n",
      "\n"
     ]
    }
   ],
   "source": [
    "library(\"Biobase\")"
   ]
  },
  {
   "cell_type": "code",
   "execution_count": 18,
   "metadata": {},
   "outputs": [
    {
     "name": "stderr",
     "output_type": "stream",
     "text": [
      "Warning message in (function (file, header = FALSE, sep = \"\", quote = \"\\\"'\", dec = \".\", :\n",
      "“line 3 appears to contain embedded nulls”\n",
      "Warning message in (function (file, header = FALSE, sep = \"\", quote = \"\\\"'\", dec = \".\", :\n",
      "“line 4 appears to contain embedded nulls”\n",
      "Warning message in (function (file, header = FALSE, sep = \"\", quote = \"\\\"'\", dec = \".\", :\n",
      "“line 5 appears to contain embedded nulls”\n",
      "Warning message in scan(file = file, what = what, sep = sep, quote = quote, dec = dec, :\n",
      "“внутренний nul(s) найден во вводе”\n"
     ]
    },
    {
     "ename": "ERROR",
     "evalue": "Error in (function (file, header = FALSE, sep = \"\", quote = \"\\\"'\", dec = \".\", : duplicate 'row.names' are not allowed\n",
     "output_type": "error",
     "traceback": [
      "Error in (function (file, header = FALSE, sep = \"\", quote = \"\\\"'\", dec = \".\", : duplicate 'row.names' are not allowed\nTraceback:\n",
      "1. readExpressionSet(\"GSE23878_norm.dat\")",
      "2. as.matrix(do.call(read.table, exprsArgs))",
      "3. do.call(read.table, exprsArgs)",
      "4. (function (file, header = FALSE, sep = \"\", quote = \"\\\"'\", dec = \".\", \n .     numerals = c(\"allow.loss\", \"warn.loss\", \"no.loss\"), row.names, \n .     col.names, as.is = !stringsAsFactors, na.strings = \"NA\", \n .     colClasses = NA, nrows = -1, skip = 0, check.names = TRUE, \n .     fill = !blank.lines.skip, strip.white = FALSE, blank.lines.skip = TRUE, \n .     comment.char = \"#\", allowEscapes = FALSE, flush = FALSE, \n .     stringsAsFactors = default.stringsAsFactors(), fileEncoding = \"\", \n .     encoding = \"unknown\", text, skipNul = FALSE) \n . {\n .     if (missing(file) && !missing(text)) {\n .         file <- textConnection(text, encoding = \"UTF-8\")\n .         encoding <- \"UTF-8\"\n .         on.exit(close(file))\n .     }\n .     if (is.character(file)) {\n .         file <- if (nzchar(fileEncoding)) \n .             file(file, \"rt\", encoding = fileEncoding)\n .         else file(file, \"rt\")\n .         on.exit(close(file))\n .     }\n .     if (!inherits(file, \"connection\")) \n .         stop(\"'file' must be a character string or connection\")\n .     if (!isOpen(file, \"rt\")) {\n .         open(file, \"rt\")\n .         on.exit(close(file))\n .     }\n .     pbEncoding <- if (encoding %in% c(\"\", \"bytes\", \"UTF-8\")) \n .         encoding\n .     else \"bytes\"\n .     numerals <- match.arg(numerals)\n .     if (skip > 0L) \n .         readLines(file, skip)\n .     nlines <- n0lines <- if (nrows < 0L) \n .         5\n .     else min(5L, (header + nrows))\n .     lines <- .External(C_readtablehead, file, nlines, comment.char, \n .         blank.lines.skip, quote, sep, skipNul)\n .     if (encoding %in% c(\"UTF-8\", \"latin1\")) \n .         Encoding(lines) <- encoding\n .     nlines <- length(lines)\n .     if (!nlines) {\n .         if (missing(col.names)) \n .             stop(\"no lines available in input\")\n .         rlabp <- FALSE\n .         cols <- length(col.names)\n .     }\n .     else {\n .         if (all(!nzchar(lines))) \n .             stop(\"empty beginning of file\")\n .         if (nlines < n0lines && file == 0L) {\n .             pushBack(c(lines, lines, \"\"), file, encoding = pbEncoding)\n .             on.exit((clearPushBack(stdin())))\n .         }\n .         else pushBack(c(lines, lines), file, encoding = pbEncoding)\n .         first <- scan(file, what = \"\", sep = sep, quote = quote, \n .             nlines = 1, quiet = TRUE, skip = 0, strip.white = TRUE, \n .             blank.lines.skip = blank.lines.skip, comment.char = comment.char, \n .             allowEscapes = allowEscapes, encoding = encoding, \n .             skipNul = skipNul)\n .         col1 <- if (missing(col.names)) \n .             length(first)\n .         else length(col.names)\n .         col <- numeric(nlines - 1L)\n .         if (nlines > 1L) \n .             for (i in seq_along(col)) col[i] <- length(scan(file, \n .                 what = \"\", sep = sep, quote = quote, nlines = 1, \n .                 quiet = TRUE, skip = 0, strip.white = strip.white, \n .                 blank.lines.skip = blank.lines.skip, comment.char = comment.char, \n .                 allowEscapes = allowEscapes, encoding = encoding, \n .                 skipNul = skipNul))\n .         cols <- max(col1, col)\n .         rlabp <- (cols - col1) == 1L\n .         if (rlabp && missing(header)) \n .             header <- TRUE\n .         if (!header) \n .             rlabp <- FALSE\n .         if (header) {\n .             .External(C_readtablehead, file, 1L, comment.char, \n .                 blank.lines.skip, quote, sep, skipNul)\n .             if (missing(col.names)) \n .                 col.names <- first\n .             else if (length(first) != length(col.names)) \n .                 warning(\"header and 'col.names' are of different lengths\")\n .         }\n .         else if (missing(col.names)) \n .             col.names <- paste0(\"V\", 1L:cols)\n .         if (length(col.names) + rlabp < cols) \n .             stop(\"more columns than column names\")\n .         if (fill && length(col.names) > cols) \n .             cols <- length(col.names)\n .         if (!fill && cols > 0L && length(col.names) > cols) \n .             stop(\"more column names than columns\")\n .         if (cols == 0L) \n .             stop(\"first five rows are empty: giving up\")\n .     }\n .     if (check.names) \n .         col.names <- make.names(col.names, unique = TRUE)\n .     if (rlabp) \n .         col.names <- c(\"row.names\", col.names)\n .     nmColClasses <- names(colClasses)\n .     if (is.null(nmColClasses)) {\n .         if (length(colClasses) < cols) \n .             colClasses <- rep_len(colClasses, cols)\n .     }\n .     else {\n .         tmp <- rep_len(NA_character_, cols)\n .         names(tmp) <- col.names\n .         i <- match(nmColClasses, col.names, 0L)\n .         if (any(i <= 0L)) \n .             warning(\"not all columns named in 'colClasses' exist\")\n .         tmp[i[i > 0L]] <- colClasses[i > 0L]\n .         colClasses <- tmp\n .     }\n .     what <- rep.int(list(\"\"), cols)\n .     names(what) <- col.names\n .     colClasses[colClasses %in% c(\"real\", \"double\")] <- \"numeric\"\n .     known <- colClasses %in% c(\"logical\", \"integer\", \"numeric\", \n .         \"complex\", \"character\", \"raw\")\n .     what[known] <- sapply(colClasses[known], do.call, list(0))\n .     what[colClasses %in% \"NULL\"] <- list(NULL)\n .     keep <- !sapply(what, is.null)\n .     data <- scan(file = file, what = what, sep = sep, quote = quote, \n .         dec = dec, nmax = nrows, skip = 0, na.strings = na.strings, \n .         quiet = TRUE, fill = fill, strip.white = strip.white, \n .         blank.lines.skip = blank.lines.skip, multi.line = FALSE, \n .         comment.char = comment.char, allowEscapes = allowEscapes, \n .         flush = flush, encoding = encoding, skipNul = skipNul)\n .     nlines <- length(data[[which.max(keep)]])\n .     if (cols != length(data)) {\n .         warning(\"cols = \", cols, \" != length(data) = \", length(data), \n .             domain = NA)\n .         cols <- length(data)\n .     }\n .     if (is.logical(as.is)) {\n .         as.is <- rep_len(as.is, cols)\n .     }\n .     else if (is.numeric(as.is)) {\n .         if (any(as.is < 1 | as.is > cols)) \n .             stop(\"invalid numeric 'as.is' expression\")\n .         i <- rep.int(FALSE, cols)\n .         i[as.is] <- TRUE\n .         as.is <- i\n .     }\n .     else if (is.character(as.is)) {\n .         i <- match(as.is, col.names, 0L)\n .         if (any(i <= 0L)) \n .             warning(\"not all columns named in 'as.is' exist\")\n .         i <- i[i > 0L]\n .         as.is <- rep.int(FALSE, cols)\n .         as.is[i] <- TRUE\n .     }\n .     else if (length(as.is) != cols) \n .         stop(gettextf(\"'as.is' has the wrong length %d  != cols = %d\", \n .             length(as.is), cols), domain = NA)\n .     do <- keep & !known\n .     if (rlabp) \n .         do[1L] <- FALSE\n .     for (i in (1L:cols)[do]) {\n .         data[[i]] <- if (is.na(colClasses[i])) \n .             type.convert(data[[i]], as.is = as.is[i], dec = dec, \n .                 numerals = numerals, na.strings = character(0L))\n .         else if (colClasses[i] == \"factor\") \n .             as.factor(data[[i]])\n .         else if (colClasses[i] == \"Date\") \n .             as.Date(data[[i]])\n .         else if (colClasses[i] == \"POSIXct\") \n .             as.POSIXct(data[[i]])\n .         else methods::as(data[[i]], colClasses[i])\n .     }\n .     compactRN <- TRUE\n .     if (missing(row.names)) {\n .         if (rlabp) {\n .             row.names <- data[[1L]]\n .             data <- data[-1L]\n .             keep <- keep[-1L]\n .             compactRN <- FALSE\n .         }\n .         else row.names <- .set_row_names(as.integer(nlines))\n .     }\n .     else if (is.null(row.names)) {\n .         row.names <- .set_row_names(as.integer(nlines))\n .     }\n .     else if (is.character(row.names)) {\n .         compactRN <- FALSE\n .         if (length(row.names) == 1L) {\n .             rowvar <- (1L:cols)[match(col.names, row.names, 0L) == \n .                 1L]\n .             row.names <- data[[rowvar]]\n .             data <- data[-rowvar]\n .             keep <- keep[-rowvar]\n .         }\n .     }\n .     else if (is.numeric(row.names) && length(row.names) == 1L) {\n .         compactRN <- FALSE\n .         rlabp <- row.names\n .         row.names <- data[[rlabp]]\n .         data <- data[-rlabp]\n .         keep <- keep[-rlabp]\n .     }\n .     else stop(\"invalid 'row.names' specification\")\n .     data <- data[keep]\n .     if (is.object(row.names) || !(is.integer(row.names))) \n .         row.names <- as.character(row.names)\n .     if (!compactRN) {\n .         if (length(row.names) != nlines) \n .             stop(\"invalid 'row.names' length\")\n .         if (anyDuplicated(row.names)) \n .             stop(\"duplicate 'row.names' are not allowed\")\n .         if (anyNA(row.names)) \n .             stop(\"missing values in 'row.names' are not allowed\")\n .     }\n .     class(data) <- \"data.frame\"\n .     attr(data, \"row.names\") <- row.names\n .     data\n . })(sep = \"\\t\", header = TRUE, row.names = 1L, quote = \"\", file = \"GSE23878_norm.dat\")",
      "5. stop(\"duplicate 'row.names' are not allowed\")"
     ]
    }
   ],
   "source": [
    "df <- readExpressionSet(\"GSE23878_norm.dat\")"
   ]
  }
 ],
 "metadata": {
  "kernelspec": {
   "display_name": "R",
   "language": "R",
   "name": "ir"
  },
  "language_info": {
   "codemirror_mode": "r",
   "file_extension": ".r",
   "mimetype": "text/x-r-source",
   "name": "R",
   "pygments_lexer": "r",
   "version": "3.6.1"
  }
 },
 "nbformat": 4,
 "nbformat_minor": 2
}
