{
 "cells": [
  {
   "cell_type": "code",
   "execution_count": 3,
   "metadata": {
    "collapsed": true
   },
   "outputs": [],
   "source": [
    "import mne\n",
    "import re\n",
    "import numpy as np\n",
    "import h5py\n",
    "import matplotlib\n",
    "import warnings\n",
    "import sys\n",
    "import seaborn\n",
    "\n",
    "%matplotlib inline\n",
    "warnings.filterwarnings(\"ignore\")  # Ignor warnings\n",
    "sys.path.insert(0, '/Users/basilminkov/Scripts/python3/Neuroimaging/nfblab_data/')\n",
    "from nfblab_data import NFBLabData \n",
    "\n",
    "import matplotlib.pyplot as plt\n",
    "from scipy.signal import firwin, filtfilt, hilbert\n",
    "\n",
    "fig_size = [8, 6]  # Set figure size\n",
    "plt.rcParams[\"figure.figsize\"] = fig_size"
   ]
  },
  {
   "cell_type": "code",
   "execution_count": 5,
   "metadata": {},
   "outputs": [
    {
     "name": "stdout",
     "output_type": "stream",
     "text": [
      "Empty reference list!\n",
      "Protocols: ['GroupReal', 'Rest', 'GroupMock', 'Rest', 'GroupReal', 'Rest', 'GroupMock']\n",
      "Useful Protocols: [['GroupReal', 1, 1], ['GroupMock', 3, 0], ['GroupReal', 5, 1], ['GroupMock', 7, 0]]\n",
      "Channels: ['Fp1', 'Fp2', 'F7', 'F3', 'Fz', 'F4', 'F8', 'Ft9', 'Fc5', 'Fc1', 'Fc2', 'Fc6', 'Ft10', 'T3', 'C3', 'Cz', 'C4', 'T4', 'Tp9', 'Cp5', 'Cp1', 'Cp2', 'Cp6', 'Tp10', 'P7', 'P3', 'Pz', 'P4', 'P8', 'O1', 'Oz', 'O2']\n",
      "References: []\n",
      "Channels Locations: [[  8.07840138e+01   2.61330144e+01  -4.00108454e+00]\n",
      " [  8.07840138e+01  -2.61330144e+01  -4.00108454e+00]\n",
      " [  4.98713779e+01   6.84233350e+01  -7.48951836e+00]\n",
      " [  5.75510634e+01   4.82004273e+01   3.98697117e+01]\n",
      " [  6.07384809e+01  -0.00000000e+00   5.94629038e+01]\n",
      " [  5.75840261e+01  -4.81425965e+01   3.98919834e+01]\n",
      " [  4.99265268e+01  -6.83835903e+01  -7.48508507e+00]\n",
      " [  2.33016072e+01   7.00757987e+01  -4.20882114e+01]\n",
      " [  2.87628234e+01   7.62473645e+01   2.41669070e+01]\n",
      " [  3.24361839e+01   3.23513771e+01   7.15980612e+01]\n",
      " [  3.24361839e+01  -3.23513771e+01   7.15980612e+01]\n",
      " [  2.87628234e+01  -7.62473645e+01   2.41669070e+01]\n",
      " [  2.33016072e+01  -7.00757987e+01  -4.20882114e+01]\n",
      " [  8.07840138e+01   2.61330144e+01  -4.00108454e+00]\n",
      " [  3.86812534e-15   6.31712807e+01   5.68716915e+01]\n",
      " [  5.20474890e-15  -0.00000000e+00   8.50000000e+01]\n",
      " [  3.86788221e-15  -6.31673102e+01   5.68761015e+01]\n",
      " [  8.07840138e+01   2.61330144e+01  -4.00108454e+00]\n",
      " [ -2.33016072e+01   7.00757987e+01  -4.20882114e+01]\n",
      " [ -2.87628234e+01   7.62473645e+01   2.41669070e+01]\n",
      " [ -3.24361839e+01   3.23513771e+01   7.15980612e+01]\n",
      " [ -3.24361839e+01  -3.23513771e+01   7.15980612e+01]\n",
      " [ -2.87628234e+01  -7.62473645e+01   2.41669070e+01]\n",
      " [ -2.33016072e+01  -7.00757987e+01  -4.20882114e+01]\n",
      " [ -4.98713779e+01   6.84233350e+01  -7.48951836e+00]\n",
      " [ -5.75510634e+01   4.82004273e+01   3.98697117e+01]\n",
      " [ -6.07384809e+01  -7.43831863e-15   5.94629038e+01]\n",
      " [ -5.75840261e+01  -4.81425965e+01   3.98919834e+01]\n",
      " [ -4.99265268e+01  -6.83835903e+01  -7.48508507e+00]\n",
      " [ -8.07840138e+01   2.61330144e+01  -4.00108454e+00]\n",
      " [ -8.49812336e+01  -1.04071996e-14  -1.78603850e+00]\n",
      " [ -8.07840138e+01  -2.61330144e+01  -4.00108454e+00]]\n",
      "Channels Count: 32\n",
      "Sampling Rate: 500\n",
      "\n"
     ]
    }
   ],
   "source": [
    "channels_path = \"/Users/basilminkov/Scripts/python3/Neuroimaging/stat/chanlocs_mod.mat\"\n",
    "data_path = \"/Users/basilminkov/Neuroscience/Data/Test/20.02.17/Alpha1_02-20_17-52-50\"\n",
    "data_dirty = NFBLabData(\n",
    "            path=data_path, \n",
    "            channels_path=channels_path, \n",
    "            template_of_useful_protocols=[[re.compile(\"Real\"), 1], [re.compile(\"Mock\"), 0]],\n",
    "            load=False\n",
    ")"
   ]
  },
  {
   "cell_type": "code",
   "execution_count": null,
   "metadata": {
    "collapsed": true
   },
   "outputs": [],
   "source": []
  }
 ],
 "metadata": {
  "kernelspec": {
   "display_name": "Python 3",
   "language": "python",
   "name": "python3"
  },
  "language_info": {
   "codemirror_mode": {
    "name": "ipython",
    "version": 3
   },
   "file_extension": ".py",
   "mimetype": "text/x-python",
   "name": "python",
   "nbconvert_exporter": "python",
   "pygments_lexer": "ipython3",
   "version": "3.6.3"
  }
 },
 "nbformat": 4,
 "nbformat_minor": 2
}
