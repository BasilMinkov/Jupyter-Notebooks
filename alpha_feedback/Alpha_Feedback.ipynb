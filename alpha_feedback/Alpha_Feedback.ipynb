{
 "cells": [
  {
   "cell_type": "code",
   "execution_count": 16,
   "metadata": {},
   "outputs": [],
   "source": [
    "import mne\n",
    "import numpy as np\n",
    "import h5py\n",
    "import matplotlib\n",
    "import warnings\n",
    "import sys\n",
    "\n",
    "%matplotlib inline\n",
    "warnings.filterwarnings(\"ignore\")  # Ignor warnings\n",
    "sys.path.insert(0, '/Users/basilminkov/Scripts/python3/Neuroimaging/nfblab_data/')\n",
    "from nfblab_data import NFBLabData \n",
    "\n",
    "import matplotlib.pyplot as plt\n",
    "from scipy.signal import firwin, filtfilt\n",
    "\n",
    "fig_size = [8, 6]  # Set figure size\n",
    "plt.rcParams[\"figure.figsize\"] = fig_size"
   ]
  },
  {
   "cell_type": "code",
   "execution_count": 18,
   "metadata": {},
   "outputs": [
    {
     "name": "stdout",
     "output_type": "stream",
     "text": [
      "Empty reference list!\n",
      "Protocols: ['Baseline', 'Baseline', 'Baseline', 'Baseline', 'Baseline', 'Baseline', 'Baseline', 'Baseline', 'Baseline', 'Baseline']\n",
      "Useful Protocols: []\n",
      "Channels: ['Fp1', 'Fp2', 'F7', 'F3', 'Fz', 'F4', 'F8', 'Ft9', 'Fc5', 'Fc1', 'Fc2', 'Fc6', 'Ft10', 'T3', 'C3', 'Cz', 'C4', 'T4', 'Tp9', 'Cp5', 'Cp1', 'Cp2', 'Cp6', 'Tp10', 'P7', 'P3', 'Pz', 'P4', 'P8', 'O1', 'Oz', 'O2']\n",
      "References: []\n",
      "Channels Locations: [[  8.07840138e+01   2.61330144e+01  -4.00108454e+00]\n",
      " [  8.07840138e+01  -2.61330144e+01  -4.00108454e+00]\n",
      " [  4.98713779e+01   6.84233350e+01  -7.48951836e+00]\n",
      " [  5.75510634e+01   4.82004273e+01   3.98697117e+01]\n",
      " [  6.07384809e+01  -0.00000000e+00   5.94629038e+01]\n",
      " [  5.75840261e+01  -4.81425965e+01   3.98919834e+01]\n",
      " [  4.99265268e+01  -6.83835903e+01  -7.48508507e+00]\n",
      " [  2.33016072e+01   7.00757987e+01  -4.20882114e+01]\n",
      " [  2.87628234e+01   7.62473645e+01   2.41669070e+01]\n",
      " [  3.24361839e+01   3.23513771e+01   7.15980612e+01]\n",
      " [  3.24361839e+01  -3.23513771e+01   7.15980612e+01]\n",
      " [  2.87628234e+01  -7.62473645e+01   2.41669070e+01]\n",
      " [  2.33016072e+01  -7.00757987e+01  -4.20882114e+01]\n",
      " [  8.07840138e+01   2.61330144e+01  -4.00108454e+00]\n",
      " [  3.86812534e-15   6.31712807e+01   5.68716915e+01]\n",
      " [  5.20474890e-15  -0.00000000e+00   8.50000000e+01]\n",
      " [  3.86788221e-15  -6.31673102e+01   5.68761015e+01]\n",
      " [  8.07840138e+01   2.61330144e+01  -4.00108454e+00]\n",
      " [ -2.33016072e+01   7.00757987e+01  -4.20882114e+01]\n",
      " [ -2.87628234e+01   7.62473645e+01   2.41669070e+01]\n",
      " [ -3.24361839e+01   3.23513771e+01   7.15980612e+01]\n",
      " [ -3.24361839e+01  -3.23513771e+01   7.15980612e+01]\n",
      " [ -2.87628234e+01  -7.62473645e+01   2.41669070e+01]\n",
      " [ -2.33016072e+01  -7.00757987e+01  -4.20882114e+01]\n",
      " [ -4.98713779e+01   6.84233350e+01  -7.48951836e+00]\n",
      " [ -5.75510634e+01   4.82004273e+01   3.98697117e+01]\n",
      " [ -6.07384809e+01  -7.43831863e-15   5.94629038e+01]\n",
      " [ -5.75840261e+01  -4.81425965e+01   3.98919834e+01]\n",
      " [ -4.99265268e+01  -6.83835903e+01  -7.48508507e+00]\n",
      " [ -8.07840138e+01   2.61330144e+01  -4.00108454e+00]\n",
      " [ -8.49812336e+01  -1.04071996e-14  -1.78603850e+00]\n",
      " [ -8.07840138e+01  -2.61330144e+01  -4.00108454e+00]]\n",
      "Channels Count: 32\n",
      "Sampling Rate: 500\n",
      "\n",
      "Empty reference list!\n",
      "Protocols: ['Baseline', 'Baseline', 'Baseline', 'Baseline', 'Baseline', 'Baseline', 'Baseline', 'Baseline', 'Baseline', 'Baseline']\n",
      "Useful Protocols: []\n",
      "Channels: ['Fp1', 'Fp2', 'F7', 'F3', 'Fz', 'F4', 'F8', 'Ft9', 'Fc5', 'Fc1', 'Fc2', 'Fc6', 'Ft10', 'T3', 'C3', 'Cz', 'C4', 'T4', 'Tp9', 'Cp5', 'Cp1', 'Cp2', 'Cp6', 'Tp10', 'P7', 'P3', 'Pz', 'P4', 'P8', 'O1', 'Oz', 'O2']\n",
      "References: []\n",
      "Channels Locations: [[  8.07840138e+01   2.61330144e+01  -4.00108454e+00]\n",
      " [  8.07840138e+01  -2.61330144e+01  -4.00108454e+00]\n",
      " [  4.98713779e+01   6.84233350e+01  -7.48951836e+00]\n",
      " [  5.75510634e+01   4.82004273e+01   3.98697117e+01]\n",
      " [  6.07384809e+01  -0.00000000e+00   5.94629038e+01]\n",
      " [  5.75840261e+01  -4.81425965e+01   3.98919834e+01]\n",
      " [  4.99265268e+01  -6.83835903e+01  -7.48508507e+00]\n",
      " [  2.33016072e+01   7.00757987e+01  -4.20882114e+01]\n",
      " [  2.87628234e+01   7.62473645e+01   2.41669070e+01]\n",
      " [  3.24361839e+01   3.23513771e+01   7.15980612e+01]\n",
      " [  3.24361839e+01  -3.23513771e+01   7.15980612e+01]\n",
      " [  2.87628234e+01  -7.62473645e+01   2.41669070e+01]\n",
      " [  2.33016072e+01  -7.00757987e+01  -4.20882114e+01]\n",
      " [  8.07840138e+01   2.61330144e+01  -4.00108454e+00]\n",
      " [  3.86812534e-15   6.31712807e+01   5.68716915e+01]\n",
      " [  5.20474890e-15  -0.00000000e+00   8.50000000e+01]\n",
      " [  3.86788221e-15  -6.31673102e+01   5.68761015e+01]\n",
      " [  8.07840138e+01   2.61330144e+01  -4.00108454e+00]\n",
      " [ -2.33016072e+01   7.00757987e+01  -4.20882114e+01]\n",
      " [ -2.87628234e+01   7.62473645e+01   2.41669070e+01]\n",
      " [ -3.24361839e+01   3.23513771e+01   7.15980612e+01]\n",
      " [ -3.24361839e+01  -3.23513771e+01   7.15980612e+01]\n",
      " [ -2.87628234e+01  -7.62473645e+01   2.41669070e+01]\n",
      " [ -2.33016072e+01  -7.00757987e+01  -4.20882114e+01]\n",
      " [ -4.98713779e+01   6.84233350e+01  -7.48951836e+00]\n",
      " [ -5.75510634e+01   4.82004273e+01   3.98697117e+01]\n",
      " [ -6.07384809e+01  -7.43831863e-15   5.94629038e+01]\n",
      " [ -5.75840261e+01  -4.81425965e+01   3.98919834e+01]\n",
      " [ -4.99265268e+01  -6.83835903e+01  -7.48508507e+00]\n",
      " [ -8.07840138e+01   2.61330144e+01  -4.00108454e+00]\n",
      " [ -8.49812336e+01  -1.04071996e-14  -1.78603850e+00]\n",
      " [ -8.07840138e+01  -2.61330144e+01  -4.00108454e+00]]\n",
      "Channels Count: 32\n",
      "Sampling Rate: 500\n",
      "\n",
      "Empty reference list!\n",
      "Protocols: ['Baseline', 'Baseline', 'Baseline', 'Baseline', 'Baseline', 'Baseline', 'Baseline', 'Baseline', 'Baseline', 'Baseline']\n",
      "Useful Protocols: []\n",
      "Channels: ['Fp1', 'Fp2', 'F7', 'F3', 'Fz', 'F4', 'F8', 'Ft9', 'Fc5', 'Fc1', 'Fc2', 'Fc6', 'Ft10', 'T3', 'C3', 'Cz', 'C4', 'T4', 'Tp9', 'Cp5', 'Cp1', 'Cp2', 'Cp6', 'Tp10', 'P7', 'P3', 'Pz', 'P4', 'P8', 'O1', 'Oz', 'O2']\n",
      "References: []\n",
      "Channels Locations: [[  8.07840138e+01   2.61330144e+01  -4.00108454e+00]\n",
      " [  8.07840138e+01  -2.61330144e+01  -4.00108454e+00]\n",
      " [  4.98713779e+01   6.84233350e+01  -7.48951836e+00]\n",
      " [  5.75510634e+01   4.82004273e+01   3.98697117e+01]\n",
      " [  6.07384809e+01  -0.00000000e+00   5.94629038e+01]\n",
      " [  5.75840261e+01  -4.81425965e+01   3.98919834e+01]\n",
      " [  4.99265268e+01  -6.83835903e+01  -7.48508507e+00]\n",
      " [  2.33016072e+01   7.00757987e+01  -4.20882114e+01]\n",
      " [  2.87628234e+01   7.62473645e+01   2.41669070e+01]\n",
      " [  3.24361839e+01   3.23513771e+01   7.15980612e+01]\n",
      " [  3.24361839e+01  -3.23513771e+01   7.15980612e+01]\n",
      " [  2.87628234e+01  -7.62473645e+01   2.41669070e+01]\n",
      " [  2.33016072e+01  -7.00757987e+01  -4.20882114e+01]\n",
      " [  8.07840138e+01   2.61330144e+01  -4.00108454e+00]\n",
      " [  3.86812534e-15   6.31712807e+01   5.68716915e+01]\n",
      " [  5.20474890e-15  -0.00000000e+00   8.50000000e+01]\n",
      " [  3.86788221e-15  -6.31673102e+01   5.68761015e+01]\n",
      " [  8.07840138e+01   2.61330144e+01  -4.00108454e+00]\n",
      " [ -2.33016072e+01   7.00757987e+01  -4.20882114e+01]\n",
      " [ -2.87628234e+01   7.62473645e+01   2.41669070e+01]\n",
      " [ -3.24361839e+01   3.23513771e+01   7.15980612e+01]\n",
      " [ -3.24361839e+01  -3.23513771e+01   7.15980612e+01]\n",
      " [ -2.87628234e+01  -7.62473645e+01   2.41669070e+01]\n",
      " [ -2.33016072e+01  -7.00757987e+01  -4.20882114e+01]\n",
      " [ -4.98713779e+01   6.84233350e+01  -7.48951836e+00]\n",
      " [ -5.75510634e+01   4.82004273e+01   3.98697117e+01]\n",
      " [ -6.07384809e+01  -7.43831863e-15   5.94629038e+01]\n",
      " [ -5.75840261e+01  -4.81425965e+01   3.98919834e+01]\n",
      " [ -4.99265268e+01  -6.83835903e+01  -7.48508507e+00]\n",
      " [ -8.07840138e+01   2.61330144e+01  -4.00108454e+00]\n",
      " [ -8.49812336e+01  -1.04071996e-14  -1.78603850e+00]\n",
      " [ -8.07840138e+01  -2.61330144e+01  -4.00108454e+00]]\n",
      "Channels Count: 32\n",
      "Sampling Rate: 500\n",
      "\n"
     ]
    }
   ],
   "source": [
    "channels_path = \"/Users/basilminkov/Scripts/python3/Neuroimaging/stat/chanlocs_mod.mat\"\n",
    "data_path = [\n",
    "    \"/Users/basilminkov/Neuroscience/Data/Test/19.02.17/dasha_1_02-19_21-00-01/\",\n",
    "    \"/Users/basilminkov/Neuroscience/Data/Test/19.02.17/dasha_1_control_02-19_21-22-31/\",\n",
    "    \"/Users/basilminkov/Neuroscience/Data/Test/19.02.17/dasha_2_02-19_21-33-49/\",\n",
    "            ]\n",
    "data_list = [NFBLabData(data_path[i], channels_path) for i in range(len(data_path))]"
   ]
  },
  {
   "cell_type": "code",
   "execution_count": 21,
   "metadata": {},
   "outputs": [
    {
     "data": {
      "text/plain": [
       "array([  7.81249980e-07,   4.54101564e-06,   5.95703114e-06, ...,\n",
       "        -4.39453117e-07,  -2.92968735e-07,  -2.53906251e-06])"
      ]
     },
     "execution_count": 21,
     "metadata": {},
     "output_type": "execute_result"
    }
   ],
   "source": [
    "data_list[0].data_set[:, 28] # P4 electrode data"
   ]
  },
  {
   "cell_type": "code",
   "execution_count": 22,
   "metadata": {},
   "outputs": [],
   "source": [
    "srate = 500\n",
    "order = 400\n",
    "band = np.array([7, 14])\n",
    "b = firwin(order, band*2/srate, width=None, window='hamming', pass_zero=False)\n",
    "a = 1\n",
    "\n",
    "for i in range(len(data_list)):\n",
    "    data_list[i] = filtfilt(b, a, data_list[i].data_set[:,28])"
   ]
  },
  {
   "cell_type": "code",
   "execution_count": 45,
   "metadata": {
    "scrolled": false
   },
   "outputs": [
    {
     "data": {
      "image/png": "[encoded data removed]",
      "text/plain": [
       "<matplotlib.figure.Figure at 0x1c15787940>"
      ]
     },
     "metadata": {},
     "output_type": "display_data"
    }
   ],
   "source": [
    "n_int = 10  # calculate power each minute \n",
    "plt.plot(np.arange(n_int*0, n_int), list(map(np.std, np.array_split(data_list[0], n_int))), label=\"Real FB 1\")\n",
    "plt.plot(np.arange(n_int, n_int*2), list(map(np.std, np.array_split(data_list[1], n_int))), label=\"Mock FB\")\n",
    "plt.plot(np.arange(n_int*2, n_int*3), list(map(np.std, np.array_split(data_list[2], n_int))), label=\"Real FB 2\")\n",
    "plt.xlabel(\"Time (min)\")\n",
    "plt.ylabel(\"Power\")\n",
    "plt.legend(bbox_to_anchor=(0., 1.02, 1., .102), loc=3,\n",
    "           ncol=2, mode=\"expand\", borderaxespad=0.)\n",
    "plt.show()"
   ]
  },
  {
   "cell_type": "code",
   "execution_count": null,
   "metadata": {},
   "outputs": [],
   "source": [
    "\n"
   ]
  },
  {
   "cell_type": "code",
   "execution_count": null,
   "metadata": {
    "collapsed": true
   },
   "outputs": [],
   "source": []
  },
  {
   "cell_type": "code",
   "execution_count": null,
   "metadata": {
    "collapsed": true
   },
   "outputs": [],
   "source": []
  }
 ],
 "metadata": {
  "kernelspec": {
   "display_name": "Python 3",
   "language": "python",
   "name": "python3"
  },
  "language_info": {
   "codemirror_mode": {
    "name": "ipython",
    "version": 3
   },
   "file_extension": ".py",
   "mimetype": "text/x-python",
   "name": "python",
   "nbconvert_exporter": "python",
   "pygments_lexer": "ipython3",
   "version": "3.6.3"
  }
 },
 "nbformat": 4,
 "nbformat_minor": 2
}
