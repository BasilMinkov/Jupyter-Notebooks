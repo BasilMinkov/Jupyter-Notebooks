{
 "cells": [
  {
   "cell_type": "code",
   "execution_count": 16,
   "metadata": {},
   "outputs": [],
   "source": [
    "import numpy as np  # Fast C++ arrays\n",
    "import matplotlib.pyplot as plt  # Main visualisation package\n",
    "import seaborn as sns  # Extension for visualization\n",
    "\n",
    "from scipy.stats import laplace, norm, skewnorm, ttest_ind  # Distribution functions and T-test\n",
    "from scipy.interpolate import interp1d  # Interpolation function\n",
    "from scipy.integrate import quad # Numerical integration function\n",
    "\n",
    "# Adjust the size of the figure\n",
    "fig_size = [8, 6]  \n",
    "plt.rcParams[\"figure.figsize\"] = fig_size\n",
    "sns.set(color_codes=True)"
   ]
  },
  {
   "cell_type": "code",
   "execution_count": 10,
   "metadata": {},
   "outputs": [],
   "source": [
    "from tqdm import tqdm_notebook as tqdm"
   ]
  },
  {
   "cell_type": "code",
   "execution_count": 11,
   "metadata": {},
   "outputs": [],
   "source": [
    "n_samples_array = np.arange(2,20,2)\n",
    "n_simulations = 10000"
   ]
  },
  {
   "cell_type": "code",
   "execution_count": 12,
   "metadata": {},
   "outputs": [],
   "source": [
    "class Bimodal_norm():\n",
    "    \"\"\"\n",
    "    Bimodal distribution consisting of two normal distributions.\n",
    "    \"\"\"\n",
    "    def __init__(self, mu1=2, sigma1=1, coef1=0.5, mu2=-2, sigma2=1):\n",
    "        self.mu1 = mu1\n",
    "        self.sigma1 = sigma1\n",
    "        self.coef1 = coef1\n",
    "        self.mu2 = mu2\n",
    "        self.sigma2 = sigma2\n",
    "        self.x = np.linspace(-15, 15, 1000)\n",
    "        \n",
    "        cdf = self.coef1*norm.cdf(self.x, loc=self.mu1, scale=self.sigma1) + (1-self.coef1)*norm.cdf(self.x, loc=self.mu2, scale=self.sigma2)        \n",
    "        self.mean = self.coef1*norm.mean(loc=self.mu1, scale=self.sigma1) + (1-self.coef1)*norm.mean(loc=self.mu2, scale=self.sigma2)\n",
    "        self.cdf = interp1d(self.x, cdf)\n",
    "        self.ppf = interp1d(cdf, self.x)        \n",
    "        self.pdf = interp1d(self.x, np.gradient(self.cdf(self.x)))\n",
    "\n",
    "def prepare_skewnorm_quantile(mu, sigma, alpha):\n",
    "    \"\"\"\n",
    "    Prepares the skewed normal distribution quantile function by interpolating several values. \n",
    "    \"\"\"\n",
    "    uniform_values = np.linspace(0.01, 0.99, 10)\n",
    "    percent_point = skewnorm.ppf(uniform_values, alpha, loc=mu, scale=sigma)\n",
    "    return interp1d(uniform_values, percent_point, kind=\"cubic\")\n",
    "\n",
    "def count_significance_frequency(n, model):\n",
    "    \"\"\"\n",
    "    Counts the value of the function for the main graph. \n",
    "    In this case, the test compares the distribution function with itself.\n",
    "    \"\"\"\n",
    "    p_values = np.array([ttest_ind(\n",
    "        model(np.random.uniform(0.01, 0.99, n)),\n",
    "        model(np.random.uniform(0.01, 0.99, n))\n",
    "    )[1] for _ in range(n_simulations)])\n",
    "    return (len(p_values[p_values < 0.05])/len(p_values))*100\n",
    "\n",
    "def count_significance_frequency_2(n, model1, model2):\n",
    "    \"\"\"\n",
    "    Counts the value of the function for the main graph, taking the sample size as an argument. \n",
    "    In this case, the test compares the distribution function with another function.\n",
    "    \"\"\"\n",
    "    p_values = np.array([ttest_ind(\n",
    "        model1(np.random.uniform(0.01, 0.99, n)),\n",
    "        model2(np.random.uniform(0.01, 0.99, n))\n",
    "    )[1] for _ in range(n_simulations)])\n",
    "    return (len(p_values[p_values < 0.05])/len(p_values))*100\n",
    "\n",
    "def prepare_xy(model1, model2=None):\n",
    "    \"\"\"\n",
    "    Applies count_significance_frequency or count_significance_frequency_2 function \n",
    "    for all sample sizes.\n",
    "    \"\"\"\n",
    "    if model2 is None:\n",
    "        return n_samples_array, np.array([count_significance_frequency(n, model1) for n in n_samples_array])\n",
    "    else:\n",
    "        return n_samples_array, np.array([count_significance_frequency_2(n, model1, model2) for n in n_samples_array])"
   ]
  },
  {
   "cell_type": "code",
   "execution_count": 15,
   "metadata": {},
   "outputs": [
    {
     "name": "stdout",
     "output_type": "stream",
     "text": [
      "0.0 4.564189583547757 0.0 0.0\n"
     ]
    }
   ],
   "source": [
    "mu = 0\n",
    "sigma = 1\n",
    "alpha = 4\n",
    "\n",
    "binorm = Bimodal_norm()\n",
    "\n",
    "print(\n",
    "    norm.mean(loc=mu, scale=sigma),\n",
    "    skewnorm.mean(sigma, alpha),\n",
    "    laplace.mean(loc=mu, scale=sigma),\n",
    "    binorm.mean\n",
    "    )\n",
    "\n",
    "models = [\n",
    "    lambda x: norm.ppf(x, loc=mu, scale=sigma),  # normal distribution model\n",
    "    prepare_skewnorm_quantile(mu, sigma, alpha),  # skewed-normal distribution model\n",
    "    lambda x: laplace.ppf(x, loc=mu, scale=sigma),\n",
    "    lambda x: binorm.ppf(x)  # distribution model \n",
    "]"
   ]
  },
  {
   "cell_type": "code",
   "execution_count": 88,
   "metadata": {},
   "outputs": [
    {
     "data": {
      "application/vnd.jupyter.widget-view+json": {
       "model_id": "687e073dba184f248bdadc29c947f258",
       "version_major": 2,
       "version_minor": 0
      },
      "text/plain": [
       "HBox(children=(IntProgress(value=0, max=2), HTML(value='')))"
      ]
     },
     "metadata": {},
     "output_type": "display_data"
    },
    {
     "name": "stdout",
     "output_type": "stream",
     "text": [
      "\n"
     ]
    }
   ],
   "source": [
    "df = np.zeros([len(models), 2, n_samples_array.shape[0]])\n",
    "\n",
    "for i in tqdm(range(len(models))):\n",
    "    x, y = prepare_xy(models[i])\n",
    "    df[i, 0, :] = x\n",
    "    df[i, 1, :] = y"
   ]
  },
  {
   "cell_type": "code",
   "execution_count": 89,
   "metadata": {},
   "outputs": [
    {
     "ename": "IndexError",
     "evalue": "index 2 is out of bounds for axis 0 with size 2",
     "output_type": "error",
     "traceback": [
      "\u001b[0;31m---------------------------------------------------------------------------\u001b[0m",
      "\u001b[0;31mIndexError\u001b[0m                                Traceback (most recent call last)",
      "\u001b[0;32m<ipython-input-89-78011157b18e>\u001b[0m in \u001b[0;36m<module>\u001b[0;34m()\u001b[0m\n\u001b[1;32m      1\u001b[0m \u001b[0;31m# ax = sns.lineplot(df[0, 0, :], df[0, 1, :], label=\"Normal ($\\mu$ = 0; $\\sigma$ = 1)\")\u001b[0m\u001b[0;34m\u001b[0m\u001b[0;34m\u001b[0m\u001b[0m\n\u001b[1;32m      2\u001b[0m \u001b[0;31m# ax1 = sns.lineplot(df[1, 0, :], df[1, 1, :], label=\"Skewed Normal ($\\mu$ = 0; $\\sigma$ = 1; $\\\\alpha$ = 2)\")\u001b[0m\u001b[0;34m\u001b[0m\u001b[0;34m\u001b[0m\u001b[0m\n\u001b[0;32m----> 3\u001b[0;31m \u001b[0max2\u001b[0m \u001b[0;34m=\u001b[0m \u001b[0msns\u001b[0m\u001b[0;34m.\u001b[0m\u001b[0mlineplot\u001b[0m\u001b[0;34m(\u001b[0m\u001b[0mdf\u001b[0m\u001b[0;34m[\u001b[0m\u001b[0;36m2\u001b[0m\u001b[0;34m,\u001b[0m \u001b[0;36m0\u001b[0m\u001b[0;34m,\u001b[0m \u001b[0;34m:\u001b[0m\u001b[0;34m]\u001b[0m\u001b[0;34m,\u001b[0m \u001b[0mdf\u001b[0m\u001b[0;34m[\u001b[0m\u001b[0;36m2\u001b[0m\u001b[0;34m,\u001b[0m \u001b[0;36m1\u001b[0m\u001b[0;34m,\u001b[0m \u001b[0;34m:\u001b[0m\u001b[0;34m]\u001b[0m\u001b[0;34m,\u001b[0m \u001b[0mlabel\u001b[0m\u001b[0;34m=\u001b[0m\u001b[0;34m\"Beta ($\\mu$ = 0; $\\sigma$ = 1; $a$ = 0.5; $b$ = 0.5;)\"\u001b[0m\u001b[0;34m)\u001b[0m\u001b[0;34m\u001b[0m\u001b[0m\n\u001b[0m\u001b[1;32m      4\u001b[0m \u001b[0max3\u001b[0m \u001b[0;34m=\u001b[0m \u001b[0msns\u001b[0m\u001b[0;34m.\u001b[0m\u001b[0mlineplot\u001b[0m\u001b[0;34m(\u001b[0m\u001b[0mdf\u001b[0m\u001b[0;34m[\u001b[0m\u001b[0;36m3\u001b[0m\u001b[0;34m,\u001b[0m \u001b[0;36m0\u001b[0m\u001b[0;34m,\u001b[0m \u001b[0;34m:\u001b[0m\u001b[0;34m]\u001b[0m\u001b[0;34m,\u001b[0m \u001b[0mdf\u001b[0m\u001b[0;34m[\u001b[0m\u001b[0;36m3\u001b[0m\u001b[0;34m,\u001b[0m \u001b[0;36m1\u001b[0m\u001b[0;34m,\u001b[0m \u001b[0;34m:\u001b[0m\u001b[0;34m]\u001b[0m\u001b[0;34m,\u001b[0m \u001b[0mlabel\u001b[0m\u001b[0;34m=\u001b[0m\u001b[0;34m\"Binomial ($\\mu$ = -2, 2; $\\sigma$ = 1, 1)\"\u001b[0m\u001b[0;34m)\u001b[0m\u001b[0;34m\u001b[0m\u001b[0m\n\u001b[1;32m      5\u001b[0m \u001b[0max4\u001b[0m \u001b[0;34m=\u001b[0m \u001b[0mplt\u001b[0m\u001b[0;34m.\u001b[0m\u001b[0mhlines\u001b[0m\u001b[0;34m(\u001b[0m\u001b[0my\u001b[0m\u001b[0;34m=\u001b[0m\u001b[0;36m5\u001b[0m\u001b[0;34m,\u001b[0m \u001b[0mxmin\u001b[0m\u001b[0;34m=\u001b[0m\u001b[0;36m0\u001b[0m\u001b[0;34m,\u001b[0m \u001b[0mxmax\u001b[0m\u001b[0;34m=\u001b[0m\u001b[0;36m100\u001b[0m\u001b[0;34m,\u001b[0m \u001b[0mcolor\u001b[0m\u001b[0;34m=\u001b[0m\u001b[0;34m'red'\u001b[0m\u001b[0;34m,\u001b[0m \u001b[0mlabel\u001b[0m\u001b[0;34m=\u001b[0m\u001b[0;34m\"Significance level\"\u001b[0m\u001b[0;34m,\u001b[0m \u001b[0mlinestyles\u001b[0m\u001b[0;34m=\u001b[0m\u001b[0;34m\"dotted\"\u001b[0m\u001b[0;34m)\u001b[0m\u001b[0;34m\u001b[0m\u001b[0m\n",
      "\u001b[0;31mIndexError\u001b[0m: index 2 is out of bounds for axis 0 with size 2"
     ]
    }
   ],
   "source": [
    "ax = sns.lineplot(df[0, 0, :], df[0, 1, :], label=\"Normal ($\\mu$ = 0; $\\sigma$ = 1)\")\n",
    "ax1 = sns.lineplot(df[1, 0, :], df[1, 1, :], label=\"Skewed Normal ($\\mu$ = 0; $\\sigma$ = 1; $\\\\alpha$ = 2)\")\n",
    "ax3 = sns.lineplot(df[3, 0, :], df[3, 1, :], label=\"Binomial ($\\mu$ = -2, 2; $\\sigma$ = 1, 1)\")\n",
    "ax4 = plt.hlines(y=5, xmin=0, xmax=100, color='red', label=\"Significance level\", linestyles=\"dotted\")\n",
    "\n",
    "ax.legend()\n",
    "ax.set_title(\"Distribution Effect\")\n",
    "ax.set_xlabel(\"Number Of Samples\")\n",
    "ax.set_ylabel(\"p < 0.05 Frequency \")\n",
    "plt.axis([1.9, 48, 0, 100])\n",
    "plt.gcf().autofmt_xdate()\n",
    "plt.show()"
   ]
  },
  {
   "cell_type": "code",
   "execution_count": 91,
   "metadata": {},
   "outputs": [
    {
     "data": {
      "image/png": "[encoded data removed]",
      "text/plain": [
       "<Figure size 576x432 with 1 Axes>"
      ]
     },
     "metadata": {},
     "output_type": "display_data"
    }
   ],
   "source": [
    "ax = sns.lineplot(df[0, 0, :], df[0, 1, :], label=\"Normal ($\\mu$ = 0; $\\sigma$ = 1)\")\n",
    "ax1 = sns.lineplot(df[1, 0, :], df[1, 1, :], label=\"Skewed Normal ($\\mu$ = 0; $\\sigma$ = 1; $\\\\alpha$ = 2)\")\n",
    "ax2 = sns.lineplot(df[0, 0, :], df[0, 1, :], label=\"Beta ($\\mu$ = 0; $\\sigma$ = 1; $a$ = 0.5; $b$ = 0.5;)\")\n",
    "ax3 = sns.lineplot(df[1, 0, :], df[1, 1, :], label=\"Binomial ($\\mu$ = -2, 2; $\\sigma$ = 1, 1)\")\n",
    "ax4 = plt.hlines(y=5, xmin=0, xmax=100, color='red', label=\"Significance level\", linestyles=\"dotted\")\n",
    "\n",
    "ax.legend()\n",
    "ax.set_title(\"Distribution Effect\")\n",
    "ax.set_xlabel(\"Number Of Samples\")\n",
    "ax.set_ylabel(\"p < 0.05 Frequency \")\n",
    "plt.axis([1.9, 15, 4, 10])\n",
    "plt.gcf().autofmt_xdate()\n",
    "plt.show()"
   ]
  },
  {
   "cell_type": "code",
   "execution_count": null,
   "metadata": {},
   "outputs": [],
   "source": []
  }
 ],
 "metadata": {
  "kernelspec": {
   "display_name": "Python 3",
   "language": "python",
   "name": "python3"
  },
  "language_info": {
   "codemirror_mode": {
    "name": "ipython",
    "version": 3
   },
   "file_extension": ".py",
   "mimetype": "text/x-python",
   "name": "python",
   "nbconvert_exporter": "python",
   "pygments_lexer": "ipython3",
   "version": "3.6.5"
  }
 },
 "nbformat": 4,
 "nbformat_minor": 2
}
