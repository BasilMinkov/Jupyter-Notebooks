{
 "cells": [
  {
   "cell_type": "code",
   "execution_count": 1,
   "metadata": {},
   "outputs": [],
   "source": [
    "import numpy as np\n",
    "import pandas as pd"
   ]
  },
  {
   "cell_type": "code",
   "execution_count": 2,
   "metadata": {},
   "outputs": [],
   "source": [
    "seq = pd.read_csv(\"seq.csv\")"
   ]
  },
  {
   "cell_type": "markdown",
   "metadata": {},
   "source": [
    "# Viterbi Algorithm "
   ]
  },
  {
   "cell_type": "code",
   "execution_count": 3,
   "metadata": {},
   "outputs": [],
   "source": [
    "o = np.array([\"a\", \"b\", \"c\"]) # observation space\n",
    "s = np.array([\"St1\", \"St2\"]) # state space\n",
    "y = np.asarray(seq.iloc[:, 2].copy()) # observation sequence\n",
    "x_true = np.asarray(seq.iloc[:, 1].copy()) # true result\n",
    "a = np.array([[0.981, 0.007],[0.019, 0.992]]) # transition probability matrix\n",
    "b = np.array([[0.076, 0.802, 0.122], [0.179, 0.151, 0.669]]) # emission probability matrix\n",
    "p = np.array([0.723, 0.277]) # prior probability"
   ]
  },
  {
   "cell_type": "code",
   "execution_count": 4,
   "metadata": {},
   "outputs": [],
   "source": [
    "y[y == \"a\"] = 0\n",
    "y[y == \"b\"] = 1\n",
    "y[y == \"c\"] = 2\n",
    "x_true[x_true == \"St1\"] = 0\n",
    "x_true[x_true == \"St2\"] = 1"
   ]
  },
  {
   "cell_type": "code",
   "execution_count": 5,
   "metadata": {},
   "outputs": [],
   "source": [
    "def viterbi(o, s, y, a, b, p):\n",
    "    \n",
    "    k = a.shape[0]    \n",
    "    t = len(y)\n",
    "    tState = np.empty((k, t), 'd')\n",
    "    tIndex = np.empty((k, t), 'B')\n",
    "    x = np.empty(t, 'B')\n",
    "    \n",
    "    tState[:, 0] = p * b[:, y[0]]\n",
    "    tIndex[:, 0] = 0\n",
    "\n",
    "    for i in range(1, t):\n",
    "        tState[:, i] = np.max(tState[:, i-1] * a.T * b[np.newaxis, :, y[i]].T, 1)\n",
    "        tIndex[:, i] = np.argmax(tState[:, i-1] * a.T * b[np.newaxis, :, y[i]].T, 1)\n",
    "\n",
    "    x[-1] = np.argmax(tState[:, t-1])\n",
    "    for i in reversed(range(1, t)):\n",
    "        x[i - 1] = tIndex[x[i], i]\n",
    "\n",
    "    return x, tState, tIndex"
   ]
  },
  {
   "cell_type": "code",
   "execution_count": 6,
   "metadata": {
    "scrolled": true
   },
   "outputs": [],
   "source": [
    "x, tState, tIndex = viterbi(o, s, y, a, b, p)"
   ]
  },
  {
   "cell_type": "code",
   "execution_count": 7,
   "metadata": {},
   "outputs": [],
   "source": [
    "a = x == 0\n",
    "b = x_true == 0\n",
    "Tp = sum(a == b)\n",
    "\n",
    "a = x == 1\n",
    "b = x_true == 1\n",
    "Tn = sum(a == b)\n",
    "\n",
    "a = x == 0\n",
    "b = x_true == 1\n",
    "Fp = sum(a == b)\n",
    "\n",
    "a = x == 1\n",
    "b = x_true == 0\n",
    "Fn = sum(a == b)"
   ]
  },
  {
   "cell_type": "code",
   "execution_count": 8,
   "metadata": {},
   "outputs": [
    {
     "data": {
      "text/plain": [
       "0.9925"
      ]
     },
     "execution_count": 8,
     "metadata": {},
     "output_type": "execute_result"
    }
   ],
   "source": [
    "Tn / (Tn+Fp)"
   ]
  },
  {
   "cell_type": "code",
   "execution_count": 9,
   "metadata": {},
   "outputs": [
    {
     "data": {
      "text/plain": [
       "0.9925"
      ]
     },
     "execution_count": 9,
     "metadata": {},
     "output_type": "execute_result"
    }
   ],
   "source": [
    "Tp / (Tp+Fn)"
   ]
  },
  {
   "cell_type": "markdown",
   "metadata": {},
   "source": [
    "# Forward–backward algorithm"
   ]
  },
  {
   "cell_type": "code",
   "execution_count": 10,
   "metadata": {},
   "outputs": [],
   "source": [
    "o = np.array([\"a\", \"b\", \"c\"]) # observation space\n",
    "s = np.array([\"St1\", \"St2\"]) # state space\n",
    "y = np.asarray(seq.iloc[:, 2].copy()) # observation sequence\n",
    "e = 2 # number of end state\n",
    "x_true = np.asarray(seq.iloc[:, 1].copy()) # true result\n",
    "a = np.array([[0.981, 0.007, 0.01], [0.019, 0.992, 0.01]]) # transition probability matrix\n",
    "b = np.array([[0.076, 0.802, 0.122], [0.179, 0.151, 0.669]]) # emission probability matrix\n",
    "p = np.array([0.723, 0.277]) # prior probability"
   ]
  },
  {
   "cell_type": "code",
   "execution_count": 11,
   "metadata": {},
   "outputs": [],
   "source": [
    "def forward_backward(o, s, p, a, b, e):\n",
    "    \"\"\"\n",
    "    forward_backward(o, s, p, a, b, e)\n",
    "    \n",
    "    Arguments:\n",
    "    \n",
    "    o - observation space\n",
    "    s - state space \n",
    "    p - prior probability\n",
    "    a - transition probability matrix\n",
    "    b - emission probability matrix\n",
    "    e - number of end state\n",
    "    \n",
    "    Description:\n",
    "    \n",
    "    The forward–backward algorithm is an inference algorithm for hidden Markov models which computes the posterior marginals of all hidden state variables given a sequence of observations/emissions\n",
    "    \"\"\"\n",
    "    # arrays\n",
    "    \n",
    "    forward = []\n",
    "    forward_previous = []\n",
    "    backward = []\n",
    "    backward_previous = []\n",
    "    posterior = []\n",
    "\n",
    "    \n",
    "    # computing forward probabilities\n",
    "\n",
    "    for i in range(len(o)):\n",
    "        forward_current = []\n",
    "        for st in range(len(s)):\n",
    "            if i == 0:\n",
    "                previous_forward_sum = p[st]\n",
    "            else:\n",
    "                previous_forward_sum = sum(forward_previous[k]*a[k, st] for k in range(len(s)))            \n",
    "            forward_current.append(b[st, i] * previous_forward_sum)\n",
    "        forward.append(forward_current)\n",
    "        forward_previous = forward_current\n",
    "    p_forward = sum(forward_current[k] * a[k, e] for k in range(len(s)))\n",
    "        \n",
    "    print(forward)\n",
    "    print(forward_previous)\n",
    "    print(p_forward)\n",
    "    \n",
    "    # computing backward probabilities\n",
    "    \n",
    "    for i in range(len(o)):\n",
    "        backward_current = []\n",
    "        for st in range(len(s)):\n",
    "            if i == 0:\n",
    "                backward_current.append(a[st, e])\n",
    "            else:\n",
    "                backward_current.append(sum(a[st, l] * b[l, 0-i] * backward_previous[l] for l in range(len(s))))\n",
    "        backward.insert(0, backward_current)\n",
    "        backward_previous = backward_current\n",
    "    p_backward = sum(p[l] * b[l, 0] * backward_current[l] for l in range(len(s)))\n",
    "    \n",
    "    \n",
    "    # computing smoothed values\n",
    "    \n",
    "    assert round(p_forward, 5) == round(p_backward, 5)\n",
    "    for i in range(len(o)):\n",
    "        posterior.append([forward[i][st] * backward[i][st] / p_forward for st in range(len(s))])\n",
    "    \n",
    "    \n",
    "    # exit function\n",
    "    \n",
    "    return posterior"
   ]
  },
  {
   "cell_type": "code",
   "execution_count": 12,
   "metadata": {},
   "outputs": [
    {
     "name": "stdout",
     "output_type": "stream",
     "text": [
      "[[0.054948, 0.049583], [0.04398654413, 0.007485216772000001], [0.005281748307044155, 0.005173538126465047]]\n",
      "[0.005281748307044155, 0.005173538126465047]\n",
      "0.00010455286433509202\n"
     ]
    },
    {
     "data": {
      "text/plain": [
       "[[0.5179296116585203, 0.4820703883414798],\n",
       " [0.5232172830000005, 0.4767827169999996],\n",
       " [0.5051749027282645, 0.49482509727173546]]"
      ]
     },
     "execution_count": 12,
     "metadata": {},
     "output_type": "execute_result"
    }
   ],
   "source": [
    "forward_backward(o, s, p, a, b, e)"
   ]
  },
  {
   "cell_type": "code",
   "execution_count": 13,
   "metadata": {},
   "outputs": [
    {
     "name": "stdout",
     "output_type": "stream",
     "text": [
      "[{'St1': 0.054948, 'St2': 0.049583}, {'St1': 0.04398654413, 'St2': 0.007485216772000001}, {'St1': 0.034721001165978795, 'St2': 0.0011677193678568342}]\n",
      "{'St1': 0.034721001165978795, 'St2': 0.0011677193678568342}\n",
      "0.0003588872053383563\n"
     ]
    },
    {
     "data": {
      "text/plain": [
       "([{'St1': 0.054948, 'St2': 0.049583},\n",
       "  {'St1': 0.04398654413, 'St2': 0.007485216772000001},\n",
       "  {'St1': 0.034721001165978795, 'St2': 0.0011677193678568342}],\n",
       " [{'St1': 0.006200004887880001, 'St2': 0.00036724959681999994},\n",
       "  {'St1': 0.00787819, 'St2': 0.0016502999999999997},\n",
       "  {'St1': 0.01, 'St2': 0.01}],\n",
       " [{'St1': 0.9492616719452052, 'St2': 0.0507383280547949},\n",
       "  {'St1': 0.9655801236291346, 'St2': 0.03441987637086537},\n",
       "  {'St1': 0.9674627751982433, 'St2': 0.032537224801756776}])"
      ]
     },
     "execution_count": 13,
     "metadata": {},
     "output_type": "execute_result"
    }
   ],
   "source": [
    "states = ('St1', 'St2')\n",
    "end_state = 'E'\n",
    " \n",
    "observations = ('a', 'b', 'b')\n",
    " \n",
    "start_probability = {'St1': 0.723, 'St2': 0.277}\n",
    " \n",
    "transition_probability = {\n",
    "   'St1' : {'St1': 0.981, 'St2': 0.007, 'E': 0.01},\n",
    "   'St2' : {'St1': 0.019, 'St2': 0.992, 'E': 0.01},\n",
    "   }\n",
    " \n",
    "emission_probability = {\n",
    "   'St1' : {'a': 0.076, 'b': 0.802, 'c': 0.122},\n",
    "   'St2' : {'a': 0.179, 'b': 0.151, 'c': 0.669},\n",
    "   }\n",
    "\n",
    "def fwd_bkw(observations, states, start_prob, trans_prob, emm_prob, end_st):\n",
    "    # forward part of the algorithm\n",
    "    fwd = []\n",
    "    f_prev = {}\n",
    "    for i, observation_i in enumerate(observations):\n",
    "        f_curr = {}\n",
    "        for st in states:\n",
    "            if i == 0:\n",
    "                # base case for the forward part\n",
    "                prev_f_sum = start_prob[st]\n",
    "            else:\n",
    "                prev_f_sum = sum(f_prev[k]*trans_prob[k][st] for k in states)\n",
    "\n",
    "            f_curr[st] = emm_prob[st][observation_i] * prev_f_sum\n",
    "\n",
    "        fwd.append(f_curr)\n",
    "        f_prev = f_curr\n",
    "\n",
    "    p_fwd = sum(f_curr[k] * trans_prob[k][end_st] for k in states)\n",
    "\n",
    "    \n",
    "    print(fwd)\n",
    "    print(f_prev)\n",
    "    print(p_fwd)\n",
    "    \n",
    "    # backward part of the algorithm\n",
    "    bkw = []\n",
    "    b_prev = {}\n",
    "    for i, observation_i_plus in enumerate(reversed(observations[1:]+(None,))):\n",
    "        b_curr = {}\n",
    "        for st in states:\n",
    "            if i == 0:\n",
    "                # base case for backward part\n",
    "                b_curr[st] = trans_prob[st][end_st]\n",
    "            else:\n",
    "                b_curr[st] = sum(trans_prob[st][l] * emm_prob[l][observation_i_plus] * b_prev[l] for l in states)\n",
    "\n",
    "        bkw.insert(0,b_curr)\n",
    "        b_prev = b_curr\n",
    "    \n",
    "    p_bkw = sum(start_prob[l] * emm_prob[l][observations[0]] * b_curr[l] for l in states)\n",
    "\n",
    "    # merging the two parts\n",
    "    posterior = []\n",
    "    for i in range(len(observations)):\n",
    "        posterior.append({st: fwd[i][st] * bkw[i][st] / p_fwd for st in states})\n",
    "    \n",
    "    assert round(p_fwd, 5) == round(p_bkw, 5)\n",
    "    return fwd, bkw, posterior\n",
    "\n",
    "fwd_bkw(observations, states, start_probability, transition_probability, emission_probability, end_state)"
   ]
  },
  {
   "cell_type": "code",
   "execution_count": null,
   "metadata": {},
   "outputs": [],
   "source": [
    "[[0.054948, 0.049583], [0.04398654413, 0.007485216772000001], [0.005281748307044155, 0.005173538126465047]]\n",
    "[0.005281748307044155, 0.005173538126465047]\n",
    "0.00010455286433509202"
   ]
  },
  {
   "cell_type": "code",
   "execution_count": null,
   "metadata": {},
   "outputs": [],
   "source": []
  }
 ],
 "metadata": {
  "kernelspec": {
   "display_name": "Python 3",
   "language": "python",
   "name": "python3"
  },
  "language_info": {
   "codemirror_mode": {
    "name": "ipython",
    "version": 3
   },
   "file_extension": ".py",
   "mimetype": "text/x-python",
   "name": "python",
   "nbconvert_exporter": "python",
   "pygments_lexer": "ipython3",
   "version": "3.7.1"
  }
 },
 "nbformat": 4,
 "nbformat_minor": 2
}
