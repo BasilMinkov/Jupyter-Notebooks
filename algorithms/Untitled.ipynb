{
 "cells": [
  {
   "cell_type": "code",
   "execution_count": 1,
   "metadata": {},
   "outputs": [],
   "source": [
    "counts = [\n",
    "    [8, 6, 2, 1, 5, 0, 0, 1], \n",
    "    [0, 1, 4, 0, 1, 1, 0, 1], \n",
    "    [0, 1, 0, 7, 1, 0, 5, 2], \n",
    "    [0, 0, 2, 0, 1, 7, 3, 4]\n",
    "]"
   ]
  },
  {
   "cell_type": "code",
   "execution_count": 2,
   "metadata": {},
   "outputs": [],
   "source": [
    "import numpy as np"
   ]
  },
  {
   "cell_type": "code",
   "execution_count": 5,
   "metadata": {},
   "outputs": [],
   "source": [
    "counts = np.array(counts)"
   ]
  },
  {
   "cell_type": "code",
   "execution_count": 6,
   "metadata": {},
   "outputs": [],
   "source": [
    "f = counts/8"
   ]
  },
  {
   "cell_type": "code",
   "execution_count": 7,
   "metadata": {},
   "outputs": [
    {
     "data": {
      "text/plain": [
       "array([[1.   , 0.75 , 0.25 , 0.125, 0.625, 0.   , 0.   , 0.125],\n",
       "       [0.   , 0.125, 0.5  , 0.   , 0.125, 0.125, 0.   , 0.125],\n",
       "       [0.   , 0.125, 0.   , 0.875, 0.125, 0.   , 0.625, 0.25 ],\n",
       "       [0.   , 0.   , 0.25 , 0.   , 0.125, 0.875, 0.375, 0.5  ]])"
      ]
     },
     "execution_count": 7,
     "metadata": {},
     "output_type": "execute_result"
    }
   ],
   "source": [
    "f"
   ]
  },
  {
   "cell_type": "code",
   "execution_count": 9,
   "metadata": {},
   "outputs": [
    {
     "name": "stderr",
     "output_type": "stream",
     "text": [
      "/Users/wassilyminkow/anaconda3/lib/python3.7/site-packages/ipykernel_launcher.py:1: RuntimeWarning: divide by zero encountered in log2\n",
      "  \"\"\"Entry point for launching an IPython kernel.\n"
     ]
    }
   ],
   "source": [
    "pwm = np.log2(f/0.25)"
   ]
  },
  {
   "cell_type": "code",
   "execution_count": 10,
   "metadata": {},
   "outputs": [
    {
     "data": {
      "text/plain": [
       "array([[ 2.        ,  1.5849625 ,  0.        , -1.        ,  1.32192809,\n",
       "               -inf,        -inf, -1.        ],\n",
       "       [       -inf, -1.        ,  1.        ,        -inf, -1.        ,\n",
       "        -1.        ,        -inf, -1.        ],\n",
       "       [       -inf, -1.        ,        -inf,  1.80735492, -1.        ,\n",
       "               -inf,  1.32192809,  0.        ],\n",
       "       [       -inf,        -inf,  0.        ,        -inf, -1.        ,\n",
       "         1.80735492,  0.5849625 ,  1.        ]])"
      ]
     },
     "execution_count": 10,
     "metadata": {},
     "output_type": "execute_result"
    }
   ],
   "source": [
    "pwm"
   ]
  },
  {
   "cell_type": "code",
   "execution_count": 11,
   "metadata": {},
   "outputs": [
    {
     "name": "stderr",
     "output_type": "stream",
     "text": [
      "/Users/wassilyminkow/anaconda3/lib/python3.7/site-packages/ipykernel_launcher.py:1: RuntimeWarning: invalid value encountered in multiply\n",
      "  \"\"\"Entry point for launching an IPython kernel.\n"
     ]
    }
   ],
   "source": [
    "i_pwn = np.multiply(f, pwm)"
   ]
  },
  {
   "cell_type": "code",
   "execution_count": 28,
   "metadata": {},
   "outputs": [
    {
     "data": {
      "text/plain": [
       "array([[ 2.        ,  1.18872188,  0.        , -0.125     ,  0.82620506,\n",
       "         0.        ,  0.        , -0.125     ],\n",
       "       [ 0.        , -0.125     ,  0.5       ,  0.        , -0.125     ,\n",
       "        -0.125     ,  0.        , -0.125     ],\n",
       "       [ 0.        , -0.125     ,  0.        ,  1.58143556, -0.125     ,\n",
       "         0.        ,  0.82620506,  0.        ],\n",
       "       [ 0.        ,  0.        ,  0.        ,  0.        , -0.125     ,\n",
       "         1.58143556,  0.21936094,  0.5       ]])"
      ]
     },
     "execution_count": 28,
     "metadata": {},
     "output_type": "execute_result"
    }
   ],
   "source": [
    "i_pwn"
   ]
  },
  {
   "cell_type": "code",
   "execution_count": 18,
   "metadata": {},
   "outputs": [],
   "source": [
    "where_are_NaNs = np.isnan(i_pwn)\n",
    "i_pwn[where_are_NaNs] = 0"
   ]
  },
  {
   "cell_type": "code",
   "execution_count": 21,
   "metadata": {},
   "outputs": [
    {
     "data": {
      "text/plain": [
       "8.098364045521311"
      ]
     },
     "execution_count": 21,
     "metadata": {},
     "output_type": "execute_result"
    }
   ],
   "source": [
    "sum(sum(i_pwn))"
   ]
  },
  {
   "cell_type": "code",
   "execution_count": 22,
   "metadata": {},
   "outputs": [],
   "source": [
    "counts_x = counts + 1 "
   ]
  },
  {
   "cell_type": "code",
   "execution_count": 23,
   "metadata": {},
   "outputs": [],
   "source": [
    "f_x = counts_x/12"
   ]
  },
  {
   "cell_type": "code",
   "execution_count": 25,
   "metadata": {},
   "outputs": [
    {
     "data": {
      "text/plain": [
       "array([[0.75      , 0.58333333, 0.25      , 0.16666667, 0.5       ,\n",
       "        0.08333333, 0.08333333, 0.16666667],\n",
       "       [0.08333333, 0.16666667, 0.41666667, 0.08333333, 0.16666667,\n",
       "        0.16666667, 0.08333333, 0.16666667],\n",
       "       [0.08333333, 0.16666667, 0.08333333, 0.66666667, 0.16666667,\n",
       "        0.08333333, 0.5       , 0.25      ],\n",
       "       [0.08333333, 0.08333333, 0.25      , 0.08333333, 0.16666667,\n",
       "        0.66666667, 0.33333333, 0.41666667]])"
      ]
     },
     "execution_count": 25,
     "metadata": {},
     "output_type": "execute_result"
    }
   ],
   "source": [
    "f_x"
   ]
  },
  {
   "cell_type": "code",
   "execution_count": 26,
   "metadata": {},
   "outputs": [],
   "source": [
    "pwm_x = np.log2(f_x/0.25)"
   ]
  },
  {
   "cell_type": "code",
   "execution_count": 27,
   "metadata": {},
   "outputs": [
    {
     "data": {
      "text/plain": [
       "array([[ 1.5849625 ,  1.22239242,  0.        , -0.5849625 ,  1.        ,\n",
       "        -1.5849625 , -1.5849625 , -0.5849625 ],\n",
       "       [-1.5849625 , -0.5849625 ,  0.73696559, -1.5849625 , -0.5849625 ,\n",
       "        -0.5849625 , -1.5849625 , -0.5849625 ],\n",
       "       [-1.5849625 , -0.5849625 , -1.5849625 ,  1.4150375 , -0.5849625 ,\n",
       "        -1.5849625 ,  1.        ,  0.        ],\n",
       "       [-1.5849625 , -1.5849625 ,  0.        , -1.5849625 , -0.5849625 ,\n",
       "         1.4150375 ,  0.4150375 ,  0.73696559]])"
      ]
     },
     "execution_count": 27,
     "metadata": {},
     "output_type": "execute_result"
    }
   ],
   "source": [
    "pwm_x"
   ]
  },
  {
   "cell_type": "code",
   "execution_count": 33,
   "metadata": {},
   "outputs": [],
   "source": [
    "i_pwm_x = np.multiply(f_x, pwm_x)"
   ]
  },
  {
   "cell_type": "code",
   "execution_count": 34,
   "metadata": {},
   "outputs": [
    {
     "data": {
      "text/plain": [
       "array([[ 1.18872188,  0.71306225,  0.        , -0.09749375,  0.5       ,\n",
       "        -0.13208021, -0.13208021, -0.09749375],\n",
       "       [-0.13208021, -0.09749375,  0.307069  , -0.13208021, -0.09749375,\n",
       "        -0.09749375, -0.13208021, -0.09749375],\n",
       "       [-0.13208021, -0.09749375, -0.13208021,  0.94335833, -0.09749375,\n",
       "        -0.13208021,  0.5       ,  0.        ],\n",
       "       [-0.13208021, -0.13208021,  0.        , -0.13208021, -0.09749375,\n",
       "         0.94335833,  0.13834583,  0.307069  ]])"
      ]
     },
     "execution_count": 34,
     "metadata": {},
     "output_type": "execute_result"
    }
   ],
   "source": [
    "i_pwm_x"
   ]
  },
  {
   "cell_type": "code",
   "execution_count": 35,
   "metadata": {},
   "outputs": [
    {
     "data": {
      "text/plain": [
       "3.210658571847579"
      ]
     },
     "execution_count": 35,
     "metadata": {},
     "output_type": "execute_result"
    }
   ],
   "source": [
    "sum(sum(i_pwm_x))"
   ]
  },
  {
   "cell_type": "code",
   "execution_count": null,
   "metadata": {},
   "outputs": [],
   "source": []
  }
 ],
 "metadata": {
  "kernelspec": {
   "display_name": "Python 3",
   "language": "python",
   "name": "python3"
  },
  "language_info": {
   "codemirror_mode": {
    "name": "ipython",
    "version": 3
   },
   "file_extension": ".py",
   "mimetype": "text/x-python",
   "name": "python",
   "nbconvert_exporter": "python",
   "pygments_lexer": "ipython3",
   "version": "3.7.1"
  }
 },
 "nbformat": 4,
 "nbformat_minor": 2
}
