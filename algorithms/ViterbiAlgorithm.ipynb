{
 "cells": [
  {
   "cell_type": "code",
   "execution_count": 196,
   "metadata": {},
   "outputs": [],
   "source": [
    "import numpy as np\n",
    "import pandas as pd"
   ]
  },
  {
   "cell_type": "code",
   "execution_count": 197,
   "metadata": {},
   "outputs": [],
   "source": [
    "seq = pd.read_csv(\"/Users/wassilyminkow/Desktop/seq.csv\")"
   ]
  },
  {
   "cell_type": "code",
   "execution_count": 198,
   "metadata": {},
   "outputs": [],
   "source": [
    "o = np.array([\"a\", \"b\", \"c\"])  \n",
    "s = np.array([\"St1\", \"St2\"])\n",
    "y = np.asarray(seq.iloc[:, 2].copy())\n",
    "x_true = np.asarray(seq.iloc[:, 1].copy()) \n",
    "a = np.array([[0.981, 0.007],[0.019, 0.992]])\n",
    "b = np.array([[0.076, 0.802, 0.122], [0.179, 0.151, 0.669]])\n",
    "p = np.array([0.723, 0.277])"
   ]
  },
  {
   "cell_type": "code",
   "execution_count": 199,
   "metadata": {},
   "outputs": [],
   "source": [
    "y[y == \"a\"] = 0\n",
    "y[y == \"b\"] = 1\n",
    "y[y == \"c\"] = 2\n",
    "x_true[x_true == \"St1\"] = 0\n",
    "x_true[x_true == \"St2\"] = 1"
   ]
  },
  {
   "cell_type": "code",
   "execution_count": 200,
   "metadata": {},
   "outputs": [],
   "source": [
    "def viterbi(o, s, y, a, b, p):\n",
    "    \n",
    "    k = a.shape[0]    \n",
    "    t = len(y)\n",
    "    tState = np.empty((k, t), 'd')\n",
    "    tIndex = np.empty((k, t), 'B')\n",
    "    x = np.empty(t, 'B')\n",
    "    \n",
    "    tState[:, 0] = p * b[:, y[0]]\n",
    "    tIndex[:, 0] = 0\n",
    "\n",
    "    for i in range(1, t):\n",
    "        tState[:, i] = np.max(tState[:, i-1] * a.T * b[np.newaxis, :, y[i]].T, 1)\n",
    "        tIndex[:, i] = np.argmax(tState[:, i-1] * a.T * b[np.newaxis, :, y[i]].T, 1)\n",
    "\n",
    "    x[-1] = np.argmax(tState[:, t-1])\n",
    "    for i in reversed(range(1, t)):\n",
    "        x[i - 1] = tIndex[x[i], i]\n",
    "\n",
    "    return x, tState, tIndex"
   ]
  },
  {
   "cell_type": "code",
   "execution_count": 201,
   "metadata": {
    "scrolled": true
   },
   "outputs": [],
   "source": [
    "x, tState, tIndex = viterbi(o, s, y, a, b, p)"
   ]
  },
  {
   "cell_type": "code",
   "execution_count": 202,
   "metadata": {},
   "outputs": [],
   "source": [
    "a = x == 0\n",
    "b = x_true == 0\n",
    "Tp = sum(a == b)\n",
    "\n",
    "a = x == 1\n",
    "b = x_true == 1\n",
    "Tn = sum(a == b)\n",
    "\n",
    "a = x == 0\n",
    "b = x_true == 1\n",
    "Fp = sum(a == b)\n",
    "\n",
    "a = x == 1\n",
    "b = x_true == 0\n",
    "Fn = sum(a == b)"
   ]
  },
  {
   "cell_type": "code",
   "execution_count": 203,
   "metadata": {},
   "outputs": [
    {
     "data": {
      "text/plain": [
       "0.9925"
      ]
     },
     "execution_count": 203,
     "metadata": {},
     "output_type": "execute_result"
    }
   ],
   "source": [
    "Tn / (Tn+Fp)"
   ]
  },
  {
   "cell_type": "code",
   "execution_count": 204,
   "metadata": {},
   "outputs": [
    {
     "data": {
      "text/plain": [
       "0.9925"
      ]
     },
     "execution_count": 204,
     "metadata": {},
     "output_type": "execute_result"
    }
   ],
   "source": [
    "Tp / (Tp+Fn)"
   ]
  }
 ],
 "metadata": {
  "kernelspec": {
   "display_name": "Python 3",
   "language": "python",
   "name": "python3"
  },
  "language_info": {
   "codemirror_mode": {
    "name": "ipython",
    "version": 3
   },
   "file_extension": ".py",
   "mimetype": "text/x-python",
   "name": "python",
   "nbconvert_exporter": "python",
   "pygments_lexer": "ipython3",
   "version": "3.6.5"
  }
 },
 "nbformat": 4,
 "nbformat_minor": 2
}
