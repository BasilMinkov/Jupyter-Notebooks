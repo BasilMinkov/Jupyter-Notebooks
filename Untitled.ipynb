{
 "cells": [
  {
   "cell_type": "code",
   "execution_count": 23,
   "metadata": {},
   "outputs": [],
   "source": [
    "import mne\n",
    "import numpy as np\n",
    "import scipy\n",
    "import h5py\n",
    "import matplotlib\n",
    "import warnings\n",
    "import sys\n",
    "import pandas as pd\n",
    "from scipy.io import loadmat\n",
    "\n",
    "sys.path.insert(0, '/Users/basilminkov/Scripts/python3/')\n",
    "sys.path.insert(0, '/Users/basilminkov/Scripts/python3/Neuroimaging')\n",
    "from Neuroimaging.data import load_data, parse_channels_locations_from_mat, ch_names32\n",
    "from Neuroimaging.algorythms import test_rolling_variance_maximisation\n",
    "from Neuroimaging.utilities import ProgressBar\n",
    "\n",
    "%matplotlib inline\n",
    "warnings.filterwarnings(\"ignore\")  # Ignor warnings\n",
    "\n",
    "import matplotlib.pyplot as plt\n",
    "from scipy.signal import firwin, hilbert\n",
    "\n",
    "fig_size = [8, 6]  # Set figure size\n",
    "plt.rcParams[\"figure.figsize\"] = fig_size"
   ]
  },
  {
   "cell_type": "code",
   "execution_count": 24,
   "metadata": {},
   "outputs": [
    {
     "name": "stdout",
     "output_type": "stream",
     "text": [
      "Test rolling variance maximisation\n",
      "[####################] 100% {} – {} Hz: frequency band is done!.\n",
      "Test is done!"
     ]
    }
   ],
   "source": [
    "# Prepossessing\n",
    "\n",
    "data_real = loadmat(\"/Users/basilminkov/Downloads/aa_imag_ec_1.mat\")\n",
    "data_real = loadmat(\"/Users/basilminkov/Downloads/aa_imag_eo_1.mat\")\n",
    "\n",
    "df_real = data_real[\"data_cur\"][:, :-20]\n",
    "df_mock = data_real[\"data_cur\"][:, :-20]\n",
    "\n",
    "chan = np.array([i[0] for i in data_real[\"chan_names\"][0]])\n",
    "\n",
    "df_real = pd.DataFrame(df_real.T, columns=chan)\n",
    "df_real = pd.concat([df_real,\n",
    "                     pd.DataFrame({\"block_name\": [\"Real\" for i in range(df_real.shape[0])]})], axis=1)\n",
    "\n",
    "df_mock = pd.DataFrame(df_mock.T, columns=chan)\n",
    "df_mock = pd.concat([df_mock,\n",
    "                     pd.DataFrame({\"block_name\": [\"Mock\" for i in range(df_real.shape[0])]})], axis=1)\n",
    "\n",
    "df = pd.concat([df_real, df_mock])\n",
    "df = df.drop('AUX', axis=1)\n",
    "chan = chan[0:-1]\n",
    "\n",
    "p_value_leftsided, p_value_rightsided, values_list_sampled, vectors_list, values_list, frequencies = test_rolling_variance_maximisation(df, chan)"
   ]
  },
  {
   "cell_type": "code",
   "execution_count": 5,
   "metadata": {},
   "outputs": [],
   "source": [
    "def onclick(event):\n",
    "    print('%s click: button=%d, x=%d, y=%d, xdata=%f, ydata=%f' %\n",
    "          ('double' if event.dblclick else 'single', event.button,\n",
    "           event.x, event.y, event.xdata, event.ydata))\n",
    "\n",
    "    ax[0].cla()\n",
    "    ax[1].cla()\n",
    "    ax[0].imshow(p_value_rightsided, cmap=colour_map)\n",
    "    mne.viz.plot_topomap(np.random.random(32), ch2[:, [1, 0]], names=chan, show_names=True, axes=ax[1],\n",
    "                         cmap=colour_map, show=False, contours=False)\n",
    "    fig.canvas.draw()"
   ]
  },
  {
   "cell_type": "code",
   "execution_count": 21,
   "metadata": {},
   "outputs": [
    {
     "name": "stdout",
     "output_type": "stream",
     "text": [
      "Using False as contours is deprecated and will not be allowed in 0.16. Use 0 instead.\n"
     ]
    },
    {
     "ename": "ValueError",
     "evalue": "Data and pos need to be of same length. Got data of length 23, pos of length 32",
     "output_type": "error",
     "traceback": [
      "\u001b[0;31m---------------------------------------------------------------------------\u001b[0m",
      "\u001b[0;31mValueError\u001b[0m                                Traceback (most recent call last)",
      "\u001b[0;32m<ipython-input-21-d0290e7841f7>\u001b[0m in \u001b[0;36m<module>\u001b[0;34m()\u001b[0m\n\u001b[1;32m     10\u001b[0m \u001b[0;34m\u001b[0m\u001b[0m\n\u001b[1;32m     11\u001b[0m mne.viz.plot_topomap(np.arange(len(chan)), ch2[:, [1, 0]], names=chan, show_names=True, axes=ax[1], cmap=colour_map,\n\u001b[0;32m---> 12\u001b[0;31m                      show=False, contours=False)\n\u001b[0m\u001b[1;32m     13\u001b[0m \u001b[0max\u001b[0m\u001b[0;34m[\u001b[0m\u001b[0;36m1\u001b[0m\u001b[0;34m]\u001b[0m\u001b[0;34m.\u001b[0m\u001b[0mset_title\u001b[0m\u001b[0;34m(\u001b[0m\u001b[0;34m\"My bro!\"\u001b[0m\u001b[0;34m)\u001b[0m\u001b[0;34m\u001b[0m\u001b[0m\n\u001b[1;32m     14\u001b[0m \u001b[0;34m\u001b[0m\u001b[0m\n",
      "\u001b[0;32m~/anaconda3/lib/python3.6/site-packages/mne/viz/topomap.py\u001b[0m in \u001b[0;36mplot_topomap\u001b[0;34m(data, pos, vmin, vmax, cmap, sensors, res, axes, names, show_names, mask, mask_params, outlines, image_mask, contours, image_interp, show, head_pos, onselect)\u001b[0m\n\u001b[1;32m    607\u001b[0m     \u001b[0;32mif\u001b[0m \u001b[0mlen\u001b[0m\u001b[0;34m(\u001b[0m\u001b[0mdata\u001b[0m\u001b[0;34m)\u001b[0m \u001b[0;34m!=\u001b[0m \u001b[0mlen\u001b[0m\u001b[0;34m(\u001b[0m\u001b[0mpos\u001b[0m\u001b[0;34m)\u001b[0m\u001b[0;34m:\u001b[0m\u001b[0;34m\u001b[0m\u001b[0m\n\u001b[1;32m    608\u001b[0m         raise ValueError(\"Data and pos need to be of same length. Got data of \"\n\u001b[0;32m--> 609\u001b[0;31m                          \"length %s, pos of length %s\" % (len(data), len(pos)))\n\u001b[0m\u001b[1;32m    610\u001b[0m \u001b[0;34m\u001b[0m\u001b[0m\n\u001b[1;32m    611\u001b[0m     \u001b[0mnorm\u001b[0m \u001b[0;34m=\u001b[0m \u001b[0mmin\u001b[0m\u001b[0;34m(\u001b[0m\u001b[0mdata\u001b[0m\u001b[0;34m)\u001b[0m \u001b[0;34m>=\u001b[0m \u001b[0;36m0\u001b[0m\u001b[0;34m\u001b[0m\u001b[0m\n",
      "\u001b[0;31mValueError\u001b[0m: Data and pos need to be of same length. Got data of length 23, pos of length 32"
     ]
    },
    {
     "data": {
      "image/png": "[encoded data removed]",
      "text/plain": [
       "<matplotlib.figure.Figure at 0x103bf3a58>"
      ]
     },
     "metadata": {},
     "output_type": "display_data"
    }
   ],
   "source": [
    "colour_map = \"viridis\"\n",
    "channels_path = \"/Users/basilminkov/Scripts/python3/Neuroimaging/static/chanlocs_mod.mat\"\n",
    "ch3 = parse_channels_locations_from_mat(channels_path)\n",
    "ch2 = np.delete(ch3, 2, 1)\n",
    "\n",
    "a = np.identity(15) * 1.5 + np.random.random([15, 15])\n",
    "\n",
    "fig, ax = plt.subplots(nrows=1, ncols=2, figsize=(15, 6))\n",
    "ax[0].imshow(p_value_rightsided, cmap=colour_map)\n",
    "\n",
    "mne.viz.plot_topomap(np.arange(len(chan)), ch2[:, [1, 0]], names=chan, show_names=True, axes=ax[1], cmap=colour_map,\n",
    "                     show=False, contours=False)\n",
    "ax[1].set_title(\"My bro!\")\n",
    "\n",
    "cid = fig.canvas.mpl_connect('button_press_event', onclick)\n",
    "\n",
    "plt.show()"
   ]
  },
  {
   "cell_type": "code",
   "execution_count": 22,
   "metadata": {},
   "outputs": [
    {
     "data": {
      "text/plain": [
       "{'__globals__': [],\n",
       " '__header__': b'MATLAB 5.0 MAT-file, Platform: PCWIN, Created on: Wed Nov 09 15:35:33 2016',\n",
       " '__version__': '1.0',\n",
       " 'chan_names': array([[array(['T5'],\n",
       "       dtype='<U2'), array(['T3'],\n",
       "       dtype='<U2'),\n",
       "         array(['F7'],\n",
       "       dtype='<U2'), array(['F3'],\n",
       "       dtype='<U2'),\n",
       "         array(['C3'],\n",
       "       dtype='<U2'), array(['P3'],\n",
       "       dtype='<U2'),\n",
       "         array(['Fp1'],\n",
       "       dtype='<U3'),\n",
       "         array(['Fpz'],\n",
       "       dtype='<U3'),\n",
       "         array(['A1'],\n",
       "       dtype='<U2'), array(['O1'],\n",
       "       dtype='<U2'),\n",
       "         array(['Cz'],\n",
       "       dtype='<U2'), array(['Oz'],\n",
       "       dtype='<U2'),\n",
       "         array(['Fz'],\n",
       "       dtype='<U2'), array(['Pz'],\n",
       "       dtype='<U2'),\n",
       "         array(['O2'],\n",
       "       dtype='<U2'), array(['A2'],\n",
       "       dtype='<U2'),\n",
       "         array(['Fp2'],\n",
       "       dtype='<U3'),\n",
       "         array(['P4'],\n",
       "       dtype='<U2'), array(['C4'],\n",
       "       dtype='<U2'),\n",
       "         array(['F4'],\n",
       "       dtype='<U2'), array(['F8'],\n",
       "       dtype='<U2'),\n",
       "         array(['T4'],\n",
       "       dtype='<U2'), array(['T6'],\n",
       "       dtype='<U2'),\n",
       "         array(['AUX'],\n",
       "       dtype='<U3')]], dtype=object),\n",
       " 'data_cur': array([[ -5875.37890625,  -5874.52050781,  -5871.40917969, ...,\n",
       "              0.        ,      0.        ,      0.        ],\n",
       "        [ -4605.85351562,  -4605.22753906,  -4601.79443359, ...,\n",
       "              0.        ,      0.        ,      0.        ],\n",
       "        [ -5264.04980469,  -5264.65771484,  -5261.83251953, ...,\n",
       "              0.        ,      0.        ,      0.        ],\n",
       "        ..., \n",
       "        [  -677.79418945,   -680.26184082,   -681.96057129, ...,\n",
       "              0.        ,      0.        ,      0.        ],\n",
       "        [ -2451.30664062,  -2452.2722168 ,  -2452.4152832 , ...,\n",
       "              0.        ,      0.        ,      0.        ],\n",
       "        [ 32167.17773438,  32152.37304688,  32167.58984375, ...,\n",
       "              0.        ,      0.        ,      0.        ]]),\n",
       " 'srate': array([[250]], dtype=uint8),\n",
       " 'states_cur': array([[1, 1, 1, ..., 6, 6, 6]], dtype=uint8)}"
      ]
     },
     "execution_count": 22,
     "metadata": {},
     "output_type": "execute_result"
    }
   ],
   "source": [
    "data_real[]"
   ]
  },
  {
   "cell_type": "code",
   "execution_count": null,
   "metadata": {
    "collapsed": true
   },
   "outputs": [],
   "source": []
  }
 ],
 "metadata": {
  "kernelspec": {
   "display_name": "Python 3",
   "language": "python",
   "name": "python3"
  },
  "language_info": {
   "codemirror_mode": {
    "name": "ipython",
    "version": 3
   },
   "file_extension": ".py",
   "mimetype": "text/x-python",
   "name": "python",
   "nbconvert_exporter": "python",
   "pygments_lexer": "ipython3",
   "version": "3.6.3"
  }
 },
 "nbformat": 4,
 "nbformat_minor": 2
}
